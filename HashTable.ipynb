{
 "cells": [
  {
   "cell_type": "markdown",
   "metadata": {
    "id": "rvIXzvLp90be"
   },
   "source": [
    "Nom Etudiant 1: <font color='blue'>PARNICHTHANAKOM Pornpround</font>"
   ]
  },
  {
   "cell_type": "markdown",
   "metadata": {
    "id": "MoRHY5QImaqy"
   },
   "source": [
    "# TME 2.1 : Projet Detection de motifs - Hash Table\n",
    "\n",
    "Nous allons développer des algorithmes pour chercher de motifs dans des séquences d'ADN. Pour commencer, nous allons générer des données artificielles qui nous permettront de tester rapidement nos algorithmes (**Partie A**). Ensuite, nous allons chercher les motifs dans le génome _C. glabrata_ et analyser les résultats (**Partie B**). Finalement, nous allons appliquer les algorithmes developées pour chercher de motifs dans les données de ChipSeq de _C. glabrata_ (**Partie C**).\n",
    "\n",
    "## Partie A : Recherche de pattern (motifs) identiques"
   ]
  },
  {
   "cell_type": "markdown",
   "metadata": {
    "id": "bmMkaXpwmaq9"
   },
   "source": [
    "1\\. Faites une fonction pour générer aléatoirement des séquences artificielles. Utilisez les fonctions de la bibliothèque `random`. Toutes les lettres peuvent être équiprobables pour la génération des séquences. Si le nombre de séquences est égal à 1 (`n = 1`), renvoyez une chaîne (string) de caractères au lieu d'une liste."
   ]
  },
  {
   "cell_type": "code",
   "execution_count": 21,
   "metadata": {
    "id": "c8RaBfm0maq-"
   },
   "outputs": [
    {
     "data": {
      "text/plain": [
       "['CCTAGAAG', 'GATGGTCT', 'GTTCGGAT']"
      ]
     },
     "execution_count": 21,
     "metadata": {},
     "output_type": "execute_result"
    }
   ],
   "source": [
    "import random\n",
    "\n",
    "nuc = ('A', 'C', 'G', 'T')\n",
    "\n",
    "# Pour faire un test simple\n",
    "n = 3 # nombre de séquences\n",
    "t = 8 # taille des séquences\n",
    "\n",
    "def generateRandomSequences(n:int, t:int, upper = True):\n",
    "    \"\"\"\n",
    "    Génére plusieurs séquences nucléotidiques aléatoires \n",
    "    entrée n : nombre de séquences\n",
    "    entrée t : taille des séquences\n",
    "    entrée upper : bool, si True, les nucléotides seront majuscule, False, minuscule\n",
    "    sortie séquences : liste de séquences nucléotidiques aléatoires ou un string si n = 1\n",
    "    \"\"\"\n",
    "    \n",
    "    sequences = []\n",
    "\n",
    "    for i in range(n) :\n",
    "        aux = \"\"\n",
    "        for i in range(t) :\n",
    "            aux += random.choice(nuc)\n",
    "        if upper : sequences.append(aux.upper())\n",
    "        else : sequences.append(aux.lower())\n",
    "    \n",
    "    if n == 1 :\n",
    "        return sequences[0]\n",
    "    \n",
    "    return sequences\n",
    "\n",
    "generateRandomSequences(n = n, t = t, upper = True)"
   ]
  },
  {
   "cell_type": "code",
   "execution_count": 22,
   "metadata": {},
   "outputs": [
    {
     "data": {
      "text/plain": [
       "str"
      ]
     },
     "execution_count": 22,
     "metadata": {},
     "output_type": "execute_result"
    }
   ],
   "source": [
    "type(generateRandomSequences(n = 1, t = t, upper = True))"
   ]
  },
  {
   "cell_type": "markdown",
   "metadata": {},
   "source": [
    "2\\. Puis, générez `n = 10` séquences de `t = 41` nucléotides chacune. Pour obtenir le même résultat dans le développement de ce TME, choisissez un \"seed\", mais différent de celui de vos camarades. Pensez à changer le `seed` pour effectuer des tests variés."
   ]
  },
  {
   "cell_type": "code",
   "execution_count": 24,
   "metadata": {},
   "outputs": [
    {
     "name": "stdout",
     "output_type": "stream",
     "text": [
      "ACATCCCTAGAAGGATGGTCTGTTCGGATCTGTTTCTTAGA\n",
      "GTGCCACCTACACACTAACCCATTGGTGGTAACCACTCTGA\n",
      "CTATTCGTGTAATAAGACAAGACGGCTGGATCGGCTTCTCT\n",
      "CGAGGGATTACCTGAGAGGTAGTGTTGGCCGTCGATTTAAT\n",
      "GAGCTTGTGTTTATGCAGTACGTCAGGAAATCTCAGCCATT\n",
      "TCTTGCTATACTCTCGTCAAGCATCAGTAGCGATGGTGTCG\n",
      "GTGGCGGGATCAGGGGCAGTTCCTCATCTACTGCGGCAGTG\n",
      "GGGTCCGACAACCTACCGGTCGCACCAGTTTACCCGTTATA\n",
      "CGTCAGAGAGCTACCAGTAATTAACATGCCAATCGGAGTGT\n",
      "TCTTCGTCACGAGCCTTCTAGAGAAATTGATGCAGCTCGTC\n"
     ]
    }
   ],
   "source": [
    "# Pour obtenir les séquences artificielles\n",
    "n = 10\n",
    "t = 41\n",
    "\n",
    "seed = 3582 \n",
    "\n",
    "random.seed(seed)\n",
    "\n",
    "seqs = generateRandomSequences(n,t)\n",
    "\n",
    "for seq in seqs:\n",
    "    print(seq)"
   ]
  },
  {
   "cell_type": "markdown",
   "metadata": {
    "id": "PcesMqoNmarD"
   },
   "source": [
    "3\\. Nous allons maintenant implanter dans les séquences artificielles generés avant un motif de taille `k = 4` à des positions aléatoires (choisies uniformément le long de la séquence). Controlez le `upper` pour visualiser le motif. **BONUS :** on considère une proportion `f = 0.9` de séquences qui possèdent le motif."
   ]
  },
  {
   "cell_type": "code",
   "execution_count": 25,
   "metadata": {
    "id": "7lVbiVK7marF"
   },
   "outputs": [
    {
     "name": "stdout",
     "output_type": "stream",
     "text": [
      "Le motif géneré est :  ACAT\n",
      "ACATCCCTAGAAGGATGGTCTGTTCGGATCTGTTTCacatTTAGA\n",
      "GTGCCACCTacatACACACTAACCCATTGGTGGTAACCACTCTGA\n",
      "CTATTCGTGTAATAacatAGACAAGACGGCTGGATCGGCTTCTCT\n",
      "CGAGGGATTACCacatTGAGAGGTAGTGTTGGCCGTCGATTTAAT\n",
      "GAGCTTGTGTTTATGCAGTACGTCAGacatGAAATCTCAGCCATT\n",
      "TCTTGCacatTATACTCTCGTCAAGCATCAGTAGCGATGGTGTCG\n",
      "GTGGCGGGATCAGGGGCacatAGTTCCTCATCTACTGCGGCAGTG\n",
      "GGGTacatCCGACAACCTACCGGTCGCACCAGTTTACCCGTTATA\n",
      "CGTCAGAGAGCTACCAGTAATTAACATGCCAATCacatGGAGTGT\n",
      "acatTCTTCGTCACGAGCCTTCTAGAGAAATTGATGCAGCTCGTC\n"
     ]
    }
   ],
   "source": [
    "k = 4 # taille des motifs\n",
    "# Pour le bonus\n",
    "f = 0.9 # fréquence d'occurences des motifs\n",
    "\n",
    "def implantMotifs(motifs:str, sequences:list, f = 1):\n",
    "    \"\"\"\n",
    "    Insére un motif dans des positions aléatoires des séquences\n",
    "    entrée motifs : motif qui va être implanté dans les séquences\n",
    "    entrée séquences : liste de séquences\n",
    "    entrée f : fréquence d'implantation, si 1, toutes les séquences contiendront un motif\n",
    "    sortie modified_sequences: liste de séquences ayant le motif implanté\n",
    "    \"\"\"\n",
    "\n",
    "    if f == 1 :\n",
    "        modified_sequences = []\n",
    "        for seq in sequences : \n",
    "            pos = random.randint(0,len(seq)-1)\n",
    "            modified_sequences.append(seq[:pos].upper()+motifs.lower()+seq[pos:].upper())\n",
    "        return modified_sequences\n",
    "    \n",
    "    not_implanted = sequences\n",
    "    implanted = []\n",
    "    while len(implanted)/len(sequences) < f :\n",
    "        seq = random.choice(not_implanted)\n",
    "        not_implanted.remove(seq)\n",
    "        pos = random.randint(0,len(seq)-1)\n",
    "        implanted.append(seq[:pos].upper()+motifs.lower()+seq[pos:].upper())\n",
    "      \n",
    "    return implanted + not_implanted\n",
    "\n",
    "# Pour obtenir le même résultat que dans le dévelopent de ce TME\n",
    "random.seed(seed)\n",
    "\n",
    "motif = generateRandomSequences(1,4)\n",
    "seqs_implanted = implantMotifs(motif,seqs,1)\n",
    "\n",
    "print(\"Le motif géneré est : \", motif)\n",
    "\n",
    "for seq in seqs_implanted:\n",
    "    print(seq)"
   ]
  },
  {
   "cell_type": "markdown",
   "metadata": {
    "id": "xiIkrujLmarJ"
   },
   "source": [
    "4\\. Faites une fonction pour chercher les $m$ motifs de taille $k$ les plus fréquents dans l'ensemble des séquences."
   ]
  },
  {
   "cell_type": "code",
   "execution_count": 26,
   "metadata": {
    "id": "LPsYkRG1marK"
   },
   "outputs": [
    {
     "name": "stdout",
     "output_type": "stream",
     "text": [
      "{'TAA': 3, 'AAG': 1, 'AGT': 1, 'GTA': 1, 'TAT': 2, 'ATA': 1, 'CTA': 1, 'ATC': 1}\n"
     ]
    }
   ],
   "source": [
    "def searchMotifs(k:int, sequences:list):\n",
    "    \"\"\"\n",
    "    Cherche les motifs de taille k dans un ensemble de séquences\n",
    "    entrée k : taille du motif\n",
    "    entrée séquences : liste de séquences\n",
    "    sortie motifs: dictionnaire de motifs, clé = motif, valeur = fréquence d'observation\n",
    "    >>>searchMotifs(3, ['TAAGTAA', 'TATAA', 'CTATC'])\n",
    "    {'TAA': 3, 'AAG': 1, 'AGT': 1, 'GTA': 1, 'TAT': 2, 'ATA': 1, 'CTA': 1, 'ATC': 1}\n",
    "    \"\"\"\n",
    "    \n",
    "    motifs  = {}\n",
    "\n",
    "    for seq in sequences :\n",
    "        for i in range(len(seq)-k+1) :\n",
    "            aux = seq[i:i+k]\n",
    "            if aux in motifs : motifs[aux] += 1\n",
    "            else : motifs[aux] = 1\n",
    "    return motifs\n",
    "\n",
    "test_motifs = searchMotifs(3, ['TAAGTAA', 'TATAA', 'CTATC'])\n",
    "\n",
    "print(test_motifs)"
   ]
  },
  {
   "cell_type": "markdown",
   "metadata": {},
   "source": [
    "5\\. Faite aussi une fonction qu'affiche les `top` motifs les plus fréquents. Cette fonction peut également trier le dictionnaire de manière croissant ou décroissant."
   ]
  },
  {
   "cell_type": "code",
   "execution_count": 30,
   "metadata": {},
   "outputs": [
    {
     "name": "stdout",
     "output_type": "stream",
     "text": [
      "{'TAA': 3, 'TAT': 2}\n"
     ]
    }
   ],
   "source": [
    "def getTopMotifs(motifs:dict, top, decroissant = True):\n",
    "    \"\"\"\n",
    "    Renvoie les top motifs le plus fréquent\n",
    "    entrée motifs: dictionnaire de motifs, clé = motif, valeur = fréquence d'observation\n",
    "    entrée top : les top plus fréquent, si top == \"all\", ne filtrez pas et renvoyer le dictionnaire complet trié\n",
    "    entrée decroissant : bool, si True le dictionnaire est trié par ordre décroissant de valeur\n",
    "    sortie motifsfreq: dictionnaire contenant les top motifs les plus fréquents, clé = motif, valeur = fréquence d'observation\n",
    "    >>>getTopMotifs({'TAA': 3, 'AAG': 1, 'AGT': 1, 'GTA': 1, 'TAT': 2, 'ATA': 1, 'CTA': 1, 'ATC': 1}, 2)\n",
    "    {'TAA': 3, 'TAT': 2}\n",
    "    \"\"\"\n",
    "\n",
    "    lst = [(key,freq) for key,freq in motifs.items()]\n",
    "    lst.sort(key=lambda x : x[1], reverse=decroissant)\n",
    "\n",
    "    if top == \"all\" : return dict(lst)\n",
    "    return dict(lst[:top])\n",
    "    \n",
    "test_motifs_top = getTopMotifs(test_motifs, 2, decroissant = True)\n",
    "    \n",
    "print(test_motifs_top)"
   ]
  },
  {
   "cell_type": "markdown",
   "metadata": {},
   "source": [
    "6\\. Testez cette fonction sur un l'ensemble de séquences articielles avec le motif implanté généré dans les questions précédentes. Faites attention à ne pas comparer des séquences en majuscules avec des minuscules. Avez-vous trouvé le motif implanté ? Si oui, à quelle fréquence ?"
   ]
  },
  {
   "cell_type": "code",
   "execution_count": 31,
   "metadata": {},
   "outputs": [
    {
     "name": "stdout",
     "output_type": "stream",
     "text": [
      "Le motif géneré est :  ACAT\n",
      "{'ACAT': 12, 'CACA': 6, 'CATT': 6, 'CGTC': 6, 'GGAT': 5}\n",
      "Fréquence observé :  12\n"
     ]
    }
   ],
   "source": [
    "seqs_implanted_motifs = [seq.upper() for seq in seqs_implanted]\n",
    "seqs_implanted_motifs_top = getTopMotifs(searchMotifs(4,seqs_implanted_motifs),5,True)\n",
    "\n",
    "print(\"Le motif géneré est : \", motif)\n",
    "\n",
    "print(seqs_implanted_motifs_top)\n",
    "\n",
    "print(\"Fréquence observé : \", seqs_implanted_motifs_top[motif])"
   ]
  },
  {
   "cell_type": "markdown",
   "metadata": {
    "id": "G8Hw-Zj6marM"
   },
   "source": [
    "7\\. Quell est la complexité de votre algorithme?"
   ]
  },
  {
   "cell_type": "markdown",
   "metadata": {
    "id": "3uvvJvCKmarN"
   },
   "source": [
    "<font color='blue'>\n",
    "Votre réponse\n",
    "</font>"
   ]
  },
  {
   "cell_type": "markdown",
   "metadata": {
    "id": "H8HebyHumarO"
   },
   "source": [
    "8\\. Certains motifs sont reverse complémentaires. Implantez ces motifs reverse complémentaires dans les séquences artificielles déjà générées, puis recherchez ces motifs dans les séquences. **Attention** : vous devez réutiliser les fonctions développées précédemment. Il n’est pas nécessaire de définir de nouvelles fonctions.\n",
    "\n",
    "Pour cela, nous allons développer un module **Python** appelé **motifsSearch**.\n",
    "\n",
    "* Créez un fichier nommé `motifsSearch.py`.\n",
    "* Copiez et collez les fonctions déjà développées dans ce fichier texte.\n",
    "* Sauvegardez-le sous ce nom dans le même répertoire que les fichiers **Jupyter** où vous allez l'utiliser."
   ]
  },
  {
   "cell_type": "code",
   "execution_count": null,
   "metadata": {
    "id": "O_zGqHAFmarO"
   },
   "outputs": [],
   "source": [
    "# Reutiliser la fonction déjà defini (TME1.2_ORFs, Question 3)\n",
    "from motifsSearch import reversecompl\n",
    "\n",
    "motif_rv # Code\n",
    "\n",
    "seqs_implanted_rv # Code\n",
    "\n",
    "seqs_implanted_motifs_rv # Code\n",
    "\n",
    "seqs_implanted_motifs_top_rv # Code\n",
    "\n",
    "print(\"Le motif original est : \", motif)\n",
    "\n",
    "print(\"Le motif reverse est : \", motif_rv)\n",
    "\n",
    "print(seqs_implanted_motifs_top_rv)"
   ]
  },
  {
   "cell_type": "markdown",
   "metadata": {},
   "source": [
    "9\\. Sauvegardez vos séquenecs artificielles originales et implantées, ainsi que le motif généré pour les reutiliser les séances suivantes."
   ]
  },
  {
   "cell_type": "code",
   "execution_count": null,
   "metadata": {},
   "outputs": [],
   "source": [
    "seqs_file = \"seqs_artificielles.txt\"\n",
    "\n",
    "seqs_impl_file = \"seqs_artificielles_impl.txt\"\n",
    "\n",
    "motif_file = \"motif.txt\"\n",
    "\n",
    "# Code"
   ]
  },
  {
   "cell_type": "markdown",
   "metadata": {
    "id": "RyUhiM2XmarQ"
   },
   "source": [
    "\n",
    "## Partie B : Recherche de motifs identiques sur le génome de _C. glabrata_"
   ]
  },
  {
   "cell_type": "markdown",
   "metadata": {
    "id": "qjjE5tq9marQ"
   },
   "source": [
    "1\\. Le fichier **C_glabrata_1000bp_only.fasta** contiens les séquences régulatrices pour tous les gènes de votre organisme. Nous avons pris les 1000bp en amont du codon start. Cherchez les 50 motifs de taille 7 les plus fréquents dans votre génome. Pensez aussi à mesurer le temp utilisé pour obtenir les résultats avec la fonction `time.time()`."
   ]
  },
  {
   "cell_type": "code",
   "execution_count": null,
   "metadata": {
    "id": "-r1ASCFYmarR"
   },
   "outputs": [],
   "source": [
    "import time\n",
    "\n",
    "k = 7\n",
    "top = 50\n",
    "\n",
    "def readFasta(fastaFileName):\n",
    "    \"\"\"\n",
    "    Lit un fichier fasta\n",
    "    entrée fastaFileName: nom du fichier fasta\n",
    "    sortie séquences: liste contenant toutes les séquences du fichier\n",
    "    \"\"\"\n",
    "    \n",
    "    sequence = \"\"\n",
    "    sequences_list = []\n",
    "    prev_header = \"\"\n",
    "    header = \"\"\n",
    "        \n",
    "    for line in open(fastaFileName):\n",
    "        string = line.strip()\n",
    "        if string[0] != \">\":\n",
    "            if prev_header != header:\n",
    "                prev_header = header\n",
    "            sequence = sequence + string\n",
    "        else:\n",
    "            header = string\n",
    "            if sequence != \"\":\n",
    "                sequences_list.append(sequence)\n",
    "                sequence = \"\"\n",
    "\n",
    "    sequences_list.append(sequence)\n",
    "    return sequences_list\n",
    "\n",
    "# Téléchargér le génome\n",
    "genome = readFasta(\"C_glabrata_1000bp_only.fasta\")\n",
    "\n",
    "#  Mesurez le temps de calcul\n",
    "start # Code\n",
    "\n",
    "genome_motifs # Code\n",
    "\n",
    "genome_motifs_top # Code\n",
    "\n",
    "end # Code\n",
    "\n",
    "print(\"Top motifs :\\n\", genome_motifs_top)\n",
    "\n",
    "print(\"Temp :\", end - start)"
   ]
  },
  {
   "cell_type": "markdown",
   "metadata": {
    "id": "0e5fdIztmarS"
   },
   "source": [
    "2\\. Quel sont les trois motifs de taille 7 les plus fréquents? Pensez-vous que ces motifs correspondent à de facteur de transcription connus? Justifiez votre réponse."
   ]
  },
  {
   "cell_type": "markdown",
   "metadata": {
    "id": "8Zyhn6-PmarS"
   },
   "source": [
    "<font color='blue'>\n",
    "Votre réponse\n",
    "</font>"
   ]
  },
  {
   "cell_type": "markdown",
   "metadata": {
    "id": "NVUbnuGDmarT"
   },
   "source": [
    "3\\. Le motif **TGATTCAT** correspond au facteur de transcription **Gcn4**, qui est trés fréquemment retrouvé dans le génome des levures. Développez une fonction pour rechercher un motif spécifique dans un dictionnaire de motfis trouvés."
   ]
  },
  {
   "cell_type": "code",
   "execution_count": null,
   "metadata": {
    "id": "ZeMVGLjVmarT"
   },
   "outputs": [],
   "source": [
    "def searchGivenMotif(motifsTrouve, motifSpecifique, decroissant = True):\n",
    "    \"\"\"\n",
    "    Cherche un motif specifique dans un dictionnaire de motifs trouvés\n",
    "    entrée motifsTrouve : dictionnaire de motifs, clé = motif, valeur = fréquence d'observation\n",
    "    entrée motifSpecifique: un motif specifique à chercher\n",
    "    entrée decroissant : bool, si True, le dictionnaire est trié par ordre décroissant de valeur\n",
    "    sortie fréquence : la fréquence du motif\n",
    "    sortie ranking : dans quelle position le motif a été trouvé\n",
    "    >>>searchGivenMotif(test_motifs, \"TAT\")\n",
    "    (2, 2)\n",
    "    \"\"\"\n",
    "    \n",
    "    ranking = 0\n",
    "    frequence = 0\n",
    "    \n",
    "    return ranking, frequence\n",
    " \n",
    "searchGivenMotif(test_motifs, \"TAT\", decroissant = True)"
   ]
  },
  {
   "cell_type": "markdown",
   "metadata": {},
   "source": [
    "4\\. Essayez votre fonction avec le dictionnaire de motifs de _C. glabrata_. Est-ce que vous avez trouvé le motif de **Gcn4** ? Si oui, à quel ranking et avec quelle fréquence ?"
   ]
  },
  {
   "cell_type": "code",
   "execution_count": null,
   "metadata": {
    "scrolled": true
   },
   "outputs": [],
   "source": [
    "motifGcn4 = 'TGATTCA'\n",
    "\n",
    "gcn_rank, gcn_freq # Code\n",
    "\n",
    "print(\"Motif Gcn4 trouvé\\nRanking : %s\\nFréquence : %s\" % (gcn_rank, gcn_freq))"
   ]
  },
  {
   "cell_type": "markdown",
   "metadata": {
    "id": "Ibm0Eja2marU"
   },
   "source": [
    "5\\. Les motifs peu complexes, avec par exemple 5, 6 ou 7 fois la même lettre (homopolymères), sont courants dans les génomes et ils n'ont généralement pas de signification biologique. Faites une fonction pour éliminer les motifs peu complexes, _i. e._ qui ont au moins $m$ fois la même lettre. Faites attention au type d'objet d'entrée pour chaque fonction."
   ]
  },
  {
   "cell_type": "code",
   "execution_count": null,
   "metadata": {
    "id": "cFkaqI39marU"
   },
   "outputs": [],
   "source": [
    "def removeLowComplexeHomo(motifs:list, m:int):\n",
    "    \"\"\"\n",
    "    Enlève les motifs peu complexe ayant m fois le même nucléotide\n",
    "    entrée motifs: liste de motifs\n",
    "    entrée m: taille de repetition de nucléotide\n",
    "    sortie motifsClean: liste de motifs sans les motifs peu complexe\n",
    "    >>>removeLowComplexeHomo(['TAA', 'AAG', 'AGT', 'GTA', 'TAT', 'ATA', 'CTA', 'ATC'], 2)\n",
    "    ['AGT', 'GTA', 'CTA', 'ATC']\n",
    "    \"\"\"\n",
    "\n",
    "    motifsClean = []\n",
    "\n",
    "    return motifsClean\n",
    "\n",
    "test_motifs_list # Code\n",
    "\n",
    "removeLowComplexeHomo(test_motifs_list, 2)"
   ]
  },
  {
   "cell_type": "markdown",
   "metadata": {},
   "source": [
    "6\\. **BONUS :** Dans le context de ce projet, vous pouvez eliminer aussi les motifis ayant deux lettre répétés, comme par exemple **AGAGAGA** (heteropolymères). Vous pouvez aussi penser à supprimer heteropolymères avec une variation, par example **AGAGTAG**. Créez une fonction pour enlever ce type de motifs peu complex dans le dictionnaire test ci-dessou. Réfléchissez aux meilleurs paramètres pour reproduire le résultat exemple dans la description de la fonction."
   ]
  },
  {
   "cell_type": "code",
   "execution_count": null,
   "metadata": {},
   "outputs": [],
   "source": [
    "test_motifs_complex_list = ['GGTTTGG', 'TGAGTTA', 'TGCCGTG', 'AGAGAGA', 'TCACCGA', 'TTGGTAT', 'AGGGTGG', 'TGGCTTA', 'AGAGTAG', 'GCCCCTC']\n",
    "\n",
    "import re # TME1.2\n",
    "\n",
    "def removeLowComplexeHetero(motifs:list, n:int, variation = \"yes\"):\n",
    "    \"\"\"\n",
    "    Enlève les motifs peu complexe ayant n fois un dinucléotide\n",
    "    entrée motifs: liste de motifs, clé = motif, valeur = fréquence d'observation\n",
    "    entrée n: taille de répétition de dinucléotide\n",
    "    entrée variation : string, si \"yes\" permettre variation d'un nucléotide\n",
    "    sortie motifsClean: liste de motifs sans les motifs peu complexe\n",
    "    >>>removeLowComplexeHetero(['GGTTTGG', 'TGAGTTA', 'TGCCGTG', 'AGAGAGA', 'TCACCGA', 'TTGGTAT', 'AGGGTGG', 'TGGCTTA', 'AGAGTAG', 'GCCCCTC'], 3, variation = \"yes\")\n",
    "    ['GGTTTGG', 'TGAGTTA', 'TGCCGTG', 'AGAGAGA', 'TCACCGA', 'TTGGTAT', 'TGGCTTA', 'AGAGTAG']\n",
    "    \"\"\"\n",
    "    \n",
    "    motifsClean = []\n",
    "\n",
    "    return motifsClean"
   ]
  },
  {
   "cell_type": "markdown",
   "metadata": {},
   "source": [
    "Tests et résultats attendus."
   ]
  },
  {
   "cell_type": "code",
   "execution_count": null,
   "metadata": {
    "scrolled": false
   },
   "outputs": [],
   "source": [
    "test_motifs_complex_homo # Code\n",
    "\n",
    "# test_motifs_complex_homo_hetero # Code, si obtenu\n",
    "\n",
    "# test_motifs_complex_homo_hetero_var\n",
    "\n",
    "# test_motifs_complex_homo_hetero_var_2\n",
    "\n",
    "print(test_motifs_complex_homo)\n",
    "# Affichez, si obtenu\n",
    "#print(test_motifs_complex_homo_hetero)\n",
    "#print(test_motifs_complex_homo_hetero_var)\n",
    "#print(test_motifs_complex_homo_hetero_var_2)"
   ]
  },
  {
   "cell_type": "markdown",
   "metadata": {},
   "source": [
    "7\\. Filtrez les motif peu complexes dans votre génome. Combien de motifs y avait-il dans le dictionnaire original et combien en reste-t-il après chaque filtrage ?"
   ]
  },
  {
   "cell_type": "code",
   "execution_count": null,
   "metadata": {},
   "outputs": [],
   "source": [
    "# Attention au type d'objet\n",
    "\n",
    "genome_motifs_list # Code\n",
    "print(\"K-mers : %s\" % (len(genome_motifs)))\n",
    "\n",
    "genome_motifs_list # Code\n",
    "print(\"K-mers sans homopolymères : %s\" % (len(genome_motifs_list)))\n",
    "\n",
    "# BONUS\n",
    "#genome_motifs_list # Code, si obtenu\n",
    "#print(\"K-mers sans heteropolymères (variation = 'no') : %s\" % (len(genome_motifs_list)))\n",
    "\n",
    "# BONUS\n",
    "#genome_motifs_list # Code, si obtenu\n",
    "#print(\"K-mers sans heteropolymères (variation = 'yes') : %s\" % (len(genome_motifs_list)))"
   ]
  },
  {
   "cell_type": "markdown",
   "metadata": {},
   "source": [
    "8\\. Une fois que vous avez appris que les motifs peu complexes emmenent à recherches inutiles, créez une fonction amelliorée de `searchMotifs()` qui prend comme entrée une liste de séquences et une liste de motifs filtrée (sans peu complexes). Cette fonction abandone les recherches inutiles et considére juste les motifd dans la liste donée."
   ]
  },
  {
   "cell_type": "code",
   "execution_count": null,
   "metadata": {},
   "outputs": [],
   "source": [
    "def hashTable(sequences:list, kmersV:list):\n",
    "    \"\"\"\n",
    "    Cherche les motifs de taille k dans un ensemble de séquences avec la méthode de Hash Table\n",
    "    entrée séquences : liste de séquences\n",
    "    entrée kmersV: liste de Kmers valides à chercher\n",
    "    sortie motifs_freq_dict: dictionnaire de motifs, clé = motif, valeur = fréquence d'observation\n",
    "    >>>hashTable(['TAAGTAA', 'TATAA', 'CTATC'], ['TAA', 'AAG', 'AGT', 'GTA', 'TAT', 'ATA', 'CTA', 'ATC'])\n",
    "    {'TAA': 3, 'AAG': 1, 'AGT': 1, 'GTA': 1, 'TAT': 2, 'ATA': 1, 'CTA': 1, 'ATC': 1}\n",
    "    \"\"\"\n",
    "    \n",
    "    motifs_freq_dict  = {}\n",
    "    \n",
    "    return motifs_freq_dict\n",
    "\n",
    "hashTable(['TAAGTAA', 'TATAA', 'CTATC'], ['TAA', 'AAG', 'AGT', 'GTA', 'TAT', 'ATA', 'CTA', 'ATC'])"
   ]
  },
  {
   "cell_type": "markdown",
   "metadata": {},
   "source": [
    "9\\. Maintenant, cherchez les 50 motifs de taille 7 les plus fréquents dans les deux brin de votre génome. Utilisez la liste de motifs (k-mers) créé precedement. Est-ce que cela donne le même résultat dans les deux brins ? Dans quel position vous trouvez le motif **Gcn4** après utiliser la fonction modifiée `hashTable()` dans chaque brin ? Justifiez votre réponse."
   ]
  },
  {
   "cell_type": "markdown",
   "metadata": {},
   "source": [
    "**Brin 1**"
   ]
  },
  {
   "cell_type": "code",
   "execution_count": null,
   "metadata": {},
   "outputs": [],
   "source": [
    "genome_motifs # Code\n",
    "\n",
    "genome_motifs_top # Code\n",
    "\n",
    "print(\"Top motifs :\\n\", genome_motifs_top)"
   ]
  },
  {
   "cell_type": "markdown",
   "metadata": {},
   "source": [
    "**Brin 2**"
   ]
  },
  {
   "cell_type": "code",
   "execution_count": null,
   "metadata": {
    "scrolled": false
   },
   "outputs": [],
   "source": [
    "# Générer les séquences reverse complement\n",
    "genome_rev # Code\n",
    "\n",
    "genome_motifs_rev # Code\n",
    "\n",
    "genome_motifs_rev_top # Code\n",
    "\n",
    "print(\"Top motifs :\\n\", genome_motifs_rev_top)"
   ]
  },
  {
   "cell_type": "code",
   "execution_count": null,
   "metadata": {
    "scrolled": true
   },
   "outputs": [],
   "source": [
    "# Affiche résultats\n",
    "print(\"Brin 1\")\n",
    "gcn_rank_filt, gcn_freq_filt # Code\n",
    "print(\"Motif Gcn4 trouvé\\nRanking : %d\\nFrequence : %d\" % (gcn_rank_filt, gcn_freq_filt))\n",
    "\n",
    "print(\"\\n\")\n",
    "\n",
    "print(\"Brin 2\")\n",
    "gcn_rank_filt, gcn_freq_filt # Code\n",
    "print(\"Motif Gcn4 trouvé\\nRanking : %d\\nFrequence : %d\" % (gcn_rank_filt, gcn_freq_filt))"
   ]
  },
  {
   "cell_type": "markdown",
   "metadata": {},
   "source": [
    "<font color='blue'>\n",
    "Votre réponse\n",
    "</font>"
   ]
  },
  {
   "cell_type": "markdown",
   "metadata": {},
   "source": [
    "10\\. **BONUS**: Développez une fonction qui, à partir d'un dictionnaire de résultats déjà trié, regroupe les résultats du motif reverse complémentaire afin de faciliter la comparaison."
   ]
  },
  {
   "cell_type": "code",
   "execution_count": null,
   "metadata": {},
   "outputs": [],
   "source": [
    "def gatherRevCompMotifs(motifs_dict):\n",
    "    \"\"\"\n",
    "    Trouver les motifs reverse complementaire et rassembler leur résultats\n",
    "    entrée motifs_dict : dictionaire de résultats de recherche de motifs\n",
    "    sortie motifs_dict_gather : dictionaire de motifs, clé = motif, valeur = valeur motif fw, valeur motif rv\n",
    "    \"\"\"\n",
    "    \n",
    "    motifs_dict_gather = {}\n",
    "    \n",
    "    return motifs_dict_gather\n",
    "\n",
    "genome_motifs_gat = gatherRevCompMotifs(genome_motifs_rev)\n",
    "\n",
    "print(\"Dictionnare rassemblé:\")\n",
    "\n",
    "gcn_rank_filt, gcn_freq_filt # Code\n",
    "\n",
    "print(\"Motif Gcn4 trouvé\\nRanking : %d\\nFrequence : %s\" % (gcn_rank_filt, gcn_freq_filt))"
   ]
  },
  {
   "cell_type": "markdown",
   "metadata": {},
   "source": [
    "## Partie C : Recherche de motifs identiques sur vos données"
   ]
  },
  {
   "cell_type": "markdown",
   "metadata": {
    "id": "MrAPyMcPmarV"
   },
   "source": [
    "1\\. Le fichier \"Sequence_by_Peaks_##.fasta\" contiens les regions de peak trouvé par ChipSeq, qui contient probablement le Facteur de Transcription que nous cherchons. Apliquez les fonctions precedents pour chercher les 3 motifs les plus fréquents dans les deux brim. Il faut bien evidement enlever les motifs peu complexe. Essayez plusier tailles de motifs."
   ]
  },
  {
   "cell_type": "code",
   "execution_count": null,
   "metadata": {
    "id": "wIHGDtXDmarW",
    "scrolled": true
   },
   "outputs": [],
   "source": [
    "k = 7 # tester d'autres tailles k = 6, k = 8, etc.\n",
    "\n",
    "peaks # Code\n",
    "\n",
    "peaks_motifs_list # Code\n",
    "\n",
    "peaks_motifs # Code\n",
    "\n",
    "peaks_motifs_gat # Code\n",
    "\n",
    "peaks_motifs_top = getTopMotifs(peaks_motifs_gat, top)\n",
    "\n",
    "print(\"Top motifs :\\n\", peaks_motifs_top)"
   ]
  },
  {
   "cell_type": "markdown",
   "metadata": {
    "id": "MEBziFExmarX"
   },
   "source": [
    "2\\. Ulitsez la base YEASTRACT : http://www.yeastract.com/formsearchbydnamotif.php pour chercher les motifs. \n",
    "Avez vous une indication pour le facteur de transcription impliqué ?"
   ]
  },
  {
   "cell_type": "markdown",
   "metadata": {
    "id": "ORwePIySLfa9"
   },
   "source": [
    "<font color='blue'>\n",
    "Votre réponse\n",
    "</font>"
   ]
  }
 ],
 "metadata": {
  "colab": {
   "provenance": [
    {
     "file_id": "1EjIGusPzKCI72OQrx5Rtlj8oVxAaye6L",
     "timestamp": 1676288131249
    }
   ]
  },
  "kernelspec": {
   "display_name": "Python 3 (ipykernel)",
   "language": "python",
   "name": "python3"
  },
  "language_info": {
   "codemirror_mode": {
    "name": "ipython",
    "version": 3
   },
   "file_extension": ".py",
   "mimetype": "text/x-python",
   "name": "python",
   "nbconvert_exporter": "python",
   "pygments_lexer": "ipython3",
   "version": "3.12.4"
  }
 },
 "nbformat": 4,
 "nbformat_minor": 1
}
