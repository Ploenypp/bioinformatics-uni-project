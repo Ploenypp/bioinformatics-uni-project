{
 "cells": [
  {
   "cell_type": "markdown",
   "metadata": {
    "id": "e6SSCja7My_c"
   },
   "source": [
    "Nom Etudiant 1: <font color='blue'>NOM Prénom</font>\n",
    "<br>\n",
    "Nom Etudiant 2: <font color='blue'>NOM Prénom</font>"
   ]
  },
  {
   "cell_type": "markdown",
   "metadata": {
    "id": "Rx466dVIpn3_"
   },
   "source": [
    "# TME 2.2 : Projet Detection de motifs - Median String\n",
    "\n",
    "Les motifs que nous cherchons dans les séquences d'ADN peuvent présenter certaines variations ou mutations. Nous allons développer différents algorithmes pour la recherche de motifs variables (**Partie A**), puis améliorer cette recherche en intégrant une liste étendue de motifs de référence et en développant des fonctions pour l'algorithme Median String (**Partie B**), avant d'appliquer ces approches aux données de ChIP-Seq de _C. glabrata_ (**Partie C**).\n",
    "\n",
    "## Partie A : Recheche de pattern (motifs) en permettant des variations"
   ]
  },
  {
   "cell_type": "markdown",
   "metadata": {
    "id": "fdcJxBtVpn4F"
   },
   "source": [
    "1\\. Comme dans le TME precedent, nous alons utiliser des données atificielles pour pouvoir tester les algorithmes. Reutilisez les séquences artificielles de taille `t = 41` et le motif de taille `k = 4` sauvegardés le TME précédente."
   ]
  },
  {
   "cell_type": "code",
   "execution_count": null,
   "metadata": {},
   "outputs": [],
   "source": [
    "seqs_file = 'seqs_artificielles.txt'\n",
    "\n",
    "# Code\n",
    "        \n",
    "for seq in seqs:\n",
    "    print(seq)\n",
    "\n",
    "motif_file = \"motif.txt\"\n",
    "\n",
    "# Code\n",
    "\n",
    "print(\"\\nLe motif géneré était :\", motif)"
   ]
  },
  {
   "cell_type": "markdown",
   "metadata": {},
   "source": [
    "2\\. Jusqu'à maintenant, nous avons travaillé avec des motifs invariables. Cependant, dans les données biologiques, les motifs peuvent présenter des variations. Créez une fonction pour faire varier un motif selon un certain nombre de positions `v`."
   ]
  },
  {
   "cell_type": "code",
   "execution_count": null,
   "metadata": {
    "scrolled": true
   },
   "outputs": [],
   "source": [
    "import random\n",
    "\n",
    "nuc = ('A', 'C', 'G', 'T')\n",
    "\n",
    "# Pour obtenir le même résultat que dans le dévelopent de ce TME\n",
    "#random.seed(seed)\n",
    "\n",
    "v = 1 # nombre de positions variables dans le motif\n",
    "\n",
    "def modifierMotif(motif:str, v:int, upper = False):\n",
    "    \"\"\"\n",
    "    Modifie v positions d'un motif aléatoirement \n",
    "    entrée motif: motif à modifier\n",
    "    entrée v: nombre de positions à varier, si 0 le motif sera invariable\n",
    "    entrée upper : bool, si True les nucléotides modifiés seront majuscule, False minuscule\n",
    "    sortie motifM: motif modifié\n",
    "    \"\"\"\n",
    "    \n",
    "    motifM = \"\"\n",
    "    \n",
    "    return motifM\n",
    "\n",
    "print(\"Motif original : \", motif)\n",
    "\n",
    "# Tester la fonction modifierMotif plusieurs fois\n",
    "for i in range(0, 5):\n",
    "    print(modifierMotif(motif, 1, upper = False))"
   ]
  },
  {
   "cell_type": "markdown",
   "metadata": {},
   "source": [
    "3\\. Modifiez la fonction `implantMotifs()` de la séance précédente afin d’ajouter la possibilité de varier le motif implanté. Cette fois-ci, considérez que toutes les séquences contiendront un motif (`f1 = 1`). En revanche, seule une proportion des séquences (`f2 = 0.4`) inclura un motif modifié. Pour faciliter leur identification, implantez les motifs en minuscules.\n",
    "\n",
    "**BONUS :** Implantez un motif modifié dans une proportion de séquences légèrement inférieure (`f1 = 0.9`). Assurez-vous de ne pas ajouter un motif modifié si, par hasard, la fonction `modifierMotif()` génère le même motif que l’original."
   ]
  },
  {
   "cell_type": "code",
   "execution_count": null,
   "metadata": {
    "scrolled": true
   },
   "outputs": [],
   "source": [
    "f1 = 1\n",
    "f2 = 0.4\n",
    "\n",
    "# Pour obtenir le même résultat que dans le dévelopent de ce TME\n",
    "#random.seed(seed)\n",
    "\n",
    "def implantMotifsVar(motifs:str, sequences:list, v:int, f1 = 1, f2 = 0.4):\n",
    "    \"\"\"\n",
    "    Insére un motif dans des positions aléatoires des séquences\n",
    "    entrée motifs : motif qui va être implanté dans les séquences\n",
    "    entrée séquences : liste de séquences\n",
    "    entrée v: nombre de positions à varier, si 0 le motif sera invariable\n",
    "    entrée f : fréquence d'implantation, si 1 toutes les séquences contiendront un motif\n",
    "    sortie modified_sequences: liste de séquences ayant le motif implanté\n",
    "    \"\"\"\n",
    "    \n",
    "    modified_sequences = []\n",
    "            \n",
    "    return modified_sequences\n",
    "\n",
    "seqs_implanted = implantMotifsVar(motif, seqs, v, f1, f2)\n",
    "\n",
    "seqs_implanted"
   ]
  },
  {
   "cell_type": "markdown",
   "metadata": {},
   "source": [
    "4\\. Nous pouvons visualiser les motifs à l'aide des outils de WebLogo : https://weblogo.berkeley.edu/logo.cgi.\n",
    "Extrayez les motifs implantés dans vos séquences artificielles et visualisez-les à l'aide de WebLogo.\n",
    "Affichez le logo en utilisant **Markdown**."
   ]
  },
  {
   "cell_type": "code",
   "execution_count": null,
   "metadata": {
    "id": "TYCLBSw8pn4J",
    "scrolled": true
   },
   "outputs": [],
   "source": [
    "motifs_extraits # Code\n",
    "\n",
    "print(\"Motif original : \", motif)\n",
    "\n",
    "for motif_extrait in motifs_extraits:\n",
    "        print(motif_extrait)"
   ]
  },
  {
   "cell_type": "markdown",
   "metadata": {},
   "source": [
    "![Logo](Logo_GCGT.png)"
   ]
  },
  {
   "cell_type": "markdown",
   "metadata": {},
   "source": [
    "5\\. Insérez le motif reverse complémentaire dans les séquences contenant déjà un motif implanté. Si vous avez réussi le **BONUS** de la question 3, vous pouvez insérer ce motif reverse complémentaire avec une fréquence légèrement plus faible, afin de simuler une présence inégale du motif varié reverse complémentaire."
   ]
  },
  {
   "cell_type": "code",
   "execution_count": null,
   "metadata": {},
   "outputs": [],
   "source": [
    "# Importez vos fonctions\n",
    "\n",
    "seqs_implanted_rev # Code\n",
    "\n",
    "seqs_implanted_rev"
   ]
  },
  {
   "cell_type": "markdown",
   "metadata": {},
   "source": [
    "6\\. Sauvegardez vos séquences artificielles implantées avec les motifs variables, ainsi que les motifs variés générés, afin de les réutiliser lors des séances suivantes."
   ]
  },
  {
   "cell_type": "code",
   "execution_count": null,
   "metadata": {},
   "outputs": [],
   "source": [
    "seqs_impl_file = \"seqs_artificielles_impl_var.txt\"\n",
    "\n",
    "motif_file = \"motif_var.txt\"\n",
    "        \n",
    "# Code"
   ]
  },
  {
   "cell_type": "markdown",
   "metadata": {},
   "source": [
    "## Partie B : Amellioration de la recherche de motifs et développement de l'algorithme Median String "
   ]
  },
  {
   "cell_type": "markdown",
   "metadata": {},
   "source": [
    "1\\. Précédemment, nous avons recherché des motifs déjà présents dans nos données. Cependant, une meilleur option pourrait être de créer une liste de tous les motifs possibles d'une certaine taille, même si nous ne connaissons pas leur fréquence. Suivant cette logique, combien de motifs (k-mers) de taille `k = 4` pouvons-nous obtenir avec toutes les combinaisons possibles de nucléotides ? Effectuez le calcul avec les fonctions de **Python**. **BONUS :** vous pouvez utiliser **Markdown** en combinaison avec [LaTeX](https://fr.wikipedia.org/wiki/LaTeX), un système de composition de documents qui permet de représenter des expressions mathématiques (par example, $E = mc^2$) pour exprimer votre résultat."
   ]
  },
  {
   "cell_type": "code",
   "execution_count": null,
   "metadata": {},
   "outputs": [],
   "source": [
    "# Calculer en Python"
   ]
  },
  {
   "cell_type": "markdown",
   "metadata": {},
   "source": [
    "**BONUS :** Résultat exprimé avec LaTeX\n",
    "\n",
    "<font color='blue'>\n",
    "La quantité de k-mers possibles de taille 4 est donnée par: $4^{4}$ = 256\n",
    "</font>"
   ]
  },
  {
   "cell_type": "markdown",
   "metadata": {},
   "source": [
    "2\\. En utilisant les fonctions de la bibliothèque **itertools**, créez tous les k-mers possibles de taille `k = 4`."
   ]
  },
  {
   "cell_type": "code",
   "execution_count": null,
   "metadata": {},
   "outputs": [],
   "source": [
    "k = 4\n",
    "\n",
    "from itertools import product\n",
    "\n",
    "# Générer tous les k-mers de taille k ayant de AAA... à TTT...\n",
    "allkmers_k4 # Code\n",
    "\n",
    "# Visualiser les prémieres 10 k-mers\n",
    "print(allkmers_k4[0:10])"
   ]
  },
  {
   "cell_type": "markdown",
   "metadata": {},
   "source": [
    "3\\. Éliminez les motifs peu complexes pour éviter les calculs inutiles (motifs ayant plusieurs fois une base répétée, comme **AAAAAAC** ou deux bases répétées comme **ACACACAC**). Réutilisez les fonctions déjà définies (`removeLowComplexeHomo()` et `removeLowComplexeHetero()`) de la séance précédente. Faites attention au type d'objet d'entrée pour chaque fonction. Réfléchissez aux meilleurs paramètres pour filtrer les k-mers selon leur taille. Combien de k-mers restent après avoir supprimé ceux qui sont peu complexes ?"
   ]
  },
  {
   "cell_type": "code",
   "execution_count": null,
   "metadata": {},
   "outputs": [],
   "source": [
    "# Importez vos fonctions\n",
    "\n",
    "import re\n",
    "\n",
    "# Réponse BONUS TME2.1 question 6\n",
    "def removeLowComplexeHetero(motifs:list, n:int, variation = \"yes\"):\n",
    "    \"\"\"\n",
    "    Enlève les motifs peu complexe ayant n fois un dinucléotide\n",
    "    entrée motifs: liste de motifs, clé = motif, valeur = fréquence d'observation\n",
    "    entrée n: taille de répétition de dinucléotide\n",
    "    entrée variation : string, si \"yes\" permettre variation d'un nucléotide\n",
    "    sortie motifsClean: liste de motifs sans les motifs peu complexe\n",
    "    >>>removeLowComplexeHetero(['GGTTTGG', 'TGAGTTA', 'TGCCGTG', 'AGAGAGA', 'TCACCGA', 'TTGGTAT', 'AGGGTGG', 'TGGCTTA', 'AGAGTAG', 'GCCCCTC'], 3, variation = \"yes\")\n",
    "    ['GGTTTGG', 'TGAGTTA', 'TGCCGTG', 'AGAGAGA', 'TCACCGA', 'TTGGTAT', 'TGGCTTA', 'AGAGTAG']\n",
    "    \"\"\"\n",
    "    \n",
    "    motifsClean = []\n",
    "    trouve = []\n",
    "\n",
    "    # Créer une liste de dinucléotides sans mono dinucléotides\n",
    "    all_di_nuc = [nuc_1 + nuc_2 for nuc_1 in nuc for nuc_2 in nuc if nuc_1 != nuc_2]\n",
    "\n",
    "    # Pour chaque motif de la liste\n",
    "    for motif in motifs:\n",
    "        if variation == \"yes\":\n",
    "            # Permettre une varation\n",
    "            trouve = [nuc_di for nuc_di in all_di_nuc if len(re.findall(re.compile(\"(?=(\"+ nuc_di +\"))\"), motif)) >= n]\n",
    "\n",
    "        else:\n",
    "            # Pas permettre de varations\n",
    "            trouve = [nuc_di for nuc_di in all_di_nuc if len(re.findall(re.compile(\"(?=(\"+ nuc_di +\")\"+ nuc_di[0] +\")\"), motif)) >= n]\n",
    "\n",
    "        # Après avoir evalué tous les dinucléotides, évaluer si on a trouvé de dinucleotides\n",
    "        if len(trouve) == 0:\n",
    "            # Ajouter juste les motifs que n'ont pas eu des dinucléotides trouves\n",
    "            motifsClean.append(motif)\n",
    "        # Vider la liste\n",
    "        trouve = []\n",
    "\n",
    "    return motifsClean\n",
    "\n",
    "# Liste originale\n",
    "print(len(allkmers_k4))\n",
    "\n",
    "# Sans homo\n",
    "allkmers_k4 # Code\n",
    "\n",
    "print(len(allkmers_k4))\n",
    "\n",
    "# Sans hetero\n",
    "allkmers_k4 # Code\n",
    "\n",
    "print(len(allkmers_k4))"
   ]
  },
  {
   "cell_type": "markdown",
   "metadata": {
    "id": "LhfgfAkipn4Q"
   },
   "source": [
    "4\\. Implémentez l'algorithme _\"Median String Search\"_ pour chercher des motifs de taille variable. Tout d'abord, créez une fonction pour calculer la distance de Hamming."
   ]
  },
  {
   "cell_type": "code",
   "execution_count": null,
   "metadata": {
    "id": "e5biEcQGpn4R"
   },
   "outputs": [],
   "source": [
    "def hamDistance(str1:str, str2:str):\n",
    "    \"\"\"\n",
    "    Calcul la distance de Hamming entre deux chaînes de caractères\n",
    "    entrée str1: chaîne de caractères\n",
    "    entrée str2: chaîne de caractères\n",
    "    sortie distance: distance de Hamming\n",
    "    >>>hamDistance(\"TTGGTAT\", \"TTGCTAA\")\n",
    "    2\n",
    "    \"\"\"\n",
    "    \n",
    "    distance = 0\n",
    "    \n",
    "    return distance\n",
    "\n",
    "hamDistance(\"TTGGTAT\", \"TTGCTAA\")"
   ]
  },
  {
   "cell_type": "markdown",
   "metadata": {},
   "source": [
    "5\\. Postérieurement, créez une fonction permettant d'obtenir la distance totale minimale entre un motif et un ensemble de séquences."
   ]
  },
  {
   "cell_type": "code",
   "execution_count": null,
   "metadata": {},
   "outputs": [],
   "source": [
    "# Attention à ne pas comparer des séquences en majuscules avec des minuscules.\n",
    "\n",
    "def totalDistance(motif:str, sequences, k):\n",
    "    \"\"\"\n",
    "    Calcul la totalDistance\n",
    "    entrée motif: motif à comparer, chaîne de caractères\n",
    "    entrée sequences: liste de séquences\n",
    "    entrée k: taille du motif\n",
    "    sortie total_distance: somme de distance de hamming minimal\n",
    "    \"\"\"\n",
    "    \n",
    "    total_distance = 0\n",
    "    \n",
    "    return total_distance\n",
    "\n",
    "totalDistance(motif, seqs_implanted, k)"
   ]
  },
  {
   "cell_type": "markdown",
   "metadata": {},
   "source": [
    "6\\. Finalmente, implémentez l'algorithme complet pour tester un liste de motifs et produire un dictionnaire contenant toutes les distances calculées à partir de tous les motifs testés. Trouvez le motif qui donne la distance minimale avec `getTopMotifs()`. Faites attention à ordonner le dictionnaire  dans le bon sens (croissant ou decroissant)."
   ]
  },
  {
   "cell_type": "code",
   "execution_count": null,
   "metadata": {
    "scrolled": false
   },
   "outputs": [],
   "source": [
    "def medianStringSearch(sequences, kmersV):\n",
    "    \"\"\"\n",
    "    Implement l'algorithme MedianStringSearch\n",
    "    entrée séquences : liste de séquences\n",
    "    entrée kmersV: Liste de Kmers à chercher\n",
    "    sortie motif_dist_dict: un dictionnaire contenant les motifs et leurs distances\n",
    "    \"\"\"\n",
    "    \n",
    "    motif_dist_dict = {}\n",
    "    \n",
    "    return motif_dist_dict"
   ]
  },
  {
   "cell_type": "code",
   "execution_count": null,
   "metadata": {
    "scrolled": true
   },
   "outputs": [],
   "source": [
    "# Importez vos fonctions\n",
    "\n",
    "seqs_implanted_motifs # Code\n",
    "\n",
    "seqs_implanted_motifs_top # Code\n",
    "\n",
    "print(seqs_implanted_motifs_top)"
   ]
  },
  {
   "cell_type": "markdown",
   "metadata": {},
   "source": [
    "Avez-vous trouvé le motif implanté ? Parfois, le motif implanté n'est pas le plus fréquent. Vous pouvez explorer le dictionnaire obtenu avec la fonction  `searchGivenMotif()`."
   ]
  },
  {
   "cell_type": "code",
   "execution_count": null,
   "metadata": {},
   "outputs": [],
   "source": [
    "# Importez vos fonctions\n",
    "  \n",
    "# Code "
   ]
  },
  {
   "cell_type": "markdown",
   "metadata": {},
   "source": [
    "7\\. Rassemblez les résultats de l'algoritme MedianStringSearch sur les séquences du brin complementaire en réutilisant la fonction `gatherRevCompMotifs()`. Combien de motifs restent après avoir fusionné le dictionnaire ? Affichez le nouveau résultat."
   ]
  },
  {
   "cell_type": "code",
   "execution_count": null,
   "metadata": {
    "scrolled": false
   },
   "outputs": [],
   "source": [
    "# Importez vos fonctions\n",
    "\n",
    "print(\"Avant rassemblage :\")\n",
    "\n",
    "print(len(seqs_implanted_motifs))\n",
    "\n",
    "seqs_implanted_motifs_gat # Code\n",
    "\n",
    "print(\"Après rassemblage :\")\n",
    "\n",
    "print(len(seqs_implanted_motifs_gat))\n",
    "\n",
    "seqs_implanted_motifs_gat_top # Code\n",
    "\n",
    "print(seqs_implanted_motifs_gat_top)"
   ]
  },
  {
   "cell_type": "markdown",
   "metadata": {
    "id": "tgUYBJ0yQ3Dg"
   },
   "source": [
    "## Partie C : Recherche de motifs variable sur vos données"
   ]
  },
  {
   "cell_type": "markdown",
   "metadata": {
    "id": "I1zHn6NSQ2Xy"
   },
   "source": [
    "1\\. Utilisez le fichier \"Sequence_by_Peaks_##.fasta\", contenant les régions de peaks identifiées par ChIP-Seq, où se trouve probablement le facteur de transcription recherché. Appliquez l'algorithme Median String pour détecter les motifs Il faut bien evidement enlever les motifs peu complexe. Créez et testez different tailles de motifs. N'oubliez pas de rassembler le dictionnaire obtenu."
   ]
  },
  {
   "cell_type": "code",
   "execution_count": null,
   "metadata": {
    "id": "A6KINeGuREqA",
    "scrolled": true
   },
   "outputs": [],
   "source": [
    "k = 7 # tester d'autres tailles k = 6, k = 8, etc.\n",
    "\n",
    "m = 5\n",
    "\n",
    "n = 2\n",
    "\n",
    "from motifsSearch import readFasta\n",
    "\n",
    "peaks # Code\n",
    "\n",
    "allkmers_k7 # Code\n",
    "\n",
    "# Liste originel\n",
    "print(len(allkmers_k7))\n",
    "\n",
    "allkmers_k7 # Code\n",
    "\n",
    "# Sans homo\n",
    "print(len(allkmers_k7))\n",
    "\n",
    "allkmers_k7 # Code\n",
    "\n",
    "# Sans hetero\n",
    "print(len(allkmers_k7))"
   ]
  },
  {
   "cell_type": "code",
   "execution_count": null,
   "metadata": {
    "scrolled": true
   },
   "outputs": [],
   "source": [
    "peaks_motifs # Code\n",
    "\n",
    "peaks_motifs_top # Code\n",
    "\n",
    "print(\"Top motifs :\\n\", peaks_motifs_top)"
   ]
  },
  {
   "cell_type": "markdown",
   "metadata": {},
   "source": [
    "2\\. Parfois, la TATA box, un type de motif général présent dans les promoteurs de gènes, dépasse le seuil établi pour filtrer les homopolymères et hétéropolymères. Cependant, ces TATA box constituent des motifs généraux plutôt que spécifiques. Une approche \"naïve\" pour les éliminer consiste à filtrer les motifs contenant une forte proportion de nucléotides T et A. Créez une fonction qui supprime les motifs enrichis en T et A, en veillant à ne les retirer que si les deux nucléotides sont présents."
   ]
  },
  {
   "cell_type": "code",
   "execution_count": null,
   "metadata": {},
   "outputs": [],
   "source": [
    "p = 0.7\n",
    "\n",
    "def removeTARich(motifs:list, p:int):\n",
    "    \"\"\"\n",
    "    Enlève les motifs contenant > p de T et A en combination\n",
    "    entrée motifs: liste de motifs\n",
    "    entrée p: proportion de nucleótides T et A\n",
    "    sortie motifsClean: liste de motifs sans les motifs TA rich\n",
    "    \"\"\"\n",
    "\n",
    "    motifsClean = []\n",
    "\n",
    "    return motifsClean\n",
    "\n",
    "test_motifs_TA = ['ATTTTCA', 'TAATTTA', 'AAATTAT', 'TCTACGA', 'ACGCATT', 'ACAAGGT', 'GAAATTA', 'TTGTTGT', 'TATAGCA', 'TAGCCTT']\n",
    "\n",
    "removeTARich(test_motifs_TA, p)"
   ]
  },
  {
   "cell_type": "markdown",
   "metadata": {},
   "source": [
    "3\\. Retestez après avoir enlevé les motifs enrichis en TA."
   ]
  },
  {
   "cell_type": "code",
   "execution_count": null,
   "metadata": {},
   "outputs": [],
   "source": [
    "allkmers_k7 = removeTARich(allkmers_k7, p)\n",
    "\n",
    "peaks_motifs # Code\n",
    "\n",
    "peaks_motifs_top # Code\n",
    "\n",
    "print(\"Top motifs :\\n\", peaks_motifs_top)"
   ]
  },
  {
   "cell_type": "markdown",
   "metadata": {},
   "source": [
    "**NOTES :** Pensez à developer une fonction pour créer un liste de motifs de manière automatique. Aussi, appliquez les stratégies appris dans ce TME à l'algorithme de la Hash Table :\n",
    "\n",
    "* Utilisation d'une liste étendue de motifs de référence.\n",
    "* Suppression des séquences enrichies en T et A."
   ]
  }
 ],
 "metadata": {
  "colab": {
   "provenance": []
  },
  "kernelspec": {
   "display_name": "Python 3 (ipykernel)",
   "language": "python",
   "name": "python3"
  },
  "language_info": {
   "codemirror_mode": {
    "name": "ipython",
    "version": 3
   },
   "file_extension": ".py",
   "mimetype": "text/x-python",
   "name": "python",
   "nbconvert_exporter": "python",
   "pygments_lexer": "ipython3",
   "version": "3.9.13"
  }
 },
 "nbformat": 4,
 "nbformat_minor": 1
}
