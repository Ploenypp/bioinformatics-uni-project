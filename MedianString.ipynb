{
 "cells": [
  {
   "cell_type": "markdown",
   "metadata": {
    "id": "e6SSCja7My_c"
   },
   "source": [
    "Nom Etudiant 1: <font color='blue'>PARNICHTHANAKOM Pornpround</font>"
   ]
  },
  {
   "cell_type": "markdown",
   "metadata": {
    "id": "Rx466dVIpn3_"
   },
   "source": [
    "# TME 2.2 : Projet Detection de motifs - Median String\n",
    "\n",
    "Les motifs que nous cherchons dans les séquences d'ADN peuvent présenter certaines variations ou mutations. Nous allons développer différents algorithmes pour la recherche de motifs variables (**Partie A**), puis améliorer cette recherche en intégrant une liste étendue de motifs de référence et en développant des fonctions pour l'algorithme Median String (**Partie B**), avant d'appliquer ces approches aux données de ChIP-Seq de _C. glabrata_ (**Partie C**).\n",
    "\n",
    "## Partie A : Recheche de pattern (motifs) en permettant des variations"
   ]
  },
  {
   "cell_type": "markdown",
   "metadata": {
    "id": "fdcJxBtVpn4F"
   },
   "source": [
    "1\\. Comme dans le TME precedent, nous alons utiliser des données atificielles pour pouvoir tester les algorithmes. Reutilisez les séquences artificielles de taille `t = 41` et le motif de taille `k = 4` sauvegardés le TME précédente."
   ]
  },
  {
   "cell_type": "code",
   "execution_count": 1,
   "metadata": {},
   "outputs": [
    {
     "name": "stdout",
     "output_type": "stream",
     "text": [
      "ACATCCCTAGAAGGATGGTCTGTTCGGATCTGTTTCTTAGA\n",
      "GTGCCACCTACACACTAACCCATTGGTGGTAACCACTCTGA\n",
      "CTATTCGTGTAATAAGACAAGACGGCTGGATCGGCTTCTCT\n",
      "CGAGGGATTACCTGAGAGGTAGTGTTGGCCGTCGATTTAAT\n",
      "GAGCTTGTGTTTATGCAGTACGTCAGGAAATCTCAGCCATT\n",
      "TCTTGCTATACTCTCGTCAAGCATCAGTAGCGATGGTGTCG\n",
      "GTGGCGGGATCAGGGGCAGTTCCTCATCTACTGCGGCAGTG\n",
      "GGGTCCGACAACCTACCGGTCGCACCAGTTTACCCGTTATA\n",
      "CGTCAGAGAGCTACCAGTAATTAACATGCCAATCGGAGTGT\n",
      "TCTTCGTCACGAGCCTTCTAGAGAAATTGATGCAGCTCGTC\n",
      "\n",
      "Le motif géneré était : ACAT\n"
     ]
    }
   ],
   "source": [
    "from TME import *\n",
    "\n",
    "seqs_file = 'seqs_artificielles.txt'\n",
    "\n",
    "f = open(seqs_file,\"r\")\n",
    "tmp = f.readlines()\n",
    "seqs = []\n",
    "for line in tmp :\n",
    "    seqs.append(line[:-1])\n",
    "f.close()\n",
    "        \n",
    "for seq in seqs:\n",
    "    print(seq)\n",
    "\n",
    "motif_file = \"motif.txt\"\n",
    "f = open(motif_file,\"r\")\n",
    "motif = f.readline()\n",
    "f.close()\n",
    "\n",
    "print(\"\\nLe motif géneré était :\", motif)"
   ]
  },
  {
   "cell_type": "markdown",
   "metadata": {},
   "source": [
    "2\\. Jusqu'à maintenant, nous avons travaillé avec des motifs invariables. Cependant, dans les données biologiques, les motifs peuvent présenter des variations. Créez une fonction pour faire varier un motif selon un certain nombre de positions `v`."
   ]
  },
  {
   "cell_type": "code",
   "execution_count": 2,
   "metadata": {
    "scrolled": true
   },
   "outputs": [
    {
     "name": "stdout",
     "output_type": "stream",
     "text": [
      "Motif original :  ACAT\n",
      "ACAc\n",
      "ACAt\n",
      "ACcT\n",
      "tCAT\n",
      "ACtT\n"
     ]
    }
   ],
   "source": [
    "import random\n",
    "\n",
    "nuc = ('A', 'C', 'G', 'T')\n",
    "\n",
    "# Pour obtenir le même résultat que dans le dévelopent de ce TME\n",
    "#random.seed(seed)\n",
    "\n",
    "v = 1 # nombre de positions variables dans le motif\n",
    "\n",
    "def modifierMotif(motif:str, v:int, upper = False):\n",
    "    \"\"\"\n",
    "    Modifie v positions d'un motif aléatoirement \n",
    "    entrée motif: motif à modifier\n",
    "    entrée v: nombre de positions à varier, si 0 le motif sera invariable\n",
    "    entrée upper : bool, si True les nucléotides modifiés seront majuscule, False minuscule\n",
    "    sortie motifM: motif modifié\n",
    "    \"\"\"\n",
    "    \n",
    "    motifM = motif\n",
    "    pos = []\n",
    "\n",
    "    for i in range(v) :\n",
    "        idx = random.randint(0,len(motif)-1)\n",
    "        while idx in pos :\n",
    "            idx = random.randint(0,len(motif)-1)\n",
    "        pos.append(idx)\n",
    "\n",
    "        x = random.choice(nuc).lower()\n",
    "        if upper : x.upper()\n",
    "\n",
    "        motifM = motifM[:idx] + x + motifM[idx+1:]\n",
    "    \n",
    "    return motifM\n",
    "\n",
    "print(\"Motif original : \", motif)\n",
    "\n",
    "# Tester la fonction modifierMotif plusieurs fois\n",
    "for i in range(0, 5):\n",
    "    print(modifierMotif(motif, 1, upper = False))"
   ]
  },
  {
   "cell_type": "markdown",
   "metadata": {},
   "source": [
    "3\\. Modifiez la fonction `implantMotifs()` de la séance précédente afin d’ajouter la possibilité de varier le motif implanté. Cette fois-ci, considérez que toutes les séquences contiendront un motif (`f1 = 1`). En revanche, seule une proportion des séquences (`f2 = 0.4`) inclura un motif modifié. Pour faciliter leur identification, implantez les motifs en minuscules.\n",
    "\n",
    "**BONUS :** Implantez un motif modifié dans une proportion de séquences légèrement inférieure (`f1 = 0.9`). Assurez-vous de ne pas ajouter un motif modifié si, par hasard, la fonction `modifierMotif()` génère le même motif que l’original."
   ]
  },
  {
   "cell_type": "code",
   "execution_count": 3,
   "metadata": {
    "scrolled": true
   },
   "outputs": [
    {
     "data": {
      "text/plain": [
       "['ACATCCCTAGAAGGacaaATGGTCTGTTCGGATCTGTTTCTTAGA',\n",
       " 'GTGCCACCTACACACTAACCCAaaatTTGGTGGTAACCACTCTGA',\n",
       " 'CTATTCGTGTAATAAGACAAGACGGCTGGATCGacatGCTTCTCT',\n",
       " 'CGAGGGATTACCTGAGAGGTAGTGTTGacatGCCGTCGATTTAAT',\n",
       " 'GAGCTTGTGTTTATGCAacatGTACGTCAGGAAATCTCAGCCATT',\n",
       " 'TCTTGCTATACTCTCGTCAAGCATCAGTAGCGATGGTGTCacatG',\n",
       " 'GTGGCGGGATCAGGGGCAGTTCCTCATCacatTACTGCGGCAGTG',\n",
       " 'GGGacatTCCGACAACCTACCGGTCGCACCAGTTTACCCGTTATA',\n",
       " 'CGTCAGAGacatAGCTACCAGTAATTAACATGCCAATCGGAGTGT',\n",
       " 'TCTTCGTCACGAGCCTTacatCTAGAGAAATTGATGCAGCTCGTC']"
      ]
     },
     "execution_count": 3,
     "metadata": {},
     "output_type": "execute_result"
    }
   ],
   "source": [
    "f1 = 1\n",
    "f2 = 0.4\n",
    "\n",
    "# Pour obtenir le même résultat que dans le dévelopent de ce TME\n",
    "#random.seed(seed)\n",
    "\n",
    "def implantMotifsVar(motifs:str, sequences:list, v:int, f1 = 1, f2 = 0.4):\n",
    "    \"\"\"\n",
    "    Insére un motif dans des positions aléatoires des séquences\n",
    "    entrée motifs : motif qui va être implanté dans les séquences\n",
    "    entrée séquences : liste de séquences\n",
    "    entrée v: nombre de positions à varier, si 0 le motif sera invariable\n",
    "    entrée f : fréquence d'implantation, si 1 toutes les séquences contiendront un motif\n",
    "    sortie modified_sequences: liste de séquences ayant le motif implanté\n",
    "    \"\"\"\n",
    "    \n",
    "    modified_sequences = []\n",
    "    modif = 0\n",
    "\n",
    "    if f1 == 1 :\n",
    "        modified_sequences = []\n",
    "        for seq in sequences : \n",
    "            pos = random.randint(0,len(seq)-1)\n",
    "\n",
    "            if modif/len(sequences) < f2 : \n",
    "                aux = modifierMotif(motifs,v)\n",
    "                modif += 1 \n",
    "            else : aux = motifs\n",
    "\n",
    "            modified_sequences.append(seq[:pos].upper()+aux.lower()+seq[pos:].upper())\n",
    "        return modified_sequences\n",
    "    \n",
    "    not_implanted = sequences\n",
    "    implanted = []\n",
    "    while len(implanted)/len(sequences) < f :\n",
    "        seq = random.choice(not_implanted)\n",
    "        not_implanted.remove(seq)\n",
    "        pos = random.randint(0,len(seq)-1)\n",
    "\n",
    "        imp = modifierMotif(motifs,v)\n",
    "        if imp != motifs : implanted.append(seq[:pos].upper()+imp.lower()+seq[pos:].upper())\n",
    "            \n",
    "    return modified_sequences\n",
    "\n",
    "seqs_implanted = implantMotifsVar(motif, seqs, v, f1, f2)\n",
    "\n",
    "seqs_implanted"
   ]
  },
  {
   "cell_type": "markdown",
   "metadata": {},
   "source": [
    "4\\. Nous pouvons visualiser les motifs à l'aide des outils de WebLogo : https://weblogo.berkeley.edu/logo.cgi.\n",
    "Extrayez les motifs implantés dans vos séquences artificielles et visualisez-les à l'aide de WebLogo.\n",
    "Affichez le logo en utilisant **Markdown**."
   ]
  },
  {
   "cell_type": "code",
   "execution_count": 4,
   "metadata": {
    "id": "TYCLBSw8pn4J",
    "scrolled": true
   },
   "outputs": [
    {
     "name": "stdout",
     "output_type": "stream",
     "text": [
      "Motif original :  ACAT\n",
      "acaa\n",
      "aaat\n",
      "acat\n",
      "acat\n",
      "acat\n",
      "acat\n",
      "acat\n",
      "acat\n",
      "acat\n",
      "acat\n"
     ]
    }
   ],
   "source": [
    "motifs_extraits = []\n",
    "for seq in seqs_implanted :\n",
    "        tmp_motif = \"\"\n",
    "        for x in seq :\n",
    "                if x.islower() : tmp_motif += x\n",
    "        motifs_extraits.append(tmp_motif)\n",
    "\n",
    "print(\"Motif original : \", motif)\n",
    "\n",
    "for motif_extrait in motifs_extraits:\n",
    "        print(motif_extrait)"
   ]
  },
  {
   "cell_type": "markdown",
   "metadata": {},
   "source": [
    "![Logo](Logo_GCGT.png)"
   ]
  },
  {
   "cell_type": "markdown",
   "metadata": {},
   "source": [
    "5\\. Insérez le motif reverse complémentaire dans les séquences contenant déjà un motif implanté. Si vous avez réussi le **BONUS** de la question 3, vous pouvez insérer ce motif reverse complémentaire avec une fréquence légèrement plus faible, afin de simuler une présence inégale du motif varié reverse complémentaire."
   ]
  },
  {
   "cell_type": "code",
   "execution_count": 5,
   "metadata": {},
   "outputs": [
    {
     "data": {
      "text/plain": [
       "['ACATCCCTAGAAGGACAAATGGTCTGatatTTCGGATCTGTTTCTTAGA',\n",
       " 'GTGCCACCTACACACTgtgtAACCCAAAATTTGGTGGTAACCACTCTGA',\n",
       " 'CTATTCGTGTAATatttAAGACAAGACGGCTGGATCGACATGCTTCTCT',\n",
       " 'CGAGGGATTACCTGAGAGGaggtTAGTGTTGACATGCCGTCGATTTAAT',\n",
       " 'GAGCTTGTGTTTATGCAACATGatgtTACGTCAGGAAATCTCAGCCATT',\n",
       " 'TCTTGCTATACTCTCGTCAAGCATCAGTAGCGATGGTGTCACttgtATG',\n",
       " 'GTGGCGGGATCAGGGGCAGTTCCTCAatgtTCACATTACTGCGGCAGTG',\n",
       " 'GGGACATTCCGACAACCTACCGGTCGCACCAGTTTACCCGttgtTTATA',\n",
       " 'CGTCAGAGACATAGCTACCAGTAATTAACatgaATGCCAATCGGAGTGT',\n",
       " 'TCTTCGTCACGAGCCTTACATCTAatgtGAGAAATTGATGCAGCTCGTC']"
      ]
     },
     "execution_count": 5,
     "metadata": {},
     "output_type": "execute_result"
    }
   ],
   "source": [
    "# Importez vos fonctions\n",
    "motif_rev = reversecompl(motif)\n",
    "\n",
    "seqs_implanted_rev = implantMotifsVar(motif_rev,seqs_implanted,1,1,0.9)\n",
    "\n",
    "seqs_implanted_rev"
   ]
  },
  {
   "cell_type": "markdown",
   "metadata": {},
   "source": [
    "6\\. Sauvegardez vos séquences artificielles implantées avec les motifs variables, ainsi que les motifs variés générés, afin de les réutiliser lors des séances suivantes."
   ]
  },
  {
   "cell_type": "code",
   "execution_count": 6,
   "metadata": {},
   "outputs": [],
   "source": [
    "seqs_impl_file = \"seqs_artificielles_impl_var.txt\"\n",
    "motif_file = \"motif_var.txt\"\n",
    "        \n",
    "f = open(seqs_impl_file,\"w\") \n",
    "f.write(\"\\n\".join(seqs_implanted))\n",
    "f.write(\"\\n\")\n",
    "f.close()\n",
    "\n",
    "f = open(motif_file,\"w\")\n",
    "f.write(\"\\n\".join(motifs_extraits))\n",
    "f.close()"
   ]
  },
  {
   "cell_type": "markdown",
   "metadata": {},
   "source": [
    "## Partie B : Amellioration de la recherche de motifs et développement de l'algorithme Median String "
   ]
  },
  {
   "cell_type": "markdown",
   "metadata": {},
   "source": [
    "1\\. Précédemment, nous avons recherché des motifs déjà présents dans nos données. Cependant, une meilleur option pourrait être de créer une liste de tous les motifs possibles d'une certaine taille, même si nous ne connaissons pas leur fréquence. Suivant cette logique, combien de motifs (k-mers) de taille `k = 4` pouvons-nous obtenir avec toutes les combinaisons possibles de nucléotides ? Effectuez le calcul avec les fonctions de **Python**. **BONUS :** vous pouvez utiliser **Markdown** en combinaison avec [LaTeX](https://fr.wikipedia.org/wiki/LaTeX), un système de composition de documents qui permet de représenter des expressions mathématiques (par example, $E = mc^2$) pour exprimer votre résultat."
   ]
  },
  {
   "cell_type": "code",
   "execution_count": 7,
   "metadata": {},
   "outputs": [
    {
     "data": {
      "text/plain": [
       "256"
      ]
     },
     "execution_count": 7,
     "metadata": {},
     "output_type": "execute_result"
    }
   ],
   "source": [
    "# Calculer en Python\n",
    "nt = ['A','T','C','G']\n",
    "k = 4\n",
    "nb_combin = len(nt)**k\n",
    "nb_combin"
   ]
  },
  {
   "cell_type": "markdown",
   "metadata": {},
   "source": [
    "**BONUS :** Résultat exprimé avec LaTeX\n",
    "\n",
    "La quantité de k-mers possibles de taille 4 est donnée par: $$4^{4} = 256$$"
   ]
  },
  {
   "cell_type": "markdown",
   "metadata": {},
   "source": [
    "2\\. En utilisant les fonctions de la bibliothèque **itertools**, créez tous les k-mers possibles de taille `k = 4`."
   ]
  },
  {
   "cell_type": "code",
   "execution_count": 8,
   "metadata": {},
   "outputs": [
    {
     "name": "stdout",
     "output_type": "stream",
     "text": [
      "['AAAA', 'AAAT', 'AAAC', 'AAAG', 'AATA', 'AATT', 'AATC', 'AATG', 'AACA', 'AACT']\n"
     ]
    }
   ],
   "source": [
    "k = 4\n",
    "\n",
    "from itertools import product\n",
    "\n",
    "# Générer tous les k-mers de taille k ayant de AAA... à TTT...\n",
    "aux = list(product(nt,nt))\n",
    "tmp = [a+b for a,b in aux]\n",
    "\n",
    "aux = list(product(tmp,tmp))\n",
    "allkmers_k4 = [a+b for a,b in aux]\n",
    "\n",
    "# Visualiser les prémieres 10 k-mers\n",
    "print(allkmers_k4[0:10])"
   ]
  },
  {
   "cell_type": "markdown",
   "metadata": {},
   "source": [
    "3\\. Éliminez les motifs peu complexes pour éviter les calculs inutiles (motifs ayant plusieurs fois une base répétée, comme **AAAAAAC** ou deux bases répétées comme **ACACACAC**). Réutilisez les fonctions déjà définies (`removeLowComplexeHomo()` et `removeLowComplexeHetero()`) de la séance précédente. Faites attention au type d'objet d'entrée pour chaque fonction. Réfléchissez aux meilleurs paramètres pour filtrer les k-mers selon leur taille. Combien de k-mers restent après avoir supprimé ceux qui sont peu complexes ?"
   ]
  },
  {
   "cell_type": "code",
   "execution_count": 9,
   "metadata": {},
   "outputs": [
    {
     "name": "stdout",
     "output_type": "stream",
     "text": [
      "256\n",
      "252\n",
      "168\n"
     ]
    }
   ],
   "source": [
    "# Importez vos fonctions\n",
    "\n",
    "import re\n",
    "\n",
    "# Réponse BONUS TME2.1 question 6\n",
    "def removeLowComplexeHetero(motifs:list, n:int, variation = \"yes\"):\n",
    "    \"\"\"\n",
    "    Enlève les motifs peu complexe ayant n fois un dinucléotide\n",
    "    entrée motifs: liste de motifs, clé = motif, valeur = fréquence d'observation\n",
    "    entrée n: taille de répétition de dinucléotide\n",
    "    entrée variation : string, si \"yes\" permettre variation d'un nucléotide\n",
    "    sortie motifsClean: liste de motifs sans les motifs peu complexe\n",
    "    >>>removeLowComplexeHetero(['GGTTTGG', 'TGAGTTA', 'TGCCGTG', 'AGAGAGA', 'TCACCGA', 'TTGGTAT', 'AGGGTGG', 'TGGCTTA', 'AGAGTAG', 'GCCCCTC'], 3, variation = \"yes\")\n",
    "    ['GGTTTGG', 'TGAGTTA', 'TGCCGTG', 'AGAGAGA', 'TCACCGA', 'TTGGTAT', 'TGGCTTA', 'AGAGTAG']\n",
    "    \"\"\"\n",
    "    \n",
    "    motifsClean = []\n",
    "    trouve = []\n",
    "\n",
    "    # Créer une liste de dinucléotides sans mono dinucléotides\n",
    "    all_di_nuc = [nuc_1 + nuc_2 for nuc_1 in nuc for nuc_2 in nuc if nuc_1 != nuc_2]\n",
    "\n",
    "    # Pour chaque motif de la liste\n",
    "    for motif in motifs:\n",
    "        if variation == \"yes\":\n",
    "            # Permettre une varation\n",
    "            trouve = [nuc_di for nuc_di in all_di_nuc if len(re.findall(re.compile(\"(?=(\"+ nuc_di +\"))\"), motif)) >= n]\n",
    "\n",
    "        else:\n",
    "            # Pas permettre de varations\n",
    "            trouve = [nuc_di for nuc_di in all_di_nuc if len(re.findall(re.compile(\"(?=(\"+ nuc_di +\")\"+ nuc_di[0] +\")\"), motif)) >= n]\n",
    "\n",
    "        # Après avoir evalué tous les dinucléotides, évaluer si on a trouvé de dinucleotides\n",
    "        if len(trouve) == 0:\n",
    "            # Ajouter juste les motifs que n'ont pas eu des dinucléotides trouves\n",
    "            motifsClean.append(motif)\n",
    "        # Vider la liste\n",
    "        trouve = []\n",
    "\n",
    "    return motifsClean\n",
    "\n",
    "# Liste originale\n",
    "print(len(allkmers_k4))\n",
    "\n",
    "# Sans homo\n",
    "allkmers_k4 = removeLowComplexeHomo(allkmers_k4,4)\n",
    "\n",
    "print(len(allkmers_k4))\n",
    "\n",
    "# Sans hetero\n",
    "allkmers_k4 = removeLowComplexeHetero(allkmers_k4,1,\"no\")\n",
    "\n",
    "print(len(allkmers_k4))"
   ]
  },
  {
   "cell_type": "markdown",
   "metadata": {
    "id": "LhfgfAkipn4Q"
   },
   "source": [
    "4\\. Implémentez l'algorithme _\"Median String Search\"_ pour chercher des motifs de taille variable. Tout d'abord, créez une fonction pour calculer la distance de Hamming."
   ]
  },
  {
   "cell_type": "code",
   "execution_count": 10,
   "metadata": {
    "id": "e5biEcQGpn4R"
   },
   "outputs": [
    {
     "data": {
      "text/plain": [
       "2"
      ]
     },
     "execution_count": 10,
     "metadata": {},
     "output_type": "execute_result"
    }
   ],
   "source": [
    "def hamDistance(str1:str, str2:str):\n",
    "    \"\"\"\n",
    "    Calcul la distance de Hamming entre deux chaînes de caractères\n",
    "    entrée str1: chaîne de caractères\n",
    "    entrée str2: chaîne de caractères\n",
    "    sortie distance: distance de Hamming\n",
    "    >>>hamDistance(\"TTGGTAT\", \"TTGCTAA\")\n",
    "    2\n",
    "    \"\"\"\n",
    "    \n",
    "    distance = 0\n",
    "    for i in range(len(str1)) :\n",
    "        if str1[i] != str2 [i] : distance += 1\n",
    "        \n",
    "    return distance\n",
    "\n",
    "hamDistance(\"TTGGTAT\", \"TTGCTAA\")"
   ]
  },
  {
   "cell_type": "markdown",
   "metadata": {},
   "source": [
    "5\\. Postérieurement, créez une fonction permettant d'obtenir la distance totale minimale entre un motif et un ensemble de séquences."
   ]
  },
  {
   "cell_type": "code",
   "execution_count": 11,
   "metadata": {},
   "outputs": [
    {
     "data": {
      "text/plain": [
       "1"
      ]
     },
     "execution_count": 11,
     "metadata": {},
     "output_type": "execute_result"
    }
   ],
   "source": [
    "# Attention à ne pas comparer des séquences en majuscules avec des minuscules.\n",
    "\n",
    "def totalDistance(motif:str, sequences, k):\n",
    "    \"\"\"\n",
    "    Calcul la totalDistance\n",
    "    entrée motif: motif à comparer, chaîne de caractères\n",
    "    entrée sequences: liste de séquences\n",
    "    entrée k: taille du motif\n",
    "    sortie total_distance: somme de distance de hamming minimal\n",
    "    \"\"\"\n",
    "    \n",
    "    total_distance = 0\n",
    "    for seq in sequences :\n",
    "        dist = []\n",
    "        for i in range(len(seq)-k+1) :\n",
    "            aux = seq[i:i+k].upper()\n",
    "            dist.append(hamDistance(motif,aux))\n",
    "        total_distance += min(dist)\n",
    "\n",
    "    return total_distance\n",
    "\n",
    "totalDistance(motif, seqs_implanted, k)"
   ]
  },
  {
   "cell_type": "markdown",
   "metadata": {},
   "source": [
    "6\\. Finalmente, implémentez l'algorithme complet pour tester un liste de motifs et produire un dictionnaire contenant toutes les distances calculées à partir de tous les motifs testés. Trouvez le motif qui donne la distance minimale avec `getTopMotifs()`. Faites attention à ordonner le dictionnaire  dans le bon sens (croissant ou decroissant)."
   ]
  },
  {
   "cell_type": "code",
   "execution_count": 12,
   "metadata": {
    "scrolled": false
   },
   "outputs": [],
   "source": [
    "def medianStringSearch(sequences, kmersV):\n",
    "    \"\"\"\n",
    "    Implement l'algorithme MedianStringSearch\n",
    "    entrée séquences : liste de séquences\n",
    "    entrée kmersV: Liste de Kmers à chercher\n",
    "    sortie motif_dist_dict: un dictionnaire contenant les motifs et leurs distances\n",
    "    \"\"\"\n",
    "    \n",
    "    motif_dist_dict = {k:totalDistance(k,sequences,len(kmersV[0])) for k in kmersV}\n",
    "\n",
    "    return getTopMotifs(motif_dist_dict,len(motif_dist_dict),False)"
   ]
  },
  {
   "cell_type": "code",
   "execution_count": 13,
   "metadata": {
    "scrolled": true
   },
   "outputs": [
    {
     "name": "stdout",
     "output_type": "stream",
     "text": [
      "{'ACAT': 1, 'ATGC': 5, 'GACA': 5, 'AAAT': 6, 'TCAG': 6, 'CATC': 6, 'CATG': 6, 'CGTC': 6, 'GTCA': 6, 'GTGT': 6, 'ATTA': 7, 'ATCT': 7, 'ACAA': 7, 'ACCA': 7, 'ACCT': 7, 'AGTG': 7, 'AGCT': 7, 'TAAT': 7, 'TTAC': 7, 'TTTA': 7, 'TTCG': 7, 'TCAC': 7, 'TCGT': 7, 'TGCC': 7, 'CATT': 7, 'CACA': 7, 'CAGT': 7, 'CTAC': 7, 'GCCA': 7, 'GGAT': 7, 'GGGA': 7, 'AATT': 8, 'AACA': 8, 'ATTC': 8, 'ATCA': 8, 'AGTA': 8, 'TACA': 8, 'TACT': 8, 'TACC': 8, 'TTAA': 8, 'TCTG': 8, 'TCGG': 8, 'TGTT': 8, 'TGGT': 8, 'CAAG': 8, 'CTTA': 8, 'CTTC': 8, 'CTCA': 8, 'CTCG': 8, 'CCAG': 8, 'CGAC': 8, 'GATC': 8, 'GAGA': 8, 'GTAG': 8, 'GTTT': 8, 'GTCG': 8, 'GGTC': 8, 'GGTG': 8, 'AATA': 9, 'AATC': 9, 'ATAC': 9, 'ATTT': 9, 'ATTG': 9, 'ATCC': 9, 'ATCG': 9, 'ATGG': 9, 'ACAC': 9, 'ACGT': 9, 'AGAA': 9, 'AGAC': 9, 'AGTT': 9, 'AGCC': 9, 'AGGA': 9, 'TAAC': 9, 'TATA': 9, 'TATT': 9, 'TACG': 9, 'TAGT': 9, 'TAGC': 9, 'TTAT': 9, 'TTAG': 9, 'TTCC': 9, 'TTGA': 9, 'TTGC': 9, 'TCAA': 9, 'TCTT': 9, 'TCTC': 9, 'TCCC': 9, 'TCCG': 9, 'TGAT': 9, 'TGTA': 9, 'TGTC': 9, 'TGCA': 9, 'TGCT': 9, 'TGCG': 9, 'TGGA': 9, 'CAAA': 9, 'CAAT': 9, 'CAAC': 9, 'CATA': 9, 'CACC': 9, 'CAGA': 9, 'CAGC': 9, 'CAGG': 9, 'CTAA': 9, 'CTAT': 9, 'CTAG': 9, 'CTGA': 9, 'CTGC': 9, 'CCAT': 9, 'CCTA': 9, 'CCTC': 9, 'CCTG': 9, 'CCGT': 9, 'CGAT': 9, 'CGGC': 9, 'GATT': 9, 'GATG': 9, 'GAGC': 9, 'GTAA': 9, 'GTAC': 9, 'GTTA': 9, 'GTGG': 9, 'GCAG': 9, 'GCTA': 9, 'GCCT': 9, 'GGAG': 9, 'GGTA': 9, 'GGCA': 9, 'AATG': 10, 'AACC': 10, 'AAGT': 10, 'AAGC': 10, 'ATAA': 10, 'ATAT': 10, 'ACAG': 10, 'ACTA': 10, 'ACTT': 10, 'ACTC': 10, 'ACTG': 10, 'ACCC': 10, 'ACGA': 10, 'ACGG': 10, 'AGAT': 10, 'AGAG': 10, 'AGTC': 10, 'AGGT': 10, 'AGGG': 10, 'TATC': 10, 'TATG': 10, 'TAGA': 10, 'TTTC': 10, 'TTCA': 10, 'TTCT': 10, 'TTGT': 10, 'TTGG': 10, 'TCAT': 10, 'TCTA': 10, 'TCCA': 10, 'TCGC': 10, 'TGAC': 10, 'CACT': 10, 'CACG': 10, 'CTTG': 10, 'CTCT': 10, 'CTGT': 10, 'CTGG': 10, 'CCTT': 10, 'CCCT': 10, 'CGAG': 10, 'CGTT': 10, 'CGTG': 10, 'CGGA': 10, 'GAAA': 10, 'GATA': 10, 'GACG': 10, 'GAGG': 10, 'GTTC': 10, 'GTTG': 10, 'GTCT': 10, 'GTGC': 10, 'GCAA': 10, 'GCAT': 10, 'GCTT': 10, 'GCTC': 10, 'GCTG': 10, 'GCGA': 10, 'GCGG': 10, 'GGAA': 10, 'AACT': 11, 'AAGA': 11, 'ATGA': 11, 'ATGT': 11, 'AGCA': 11, 'AGCG': 11, 'TAAA': 11, 'TAAG': 11, 'TAGG': 11, 'TTTG': 11, 'TCCT': 11, 'TCGA': 11, 'TGAG': 11, 'TGTG': 11, 'TGGC': 11, 'CTTT': 11, 'CTCC': 11, 'CCAA': 11, 'CCAC': 11, 'CCGA': 11, 'CGAA': 11, 'CGTA': 11, 'CGCA': 11, 'CGCT': 11, 'CGCC': 11, 'CGGT': 11, 'CGGG': 11, 'GAAT': 11, 'GAAG': 11, 'GACT': 11, 'GACC': 11, 'GAGT': 11, 'GTAT': 11, 'GTCC': 11, 'GTGA': 11, 'GCCG': 11, 'GGAC': 11, 'GGCT': 11, 'GGCC': 11, 'GGGT': 11, 'GGGC': 11, 'AAAA': 12, 'AAAC': 12, 'AAAG': 12, 'AACG': 12, 'ACCG': 12, 'ACGC': 12, 'AGGC': 12, 'TTTT': 12, 'TGGG': 12, 'CCCA': 12, 'CCCG': 12, 'CCGG': 12, 'GAAC': 12, 'GCAC': 12, 'GCGT': 12, 'GGTT': 12, 'GGCG': 12, 'AAGG': 13, 'ATAG': 13, 'TGAA': 13, 'CCGC': 13, 'GCCC': 13, 'GGGG': 13, 'CGCG': 14, 'GCGC': 14, 'CCCC': 16}\n"
     ]
    }
   ],
   "source": [
    "# Importez vos fonctions\n",
    "\n",
    "f = open(\"seqs_artificielles_impl_var.txt\",\"r\")\n",
    "seqs_implanted_motifs = []\n",
    "tmp = f.readlines()\n",
    "for line in tmp :\n",
    "    seqs_implanted_motifs.append(line[:-1])\n",
    "f.close()\n",
    "\n",
    "kmersV = []\n",
    "aux = list(product(nt,nt))\n",
    "tmp = [a+b for a,b in aux]\n",
    "\n",
    "aux = list(product(tmp,tmp))\n",
    "kmersV = [a+b for a,b in aux]\n",
    "\n",
    "seqs_implanted_motifs_top = medianStringSearch(seqs_implanted_motifs,kmersV)\n",
    "\n",
    "print(seqs_implanted_motifs_top)"
   ]
  },
  {
   "cell_type": "markdown",
   "metadata": {},
   "source": [
    "Avez-vous trouvé le motif implanté ? Parfois, le motif implanté n'est pas le plus fréquent. Vous pouvez explorer le dictionnaire obtenu avec la fonction  `searchGivenMotif()`."
   ]
  },
  {
   "cell_type": "code",
   "execution_count": 14,
   "metadata": {},
   "outputs": [
    {
     "data": {
      "text/plain": [
       "(1, 1)"
      ]
     },
     "execution_count": 14,
     "metadata": {},
     "output_type": "execute_result"
    }
   ],
   "source": [
    "# Importez vos fonctions\n",
    "\n",
    "searchGivenMotif(seqs_implanted_motifs_top, \"ACAT\", False)"
   ]
  },
  {
   "cell_type": "markdown",
   "metadata": {},
   "source": [
    "7\\. Rassemblez les résultats de l'algoritme MedianStringSearch sur les séquences du brin complementaire en réutilisant la fonction `gatherRevCompMotifs()`. Combien de motifs restent après avoir fusionné le dictionnaire ? Affichez le nouveau résultat."
   ]
  },
  {
   "cell_type": "code",
   "execution_count": 15,
   "metadata": {
    "scrolled": false
   },
   "outputs": [
    {
     "name": "stdout",
     "output_type": "stream",
     "text": [
      "Avant rassemblage :\n",
      "256\n",
      "Après rassemblage :\n",
      "136\n",
      "{'CATG': (6, 6), 'ATTA': (7, 7), 'AGCT': (7, 7), 'ACCA': (8, 7), 'CTAC': (8, 7), 'AATT': (8, 8), 'AACA': (8, 8), 'AGTA': (8, 8), 'TTAA': (8, 8), 'CGAC': (8, 8)}\n"
     ]
    }
   ],
   "source": [
    "# Importez vos fonctions\n",
    "\n",
    "print(\"Avant rassemblage :\")\n",
    "\n",
    "print(len(seqs_implanted_motifs_top))\n",
    "\n",
    "seqs_implanted_motifs_gat = gatherRevCompMotifs(seqs_implanted_motifs_top) \n",
    "\n",
    "print(\"Après rassemblage :\")\n",
    "\n",
    "print(len(seqs_implanted_motifs_gat))\n",
    "\n",
    "seqs_implanted_motifs_gat_top = getTopMotifs(seqs_implanted_motifs_gat, 10, False)\n",
    "\n",
    "print(seqs_implanted_motifs_gat_top)"
   ]
  },
  {
   "cell_type": "markdown",
   "metadata": {
    "id": "tgUYBJ0yQ3Dg"
   },
   "source": [
    "## Partie C : Recherche de motifs variable sur vos données"
   ]
  },
  {
   "cell_type": "markdown",
   "metadata": {
    "id": "I1zHn6NSQ2Xy"
   },
   "source": [
    "1\\. Utilisez le fichier \"Sequence_by_Peaks_##.fasta\", contenant les régions de peaks identifiées par ChIP-Seq, où se trouve probablement le facteur de transcription recherché. Appliquez l'algorithme Median String pour détecter les motifs Il faut bien evidement enlever les motifs peu complexe. Créez et testez different tailles de motifs. N'oubliez pas de rassembler le dictionnaire obtenu."
   ]
  },
  {
   "cell_type": "code",
   "execution_count": 16,
   "metadata": {
    "id": "A6KINeGuREqA",
    "scrolled": true
   },
   "outputs": [
    {
     "name": "stdout",
     "output_type": "stream",
     "text": [
      "16384\n",
      "15540\n",
      "9708\n"
     ]
    }
   ],
   "source": [
    "k = 7 # tester d'autres tailles k = 6, k = 8, etc.\n",
    "\n",
    "m = 5\n",
    "\n",
    "n = 2\n",
    "\n",
    "peaks = readFasta(\"Sequence_by_Peaks_1.fasta\")\n",
    "\n",
    "allkmers_k7 = [\"\".join(kmer) for kmer in list(product('ACGT', repeat=k))]\n",
    "\n",
    "# Liste originel\n",
    "print(len(allkmers_k7))\n",
    "\n",
    "allkmers_k7 = removeLowComplexeHomo(allkmers_k7, m)\n",
    "\n",
    "# Sans homo\n",
    "print(len(allkmers_k7))\n",
    "\n",
    "allkmers_k7 = removeLowComplexeHetero(allkmers_k7, n)\n",
    "\n",
    "# Sans hetero\n",
    "print(len(allkmers_k7))"
   ]
  },
  {
   "cell_type": "code",
   "execution_count": 17,
   "metadata": {
    "scrolled": true
   },
   "outputs": [
    {
     "name": "stdout",
     "output_type": "stream",
     "text": [
      "Top motifs :\n",
      " {'ATTTTAA': (158, 157), 'TGAAATA': (159, 157), 'AAAATTT': (159, 157), 'TGCAAAA': (160, 159), 'ATTTGAA': (161, 153), 'TAAATTT': (162, 157), 'TTCAAAA': (164, 155), 'AGAAATT': (164, 156), 'TTGAAAA': (164, 158), 'TTTCAAA': (164, 158)}\n"
     ]
    }
   ],
   "source": [
    "peaks_motifs = gatherRevCompMotifs(medianStringSearch(peaks, allkmers_k7))\n",
    "\n",
    "peaks_motifs_top = getTopMotifs(peaks_motifs, 10, False)\n",
    "\n",
    "print(\"Top motifs :\\n\", peaks_motifs_top)"
   ]
  },
  {
   "cell_type": "markdown",
   "metadata": {},
   "source": [
    "2\\. Parfois, la TATA box, un type de motif général présent dans les promoteurs de gènes, dépasse le seuil établi pour filtrer les homopolymères et hétéropolymères. Cependant, ces TATA box constituent des motifs généraux plutôt que spécifiques. Une approche \"naïve\" pour les éliminer consiste à filtrer les motifs contenant une forte proportion de nucléotides T et A. Créez une fonction qui supprime les motifs enrichis en T et A, en veillant à ne les retirer que si les deux nucléotides sont présents."
   ]
  },
  {
   "cell_type": "code",
   "execution_count": 20,
   "metadata": {},
   "outputs": [
    {
     "data": {
      "text/plain": [
       "['TCTACGA', 'ACGCATT', 'ACAAGGT', 'TAGCCTT']"
      ]
     },
     "execution_count": 20,
     "metadata": {},
     "output_type": "execute_result"
    }
   ],
   "source": [
    "p = 0.7\n",
    "\n",
    "def removeTARich(motifs:list, p:int):\n",
    "    \"\"\"\n",
    "    Enlève les motifs contenant > p de T et A en combination\n",
    "    entrée motifs: liste de motifs\n",
    "    entrée p: proportion de nucleótides T et A\n",
    "    sortie motifsClean: liste de motifs sans les motifs TA rich\n",
    "    \"\"\"\n",
    "\n",
    "    motifsClean = []\n",
    "\n",
    "    for m in motifs :\n",
    "        cpt = 0\n",
    "        a,t = False,False\n",
    "        for x in m :\n",
    "            if x == 'A' :\n",
    "                cpt += 1\n",
    "                a = True\n",
    "            if x == 'T' :\n",
    "                cpt += 1\n",
    "                t = True\n",
    "        if not (cpt/len(m) > p) and (a and t) : motifsClean.append(m)\n",
    "\n",
    "    return motifsClean\n",
    "\n",
    "test_motifs_TA = ['ATTTTCA', 'TAATTTA', 'AAATTAT', 'TCTACGA', 'ACGCATT', 'ACAAGGT', 'GAAATTA', 'TTGTTGT', 'TATAGCA', 'TAGCCTT']\n",
    "\n",
    "removeTARich(test_motifs_TA, p)"
   ]
  },
  {
   "cell_type": "markdown",
   "metadata": {},
   "source": [
    "3\\. Retestez après avoir enlevé les motifs enrichis en TA."
   ]
  },
  {
   "cell_type": "code",
   "execution_count": 21,
   "metadata": {},
   "outputs": [
    {
     "name": "stdout",
     "output_type": "stream",
     "text": [
      "Top motifs :\n",
      " {'CTGCAAA': (182, 182), 'GTGCAAT': (183, 181), 'CTTGCAA': (183, 182), 'TTTGCAC': (184, 181), 'CCATTTC': (184, 181), 'CAAATGG': (186, 182), 'TGGCAAA': (186, 183), 'TCTTGCA': (186, 185), 'CATTTCC': (186, 186), 'AGTTGCA': (187, 180)}\n"
     ]
    }
   ],
   "source": [
    "allkmers_k7 = removeTARich(allkmers_k7, p)\n",
    "\n",
    "peaks_motifs = gatherRevCompMotifs(medianStringSearch(peaks, allkmers_k7))\n",
    "\n",
    "peaks_motifs_top = getTopMotifs(peaks_motifs, 10, False)\n",
    "\n",
    "print(\"Top motifs :\\n\", peaks_motifs_top)"
   ]
  },
  {
   "cell_type": "markdown",
   "metadata": {},
   "source": [
    "**NOTES :** Pensez à developer une fonction pour créer un liste de motifs de manière automatique. Aussi, appliquez les stratégies appris dans ce TME à l'algorithme de la Hash Table :\n",
    "\n",
    "* Utilisation d'une liste étendue de motifs de référence.\n",
    "* Suppression des séquences enrichies en T et A."
   ]
  }
 ],
 "metadata": {
  "colab": {
   "provenance": []
  },
  "kernelspec": {
   "display_name": "Python 3 (ipykernel)",
   "language": "python",
   "name": "python3"
  },
  "language_info": {
   "codemirror_mode": {
    "name": "ipython",
    "version": 3
   },
   "file_extension": ".py",
   "mimetype": "text/x-python",
   "name": "python",
   "nbconvert_exporter": "python",
   "pygments_lexer": "ipython3",
   "version": "3.12.4"
  }
 },
 "nbformat": 4,
 "nbformat_minor": 1
}
