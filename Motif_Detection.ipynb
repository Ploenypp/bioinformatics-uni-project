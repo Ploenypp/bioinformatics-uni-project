{
 "cells": [
  {
   "cell_type": "markdown",
   "metadata": {},
   "source": [
    "# Motif Detection"
   ]
  },
  {
   "cell_type": "markdown",
   "metadata": {},
   "source": [
    "Once we've obtained our DNA sequences, we need to identify the motifs that could most likely be transcrition factor binding sites. Technically, it is very easy to generate all the possible candidate motifs of $n$ nucleotides, but we know that not all of them are going to biologically significant or pertinent to our search. For example, motifs made up of multiple repeating 'T's and 'A's are most likely the TATA box, a known transcription factor binding site that is not specific to any one gene or family of genes. \n",
    "\n",
    "Therefore, we must eliminate motifs from the total generated set based on the following parameters :\n",
    "- size\n",
    "- complexity (homopolymers, heteropolymers) \n",
    "- presence of \"TA\"-rich sub-motif"
   ]
  },
  {
   "cell_type": "code",
   "execution_count": 24,
   "metadata": {},
   "outputs": [],
   "source": [
    "# import\n",
    "from itertools import product\n",
    "from collections import Counter\n",
    "\n",
    "# intializations\n",
    "nucleotides = {'A','C','G','T'}"
   ]
  },
  {
   "cell_type": "markdown",
   "metadata": {},
   "source": [
    "## Candidate Elimination Functions"
   ]
  },
  {
   "cell_type": "code",
   "execution_count": 23,
   "metadata": {},
   "outputs": [],
   "source": [
    "def generate_motifs(n:int) : # n : length in nucleotides of the motifs to be generated\n",
    "    return set(product(nucleotides, repeat=n))\n"
   ]
  },
  {
   "cell_type": "code",
   "execution_count": 31,
   "metadata": {},
   "outputs": [],
   "source": [
    "def remove_homo(motifs, limit) : # limit : the maximum number of times a nucleotide can appear in the motif\n",
    "    toRem = set() # set of motifs to be eliminated\n",
    "    \n",
    "    for motif in motifs :\n",
    "        nuc_freq = Counter(motif) # count the frequencies of each nucleotide present in the motif\n",
    "        for _,freq in nuc_freq.items() :\n",
    "            if freq >= limit : toRem.add(motif)\n",
    "    return set(motifs)-toRem"
   ]
  },
  {
   "cell_type": "code",
   "execution_count": null,
   "metadata": {},
   "outputs": [],
   "source": [
    "def remove_hetero(motifs, limit) : \n",
    "    toRem = set()\n",
    "    dinuc = {a+b for a,b in set(product(nucleotides, repeat=2))} # set of dinucleotides \n",
    "    \n"
   ]
  },
  {
   "cell_type": "markdown",
   "metadata": {},
   "source": [
    "## Algorithms"
   ]
  },
  {
   "cell_type": "code",
   "execution_count": 1,
   "metadata": {},
   "outputs": [],
   "source": [
    "def hashtable(sequences:list, motifs:list) :\n",
    "    motifs_freqs = dict()\n",
    "    n = len(motifs[0]) # length of the candidate motifs\n",
    "\n",
    "    for seq in sequences :\n",
    "        for i in range(len(seq)-n+1) :\n",
    "            aux = seq[i:i+n]\n",
    "            if aux in motifs_freqs : motifs_freqs[aux] += 1\n",
    "            else : motifs_freqs[aux] = 1\n",
    "    \n",
    "    return motifs_freqs"
   ]
  },
  {
   "cell_type": "code",
   "execution_count": null,
   "metadata": {},
   "outputs": [],
   "source": []
  }
 ],
 "metadata": {
  "kernelspec": {
   "display_name": ".venv",
   "language": "python",
   "name": "python3"
  },
  "language_info": {
   "codemirror_mode": {
    "name": "ipython",
    "version": 3
   },
   "file_extension": ".py",
   "mimetype": "text/x-python",
   "name": "python",
   "nbconvert_exporter": "python",
   "pygments_lexer": "ipython3",
   "version": "3.12.4"
  },
  "orig_nbformat": 4
 },
 "nbformat": 4,
 "nbformat_minor": 2
}
