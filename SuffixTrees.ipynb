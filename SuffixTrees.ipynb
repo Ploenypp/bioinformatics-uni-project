{
 "cells": [
  {
   "cell_type": "markdown",
   "metadata": {},
   "source": [
    "Nom Etudiant 1: <font color='blue'>NOM Prénom</font>\n",
    "<br>\n",
    "Nom Etudiant 2: <font color='blue'>NOM Prénom</font>"
   ]
  },
  {
   "cell_type": "markdown",
   "metadata": {
    "id": "lRIv7xNV0nf9"
   },
   "source": [
    "# TME 4 : Recheche de pattern (motifs) en utilisant les Suffix Trees\n",
    "\n",
    "Un suffix tree est construit à partir d'un jeu de séquences. Une fois construit, il permet de rechercher un motif en temps $O(k)$ où $k$ est la longueur du motif.\n",
    "\n",
    "Dans un premier temps, nous allons finaliser la mise en place de la création d’une liste de k-mers filtrés. Pour cela, nous allons développer une fonction permettant de générer automatiquement une liste de motifs filtrés (**Partie A**).\n",
    "\n",
    "Ensuite, nous réutiliserons les séquences artificielles des TMEs précédents, dans lesquelles les motifs ont été implantés avec ou sans variation. Nous implémenterons l'algorithme suffix tree afin de rechercher efficacement ces motifs, d’abord dans leur version exacte (**Partie B**), puis en tenant compte des variations (**Partie C**).\n",
    "\n",
    "\n",
    "## Partie A : Fonction de génération de la liste de k-mers"
   ]
  },
  {
   "cell_type": "markdown",
   "metadata": {},
   "source": [
    "1\\. Avant de rechercher les motifs, implémentez ou réutilisez les fonctions permettant de générer tous les k-mers possibles de taille k, en éliminant les motifs peu complexes afin d'éviter des calculs inutiles. Créez une fonction `createKmers` pour automatiser cette tâche. Sauvegardez la liste générée dans un fichier afin de pouvoir la réutiliser ultérieurement."
   ]
  },
  {
   "cell_type": "code",
   "execution_count": 1,
   "metadata": {},
   "outputs": [],
   "source": [
    "# Importer fonctions\n",
    "from TME import *\n",
    "from itertools import *\n",
    "\n",
    "def createKmers(k, m, n, p, variation):\n",
    "    \"\"\"\n",
    "    entrée k : taille de kmers\n",
    "    entrée m : taille de repetition de nucléotide\n",
    "    entrée n: taille de répétition de dinucléotide\n",
    "    entrée p: proportion de nucleótides T et A\n",
    "    entrée variation : string, si True permettre variation d'un nucléotide\n",
    "    sortie motifsClean: liste de motifs sans les motifs peu complexe\n",
    "    \"\"\"\n",
    "    \n",
    "    nuc = ('A', 'C', 'G', 'T')\n",
    "    aux = list(product(nuc,repeat = k))\n",
    "    motifs = [''.join(motif) for motif in aux]\n",
    "    motifs = removeLowComplexeHomo(motifs,m)\n",
    "    motifs = removeLowComplexeHetero(motifs,n,variation)\n",
    "    motifs = removeTARich(motifs,p)\n",
    "    \n",
    "    return motifs\n",
    "\n",
    "allkmers_k4 = createKmers(4,4,1,0.7,\"no\")"
   ]
  },
  {
   "cell_type": "code",
   "execution_count": 2,
   "metadata": {},
   "outputs": [],
   "source": [
    "# Sauvegarder les k-mers\n",
    "kmers_file = \"allkmers_k4_m4_n1_p0.7_v0.txt\" \n",
    "\n",
    "f = open(kmers_file,\"w\") \n",
    "f.write(\"\\n\".join(allkmers_k4))\n",
    "f.write(\"\\n\")\n",
    "f.close()"
   ]
  },
  {
   "cell_type": "markdown",
   "metadata": {},
   "source": [
    "## Partie B : Suffix Trees Exact Matching"
   ]
  },
  {
   "cell_type": "markdown",
   "metadata": {
    "id": "p2zEyqSq0nf_"
   },
   "source": [
    "1\\. Réutilisez les séquences artificielles des TME précédents contenant le motif sans variation, ainsi que le motif initial."
   ]
  },
  {
   "cell_type": "code",
   "execution_count": 3,
   "metadata": {
    "id": "VagWKovI0ngA",
    "scrolled": true
   },
   "outputs": [
    {
     "name": "stdout",
     "output_type": "stream",
     "text": [
      "ACATCCCTAGAAGGATGGTCTGTTCGGATCTGTTTCACATTTAGA\n",
      "GTGCCACCTACATACACACTAACCCATTGGTGGTAACCACTCTGA\n",
      "CTATTCGTGTAATAACATAGACAAGACGGCTGGATCGGCTTCTCT\n",
      "CGAGGGATTACCACATTGAGAGGTAGTGTTGGCCGTCGATTTAAT\n",
      "GAGCTTGTGTTTATGCAGTACGTCAGACATGAAATCTCAGCCATT\n",
      "TCTTGCACATTATACTCTCGTCAAGCATCAGTAGCGATGGTGTCG\n",
      "GTGGCGGGATCAGGGGCACATAGTTCCTCATCTACTGCGGCAGTG\n",
      "GGGTACATCCGACAACCTACCGGTCGCACCAGTTTACCCGTTATA\n",
      "CGTCAGAGAGCTACCAGTAATTAACATGCCAATCACATGGAGTGT\n",
      "ACATTCTTCGTCACGAGCCTTCTAGAGAAATTGATGCAGCTCGTC\n",
      "\n",
      "Le motif géneré était : ACAT\n"
     ]
    }
   ],
   "source": [
    "seqs_file = 'seqs_artificielles_impl.txt'\n",
    "\n",
    "f = open(seqs_file,\"r\")\n",
    "tmp = f.readlines()\n",
    "seqs = []\n",
    "for line in tmp :\n",
    "    seqs.append(line[:-1])\n",
    "f.close()\n",
    "\n",
    "for seq in seqs:\n",
    "    print(seq)\n",
    "\n",
    "motif_file = \"motif.txt\"\n",
    "f = open(motif_file,\"r\")\n",
    "motif = f.readline()\n",
    "f.close()\n",
    "\n",
    "print(\"\\nLe motif géneré était :\", motif)"
   ]
  },
  {
   "cell_type": "markdown",
   "metadata": {
    "id": "u27bZ9zV0ngE"
   },
   "source": [
    "2\\. Utilisez le package Python suffix-trees, disponible ici : https://pypi.org/project/suffix-trees/ pour créer un suffix tree à partir de la chaîne de caractères ci-dessous, puis recherchez les motifs proposés.\n",
    "\n",
    "Installation (si le package n'est pas disponible) : `!pip install suffix-trees`"
   ]
  },
  {
   "cell_type": "code",
   "execution_count": 4,
   "metadata": {
    "id": "BDYzYIcY0ngF",
    "scrolled": false
   },
   "outputs": [
    {
     "name": "stdout",
     "output_type": "stream",
     "text": [
      "0\n",
      "{0, 8}\n"
     ]
    }
   ],
   "source": [
    "from suffix_trees import STree\n",
    "\n",
    "st = STree.STree(\"abcdefghab\")\n",
    "\n",
    "print(st.find(\"abc\")) # 0\n",
    "\n",
    "print(st.find_all(\"ab\")) # {8, 0}"
   ]
  },
  {
   "cell_type": "markdown",
   "metadata": {},
   "source": [
    "3\\. Définissez une fonction `constructTree` pour construire un suffix tree à partir des séquences artificielles implantées. **Attention :** Avant de créer l'arbre, concaténez vos séquences en les séparant par un espace. Testez ensuite si votre fonction est capable de retrouver le motif sans variation implanté."
   ]
  },
  {
   "cell_type": "code",
   "execution_count": 5,
   "metadata": {},
   "outputs": [],
   "source": [
    "# Concatener les séquences\n",
    "seqs_concat = \" \".join(seqs)\n",
    "seqs = seqs_concat"
   ]
  },
  {
   "cell_type": "code",
   "execution_count": 6,
   "metadata": {},
   "outputs": [
    {
     "name": "stdout",
     "output_type": "stream",
     "text": [
      "{0, 36, 293, 326, 391, 106, 236, 402, 210, 150, 55, 414}\n"
     ]
    }
   ],
   "source": [
    "def constructTree(sequences):\n",
    "    \"\"\"\n",
    "    construis un abre de suffixes\n",
    "    entrée sequences : liste de séquences\n",
    "    sortie suffix_tree : arbre de suffixes\n",
    "    \"\"\"    \n",
    "\n",
    "    suffix_tree = STree.STree(sequences)\n",
    "\n",
    "    return suffix_tree\n",
    "\n",
    "tree = constructTree(seqs)\n",
    "\n",
    "fix_motif = 'ACAT' # changer pour un teste rapide\n",
    "\n",
    "print(tree.find_all(fix_motif))"
   ]
  },
  {
   "cell_type": "markdown",
   "metadata": {
    "id": "AhKHuWkE0ngK"
   },
   "source": [
    "4\\. Définissez la fonction `exactMatch` qui parcourt le suffix tree pour rechercher tous les motifs possibles (k-mers) générés à la question précédente. La fonction doit renvoyer un dictionnaire contenant les motifs (clés) et leur nombre d'occurrences (valeurs). Ensuite, triez,  rassemblez, et affichez les 10 motifs les plus fréquents dans votre jeu de données artificiel."
   ]
  },
  {
   "cell_type": "code",
   "execution_count": 7,
   "metadata": {
    "id": "pUmfblsq0ngL"
   },
   "outputs": [],
   "source": [
    "def exactMatch(kmersV, stree):\n",
    "    \"\"\"\n",
    "    Cherche dans le suffix tree tous les motifs possibles\n",
    "    entrée kmersV: liste de Kmers à chercher\n",
    "    entrée stree: suffix tree\n",
    "    sortie motif_occur : dictionnaire qui contient les motifs (clés) et leurs nombre d'occurrences (values).\n",
    "    \"\"\"\n",
    "\n",
    "    motif_occur = {k:len(stree.find_all(k)) for k in kmersV}\n",
    "    \n",
    "    return motif_occur\n",
    "\n",
    "motif_occur_dict = exactMatch(allkmers_k4, tree)"
   ]
  },
  {
   "cell_type": "code",
   "execution_count": 8,
   "metadata": {},
   "outputs": [
    {
     "name": "stdout",
     "output_type": "stream",
     "text": [
      "TCAG : 5\n",
      "CAGT : 5\n",
      "GGAT : 5\n",
      "CATC : 4\n",
      "CTAC : 4\n",
      "GTCA : 4\n",
      "TACC : 4\n",
      "GATG : 3\n",
      "ATGC : 3\n",
      "CATG : 3\n",
      "AGCT : 3\n",
      "GGTA : 3\n",
      "GATC : 3\n",
      "CCTA : 3\n",
      "TGCA : 3\n",
      "ATGG : 3\n",
      "CTAG : 2\n",
      "CCAT : 2\n",
      "ATCC : 2\n",
      "GTAG : 2\n"
     ]
    }
   ],
   "source": [
    "# Trier dictionnaire\n",
    "motif_occur_dict = getTopMotifs(motif_occur_dict,20,True)\n",
    "\n",
    "# Afficher top 10\n",
    "for x in motif_occur_dict : print(x,\":\",motif_occur_dict[x])"
   ]
  },
  {
   "cell_type": "code",
   "execution_count": 9,
   "metadata": {},
   "outputs": [
    {
     "name": "stdout",
     "output_type": "stream",
     "text": [
      "GGAT : 5\n",
      "TCAG : 5\n",
      "CAGT : 5\n",
      "CATC : 4\n",
      "TACC : 4\n",
      "CTAC : 4\n",
      "GTCA : 4\n",
      "CATG : 3\n",
      "AGCT : 3\n",
      "GATC : 3\n"
     ]
    }
   ],
   "source": [
    "# Rassembler dictionnaire\n",
    "motif_occur_dict_gat = gatherRevCompMotifs(motif_occur_dict)\n",
    "\n",
    "# Afficher top 10\n",
    "motif_occur_dict_gat = getTopMotifs(motif_occur_dict_gat,10,True)\n",
    "for x in motif_occur_dict_gat : print(x,\":\",motif_occur_dict[x])"
   ]
  },
  {
   "cell_type": "markdown",
   "metadata": {},
   "source": [
    "## Partie C : Suffix Trees Inexact Matching"
   ]
  },
  {
   "cell_type": "markdown",
   "metadata": {
    "id": "HrSnp3Q70ngM"
   },
   "source": [
    "1\\. Réutilisez vos séquences artificielles contenant le motif variable."
   ]
  },
  {
   "cell_type": "code",
   "execution_count": 10,
   "metadata": {
    "id": "OqVEMgjW0ngN"
   },
   "outputs": [
    {
     "name": "stdout",
     "output_type": "stream",
     "text": [
      "ACATCCCTAGAAGGACAAATGGTCTGTTCGGATCTGTTTCTTAGA\n",
      "GTGCCACCTACACACTAACCCAAAATTTGGTGGTAACCACTCTGA\n",
      "CTATTCGTGTAATAAGACAAGACGGCTGGATCGACATGCTTCTCT\n",
      "CGAGGGATTACCTGAGAGGTAGTGTTGACATGCCGTCGATTTAAT\n",
      "GAGCTTGTGTTTATGCAACATGTACGTCAGGAAATCTCAGCCATT\n",
      "TCTTGCTATACTCTCGTCAAGCATCAGTAGCGATGGTGTCACATG\n",
      "GTGGCGGGATCAGGGGCAGTTCCTCATCACATTACTGCGGCAGTG\n",
      "GGGACATTCCGACAACCTACCGGTCGCACCAGTTTACCCGTTATA\n",
      "CGTCAGAGACATAGCTACCAGTAATTAACATGCCAATCGGAGTGT\n",
      "TCTTCGTCACGAGCCTTACATCTAGAGAAATTGATGCAGCTCGTC\n"
     ]
    }
   ],
   "source": [
    "seqs_var_file = 'seqs_artificielles_impl_var.txt'\n",
    "\n",
    "f = open(seqs_var_file,\"r\")\n",
    "tmp = f.readlines()\n",
    "seqs_var = []\n",
    "for line in tmp :\n",
    "    seqs_var.append(line[:-1].upper())\n",
    "f.close()\n",
    "        \n",
    "for seq in seqs_var:\n",
    "    print(seq)"
   ]
  },
  {
   "cell_type": "markdown",
   "metadata": {
    "id": "1RGyKcwP0ngN"
   },
   "source": [
    "2\\. Construisez à nouveau le suffix tree en utilisant ces nouvelles séquences et votre fonction `constructTree`."
   ]
  },
  {
   "cell_type": "code",
   "execution_count": 11,
   "metadata": {
    "id": "xN70Hhtt0ngO"
   },
   "outputs": [],
   "source": [
    "# Concatener les séquences\n",
    "seqs_var = \" \".join(seqs_var)\n",
    "\n",
    "# Construire arbre\n",
    "tree_var = constructTree(seqs_var)"
   ]
  },
  {
   "cell_type": "markdown",
   "metadata": {},
   "source": [
    "3\\. Nous allons maintenant implémenter l'algorithme en version inexacte. Pour ce faire, utilisez la technique _seed_ afin de détecter le motif variable. À partir d’une liste de k-mers et d’un nombre de variations, déterminez la taille du seed (`seed_size`) ainsi que le nombre de seeds à utiliser (`seed_nb`).\n",
    "\n",
    "**Attention :**\n",
    "\n",
    "* Certaines tailles de k-mers peuvent générer des seeds incomplets (ex. `k = 5`).\n",
    "* Assurez-vous de ne pas utiliser de seeds plus petits que la taille minimale requise."
   ]
  },
  {
   "cell_type": "code",
   "execution_count": 12,
   "metadata": {},
   "outputs": [
    {
     "data": {
      "text/plain": [
       "(4, 2, 2)"
      ]
     },
     "execution_count": 12,
     "metadata": {},
     "output_type": "execute_result"
    }
   ],
   "source": [
    "from math import floor\n",
    "\n",
    "def getSeeds(kmersV, v):\n",
    "    \"\"\"\n",
    "    entrée kmersV : liste de motifs à chercher\n",
    "    entrée v : nombre de variations dans les motifs\n",
    "    sortie k : taille de k-mer\n",
    "    sortie seed_size : taille de seed calculé\n",
    "    sortie seed_nb : nombre de seeds\n",
    "    \"\"\"\n",
    "    \n",
    "    k = len(kmersV[0])\n",
    "    \n",
    "    seed_nb = v+1\n",
    "    \n",
    "    if (k%seed_nb != 0) :\n",
    "        seed_size = floor(k/seed_nb) + 1\n",
    "    else :\n",
    "        seed_size = floor(k/seed_nb)\n",
    "    \n",
    "    return k, seed_size, seed_nb\n",
    "\n",
    "getSeeds(allkmers_k4, v = 1)"
   ]
  },
  {
   "cell_type": "code",
   "execution_count": 13,
   "metadata": {},
   "outputs": [
    {
     "name": "stdout",
     "output_type": "stream",
     "text": [
      "kmer_test1 k = 4\n",
      "\tseed size: 2\n",
      "\tseed number: 2\n",
      "\n",
      "kmer_test2 k = 5\n",
      "\tseed size: 3\n",
      "\tseed number: 2\n",
      "\n",
      "kmer_test3 k = 6, v = 1\n",
      "\tseed size: 3\n",
      "\tseed number: 2\n",
      "\n"
     ]
    }
   ],
   "source": [
    "kmer_test1 = [\"TACA\", \"TTCA\", \"GGGG\"] # perfect match, imperfect match, no match\n",
    "kmer_test2 = [\"TACAG\", \"TTCAA\", \"GGGGG\"] # uneven kmers\n",
    "kmer_test3 = [\"TACAGC\", \"TTCAAG\", \"GGGGGG\"] # longer kmers\n",
    "\n",
    "v = 1\n",
    "\n",
    "k, seed_size, seed_nb = getSeeds(kmer_test1,v)\n",
    "\n",
    "print(\"kmer_test1 k = %s\\n\\tseed size: %s\\n\\tseed number: %s\\n\" % (k, seed_size, seed_nb))\n",
    "\n",
    "k, seed_size, seed_nb = getSeeds(kmer_test2,v)\n",
    "\n",
    "print(\"kmer_test2 k = %s\\n\\tseed size: %s\\n\\tseed number: %s\\n\" % (k, seed_size, seed_nb))\n",
    "\n",
    "k, seed_size, seed_nb = getSeeds(kmer_test3,v)\n",
    "\n",
    "print(\"kmer_test3 k = %s, v = 1\\n\\tseed size: %s\\n\\tseed number: %s\\n\" % (k, seed_size, seed_nb))"
   ]
  },
  {
   "cell_type": "markdown",
   "metadata": {},
   "source": [
    "4\\. Créez une fonction `findSeedStarPos` qui, à partir d’un k-mer, d’une taille de seed (`seed_size`), d’un nombre de seeds (`seed_nb`) et d’un suffix tree (`stree`), renvoie toutes les positions possibles des k-mers correspondant à un match.\n",
    "\n",
    "**Attention :**\n",
    "\n",
    "* Evitez de compter deux fois un k-mer qui donne un match exact (les deux seeds ne puevent pas être comptés qu'une fois).\n",
    "* N'oubliez pas de retirer les seeds dont la position de départ est négative."
   ]
  },
  {
   "cell_type": "code",
   "execution_count": 14,
   "metadata": {},
   "outputs": [],
   "source": [
    "from textwrap import wrap\n",
    "def findSeedStarPos(kmer, seed_size, seed_nb, stree):\n",
    "    \"\"\"\n",
    "    Renvoie tous les positions de départ des seeds de k-mer\n",
    "    entrée kmer : chaîne de caractères avec le motif à analyser\n",
    "    entrée seed_size : taille de seed calculé\n",
    "    entrée seed_nb : nombre de seeds contenus dans le k-mer\n",
    "    entrée stree : sufix tree des séquénces à analyser\n",
    "    sortie all_candidate_starts : liste de positions de départ qui donnent un match partiel\n",
    "    \"\"\"\n",
    "    \n",
    "    if len(kmer) < seed_size : return []\n",
    "\n",
    "    seeds = {s for s in wrap(kmer,seed_size) if len(s) >= seed_size}\n",
    "    all_candidates = {x for s in seeds for x in stree.find_all(s) if x >= 0}\n",
    "    candidate_starts = sorted(list({x for x in all_candidates if x >= 0}))\n",
    "        \n",
    "    return candidate_starts"
   ]
  },
  {
   "cell_type": "code",
   "execution_count": 15,
   "metadata": {
    "scrolled": false
   },
   "outputs": [
    {
     "name": "stdout",
     "output_type": "stream",
     "text": [
      "[0, 18]\n"
     ]
    }
   ],
   "source": [
    "kmer = kmer_test1[0]\n",
    "\n",
    "my_seq = \"TACCGCTGATTTT AGGATACATGAGCTCTTGTAGCACTGTTAATA\"\n",
    "\n",
    "# Construire tree\n",
    "st = STree.STree(my_seq)\n",
    "\n",
    "# Calculer seeds\n",
    "k, seed_size, seed_nb # Code\n",
    "\n",
    "# Trouver positions\n",
    "all_starts = findSeedStarPos(kmer,seed_size,seed_nb,st)\n",
    "\n",
    "print(all_starts)"
   ]
  },
  {
   "cell_type": "markdown",
   "metadata": {},
   "source": [
    "5\\. Développez une fonction qui, à partir d’une liste de positions de départ, génère une liste de k-mers dépassant un seuil établi (`v`). Utilisez la fonction `hamDistance` pour évaluer les correspondances.\n",
    "\n",
    "**Attention**\n",
    "\n",
    "* Évitez d'utiliser des k-mers correspondant à un match trop proche de la fin des séquences.\n",
    "* Ne prenez pas en compte les k-mers candidats qui traversent des séquences séparées par un espace."
   ]
  },
  {
   "cell_type": "code",
   "execution_count": 16,
   "metadata": {},
   "outputs": [
    {
     "data": {
      "text/plain": [
       "{'TACATG', 'TACCGC'}"
      ]
     },
     "execution_count": 16,
     "metadata": {},
     "output_type": "execute_result"
    }
   ],
   "source": [
    "def findKmerCandidates(all_candidate_starts, k, kmer, sequences, v):\n",
    "    \"\"\"\n",
    "    entrée all_candidate_starts : liste de positions de départ qui donnent un match partiel\n",
    "    entrée k : taille de k-mer\n",
    "    enréee kmer : chaîne de caractères avec le motif à analyser\n",
    "    entrée sequences : liste de séquences\n",
    "    entrée v : nombre de variations dans les motifs\n",
    "    sortie : liste de séquence qui donnent un match avec un nombre inferieur ou égal de variations (v)\n",
    "    \"\"\"\n",
    "    \n",
    "    all_candidate_kmer = set()\n",
    "    for c in all_candidate_starts :\n",
    "        if hamDistance(kmer,sequences[c:c+k]) <= v : \n",
    "            all_candidate_kmer.add(sequences[c:c+k])\n",
    "    return all_candidate_kmer\n",
    "\n",
    "findKmerCandidates(all_starts, k, kmer, my_seq, v)"
   ]
  },
  {
   "cell_type": "markdown",
   "metadata": {
    "id": "ZVbMQGFX0ngO"
   },
   "source": [
    "6\\. Définissez la fonction `inexactMatch` qui recherche tous les motifs possibles (k-mers) générés à la question 2 dans le suffix tree construit à partir des séquences contenant le motif variable. La fonction doit renvoyer deux dictionnaires :\n",
    "* Un dictionnaire contenant les motifs (clés) et leur nombre d'occurrences (valeurs).\n",
    "* Un autre dictionnaire contenant les motifs (clés) et la liste de toutes leurs variations (valeurs)."
   ]
  },
  {
   "cell_type": "code",
   "execution_count": 17,
   "metadata": {},
   "outputs": [
    {
     "data": {
      "text/plain": [
       "({'banbn': 2, 'banan': 1, 'anaba': 1, 'anana': 2},\n",
       " {'banbn': {'banan', 'banbn'}, 'anana': {'anaba', 'anana'}})"
      ]
     },
     "execution_count": 17,
     "metadata": {},
     "output_type": "execute_result"
    }
   ],
   "source": [
    "def inexactMatch(kmersV, sequences, stree, v):\n",
    "    \"\"\"\n",
    "    cherche de motifs variables dans un suffix tree\n",
    "    entrée kmersV : liste de motifs à chercher\n",
    "    entrée sequences : liste de séquences\n",
    "    entrée stree : suffix tree\n",
    "    entrée v : nombre de variations dans les motifs\n",
    "    sortie motif_occur : dictionnaire clés = motif ; value = nombre d'occurrences\n",
    "    sortie motif_seq : dictionnaire clés = motif ; value = liste de motifs variables\n",
    "    \"\"\"\n",
    "\n",
    "    motif_occur = dict()\n",
    "    motifs_seq = dict()\n",
    "\n",
    "    motifs_seq = {}\n",
    "    for motif in kmersV :\n",
    "        k, seed_size, seed_nb = getSeeds([motif],v)\n",
    "        pos = findSeedStarPos(motif,seed_size,seed_nb,stree)\n",
    "        candidates = findKmerCandidates(pos,k,motif,sequences,v)\n",
    "\n",
    "        for aux in candidates :\n",
    "            motif_occur[aux] = len(stree.find_all(aux))\n",
    "        \n",
    "        motifs_seq[motif] = candidates\n",
    "    \n",
    "    return motif_occur, motifs_seq\n",
    "\n",
    "seqTest = \"banananabanbnaabanbna nbnaaba\"\n",
    "\n",
    "st2 = constructTree(seqTest)\n",
    "\n",
    "inexactMatch(['banbn', 'anana'], seqTest, st2, 1)"
   ]
  },
  {
   "cell_type": "markdown",
   "metadata": {},
   "source": [
    "7\\. Appliquez cette méthode à vos séquences artificielles contenant le motif variable. Ensuite, affichez le motif variable le plus fréquent ainsi que toutes ses variations dans votre nouveau jeu de données artificiel."
   ]
  },
  {
   "cell_type": "code",
   "execution_count": 18,
   "metadata": {
    "scrolled": true
   },
   "outputs": [
    {
     "name": "stdout",
     "output_type": "stream",
     "text": [
      "les tops 10 motifs\n",
      "-- ACAT : 12\n",
      "-- ACAA : 2\n",
      "-- ACCT : 2\n",
      "-- ACAC : 2\n",
      "-- ACGT : 1\n",
      "\n",
      "les variations\n",
      "-- ACAT : {'ACAA', 'ACAT', 'ACGT', 'ACCT', 'ACAC'}\n",
      "-- ACAA : pas de variation\n",
      "-- ACCT : pas de variation\n",
      "-- ACAC : pas de variation\n",
      "-- ACGT : pas de variation\n"
     ]
    }
   ],
   "source": [
    "motif_occur_var, motif_occur_var_seqs = inexactMatch([motif],seqs,tree,1)\n",
    "\n",
    "# Top motifs\n",
    "top_motifs = getTopMotifs(motif_occur_var,10,True)\n",
    "print(\"les tops 10 motifs\")\n",
    "for x in top_motifs : print(\"--\",x,\":\",top_motifs[x])\n",
    "\n",
    "print(\"\\nles variations\")\n",
    "for x in top_motifs : \n",
    "    if x in motif_occur_var_seqs : print(\"--\",x,\":\",motif_occur_var_seqs[x])\n",
    "    else : print(\"--\",x,\": pas de variation\")"
   ]
  },
  {
   "cell_type": "code",
   "execution_count": 19,
   "metadata": {
    "scrolled": true
   },
   "outputs": [
    {
     "name": "stdout",
     "output_type": "stream",
     "text": [
      "les tops 10 motifs\n",
      "-- ACAT : (12, 0)\n",
      "-- ACAA : (2, 0)\n",
      "-- ACCT : (2, 0)\n",
      "-- ACAC : (2, 0)\n",
      "-- ACGT : (1, 1)\n",
      "\n",
      "les variations\n",
      "-- ACAT : {'ACAA', 'ACAT', 'ACGT', 'ACCT', 'ACAC'}\n"
     ]
    }
   ],
   "source": [
    "# Tester gather motifs\n",
    "motif_occur_var_gat = gatherRevCompMotifs(motif_occur_var)\n",
    "\n",
    "# Top motifs\n",
    "top_motifs_gat = getTopMotifs(motif_occur_var_gat,10,True)\n",
    "print(\"les tops 10 motifs\")\n",
    "for x in top_motifs_gat : print(\"--\",x,\":\",top_motifs_gat[x])\n",
    "\n",
    "print(\"\\nles variations\")\n",
    "for x in top_motifs_gat : \n",
    "    if x in motif_occur_var_seqs :\n",
    "        print(\"--\",x,\":\",motif_occur_var_seqs[x])"
   ]
  },
  {
   "cell_type": "markdown",
   "metadata": {
    "id": "5ABb0l6D0ngQ"
   },
   "source": [
    "8\\. Générez un logo de motif à partir des séquences du meilleur motif variable détecté. Vous pouvez utiliser ce site : [WebLogo](https://weblogo.berkeley.edu/logo.cgi). Affichez votre LOGO ci-dessous."
   ]
  },
  {
   "cell_type": "code",
   "execution_count": 20,
   "metadata": {
    "scrolled": true
   },
   "outputs": [],
   "source": [
    "kmer = \"ACAT\""
   ]
  },
  {
   "cell_type": "markdown",
   "metadata": {},
   "source": [
    "<font color='blue'>\n",
    "Markdown\n",
    "</font>"
   ]
  },
  {
   "cell_type": "markdown",
   "metadata": {
    "id": "acxgFV6b0ngQ"
   },
   "source": [
    "9\\. Avez-vous réussi à retrouver le motif initialement implanté dans les séquences ? L'algorithme était-il rapide ? Quelle est la complexité de chaque recherche de motif ?"
   ]
  },
  {
   "cell_type": "markdown",
   "metadata": {
    "id": "XZZ_TLV9ePVF"
   },
   "source": [
    "<font color='blue'>\n",
    "Votre reponse\n",
    "</font>"
   ]
  },
  {
   "cell_type": "markdown",
   "metadata": {
    "id": "NAygy1d00ngR"
   },
   "source": [
    "10\\. Testez l'algorithme suffix tree sur vos données de ChIP-Seq, puis générez le LOGO du motif trouvé."
   ]
  },
  {
   "cell_type": "code",
   "execution_count": null,
   "metadata": {
    "scrolled": true
   },
   "outputs": [],
   "source": [
    "# Pensé à créer plusieur tests avec differentes tailles de séquences\n",
    "# Code"
   ]
  },
  {
   "cell_type": "code",
   "execution_count": null,
   "metadata": {},
   "outputs": [],
   "source": [
    "# Sauvarger kmers variables\n",
    "\n",
    "kmer # Code\n",
    "\n",
    "out_seqs_motifs_file = \"motifs_\" + kmer + \"_list.txt\"\n",
    "\n",
    "# Code"
   ]
  },
  {
   "cell_type": "markdown",
   "metadata": {},
   "source": [
    "<font color='blue'>\n",
    "Markdown\n",
    "</font>"
   ]
  }
 ],
 "metadata": {
  "celltoolbar": "Raw Cell Format",
  "colab": {
   "provenance": []
  },
  "kernelspec": {
   "display_name": "Python 3 (ipykernel)",
   "language": "python",
   "name": "python3"
  },
  "language_info": {
   "codemirror_mode": {
    "name": "ipython",
    "version": 3
   },
   "file_extension": ".py",
   "mimetype": "text/x-python",
   "name": "python",
   "nbconvert_exporter": "python",
   "pygments_lexer": "ipython3",
   "version": "3.12.4"
  }
 },
 "nbformat": 4,
 "nbformat_minor": 1
}
