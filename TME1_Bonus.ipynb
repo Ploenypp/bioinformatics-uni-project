{
  "cells": [
    {
      "cell_type": "markdown",
      "metadata": {
        "id": "H-ZmDjzwYF9d"
      },
      "source": [
        "# TME 1 - Bonus :  Evaluation des résultats de  méthode de Prédiction de gènes\n",
        "\n"
      ]
    },
    {
      "cell_type": "markdown",
      "source": [
        "**Nom etudiant 1 :**\n",
        "\n",
        "**Nom etudiant 2 :**"
      ],
      "metadata": {
        "id": "ROoa6jTYYv0w"
      }
    },
    {
      "cell_type": "markdown",
      "metadata": {
        "id": "-DRSKEw0YF9r"
      },
      "source": [
        "### A) Matrice de confusion et mesures de performance \n",
        "\n",
        "Il est nécessaire d’avoir une méthode pour évaluer la qualité des prédictions obtenues pour les coordonnées des gènes. Est ce que certains gènes sont ratés par la prédiction, ou est-ce qu’au contraire certains des gènes sont systématiquement surannotés alors qu’il s’agit d’une région intergénique (entre les gènes) ? Toute l’information peut être résumée en construisant le tableau de valeurs suivante, appelée matrice de confusion. Pour cela nous attribuons à chaque nucléotide d’un génome donné la valeur 0 ou 1, 0 si le nucléotide ne fait pas partie d’un gène et 1 si il en fait partie. La matrice de confusion est calculée comme ce tableau. \n",
        "\n",
        "![](matriceconfusion.png \"\")\n",
        "\n",
        "On résume ensuite la qualité de l’annotation avec les métriques suivantes : \n",
        "\n",
        "   + La sensibilité  (= ``11/(11+10)``) <br>\n",
        "Sen = (le taux de vrais positifs) / (le taux de vrais positifs + le taux de faux négatifs)\n",
        "\n",
        "   + La spécificité (= ``00 / (00+01)``) <br>\n",
        "Spe = (le taux de vrais négatifs) / (le taux de vrais négatifs + le taux de faux positifs)\n",
        "\n",
        "   + La valeur prédictive VP (= ``11 / (11+01)``) est le taux de vrais positifs parmi ceux prédits comme positifs <br>\n",
        "VP = (le taux de vrais positifs) / (le taux de vrais positifs + le taux de faux positifs)\n",
        "\n",
        "\n",
        "**Nous allons d'abord coder plusieurs fonctions qui seront utilisés plustard.**\n",
        "\n",
        "\n"
      ]
    },
    {
      "cell_type": "markdown",
      "metadata": {
        "id": "9xpcTpSXYF9t"
      },
      "source": [
        "<b>Question 1)</b> Ecrivez une fonction ``eval_res`` qui calcule la **Sen**, la **Spe** et **VP** (la valeur prédictive) à partir d’une matrice de confusion et renvoie un tuple à trois dimensions. La matrice de confusion sera codée comme un tableau à deux dimension, _e.g._ une liste de listes ou une matrice de numpy.\n"
      ]
    },
    {
      "cell_type": "code",
      "execution_count": null,
      "metadata": {
        "id": "viL_iYvbYF9o"
      },
      "outputs": [],
      "source": [
        "import doctest # Pour pouvoir utiliser doctest.testmod()\n",
        "import numpy as np"
      ]
    },
    {
      "cell_type": "code",
      "execution_count": 1,
      "metadata": {
        "id": "lU5fe2L8YF9u"
      },
      "outputs": [],
      "source": [
        "# Question 1\n",
        "def eval_res(matconf):\n",
        "    \"\"\"Renvoi un tuple avec la sensibilité, la spécificité et la valeur prédictive.\n",
        "    entrée1 matconf : matrice de confusion (les positions contient VP, FP, FN, VN) \n",
        "    sortie1 sen: sensibilité \n",
        "    sortie2 spe: spécificité \n",
        "    sortie3 vp: sensibi valeur prédictive \n",
        "    >>> eval_res(eval_res([[4, 1], [1, 3]]))\n",
        "    (0.75, 0.8, 0.75)\n",
        "    \"\"\"\n",
        "    sen = 0\n",
        "    spe = 0\n",
        "    vp = 0\n",
        "    return (sen, spe, vp)\n",
        "#doctest.testmod()"
      ]
    },
    {
      "cell_type": "code",
      "execution_count": null,
      "metadata": {
        "id": "koe-K87FYF9w"
      },
      "outputs": [],
      "source": [
        "assert eval_res([[50, 10], [5, 100]]) == (100 / 105, 50 / 60, 100 / 110)\n",
        "\n"
      ]
    },
    {
      "cell_type": "markdown",
      "metadata": {
        "id": "UD2AEgTmYF9x"
      },
      "source": [
        "<b>Question 2)</b> Ecrivez une fonction ``ecrit_intervalle`` qui, à partir des deux listes des positions de début et de fin des gènes sur le brin sens et de la longueur du génome, recode une grande liste avec la valeur 1 pour les positions qui sont des gènes et 0 sinon. Attention, il faut tenir compte des cas possibles où des gènes se chevauchent. Vous pourrez par exemple initialiser une liste avec ``lg`` valeurs à ``0`` et traiter ensuite les intervalles séquentiellement.\n"
      ]
    },
    {
      "cell_type": "code",
      "execution_count": null,
      "metadata": {
        "id": "FOUZtaJ6YF9y"
      },
      "outputs": [],
      "source": [
        "# Question 2\n",
        "def ecrit_intervalle(positions_debut, positions_fin, len_genome):\n",
        "    \"\"\"\n",
        "    Renvoie une liste binaire avec un élément par base du génome.\n",
        "    1 indique la présence d'un gène.\n",
        "    entrée1 positions_debut : liste contenant les positions de debut des genes\n",
        "    entrée2 positions_fin : liste contenant les positions de fin des genes\n",
        "    entrée3 len_genome : taille du genome\n",
        "    sortie1 genome_list : Liste binaire avec un élément par base du génome\n",
        "    \n",
        "\n",
        "    >>> ecrit_intervalle([2, 10, 15], [7, 12, 20], 22)\n",
        "    [0, 0, 1, 1, 1, 1, 1, 1, 0, 0, 1, 1, 1, 0, 0, 1, 1, 1, 1, 1, 1, 0]\n",
        "    \"\"\"\n",
        "    genome_list = [0 for _ in range(len_genome)] #initialise tous les positions à zero\n",
        "   \n",
        "   \n",
        "    return genome_list\n",
        "\n",
        "assert ecrit_intervalle([2, 10, 15], [7, 12, 20], 22) == [0, 0, 1, 1, 1, 1, 1, 1, 0, 0, 1, 1, 1, 0, 0, 1, 1, 1, 1, 1, 1, 0]\n",
        "#doctest.testmod()"
      ]
    },
    {
      "cell_type": "markdown",
      "metadata": {
        "id": "vUNDBy_iYF90"
      },
      "source": [
        "**Question 3)** Ecrivez la fonction ``compare_intervalle`` qui compare deux listes produites par la fonction ``ecrit_intervalle``, et renvoie la matrice de confusion.  \n",
        "    Par exemple, si les deux listes données en paramètre sont  \n",
        "    ``génome =[0,0,1,1,1,1,1,1,0,0,1,1,1,0,0,1,1,1,1,1,1,0]`` et  \n",
        "    ``ORFs   =[0,0,0,1,1,1,1,0,0,0,1,1,1,0,0,0,0,1,1,1,1,0]``, on a :  \n",
        "\n",
        "| Genome / ORF | 0 | 1 |\n",
        "|---|---|---| \n",
        "| **0** | 7 | 0  |\n",
        "| **1** | 4 | 11 |\n"
      ]
    },
    {
      "cell_type": "code",
      "execution_count": null,
      "metadata": {
        "id": "uoHEYNeYYF91"
      },
      "outputs": [],
      "source": [
        "# Question 3\n",
        "def compare_intervalles(intervalle_1, intervalle_2):\n",
        "    \"\"\"Renvoi la matrice de confusion.\n",
        "    entrée1 intervalle_1: Liste binaire representant un genome de reference\n",
        "    entrée2 intervalle_2: Liste binaire representant un les predictions de genes\n",
        "    sortie1 matrix: matrice de confusion\n",
        "    >>> compare_intervalles([0, 0, 1, 1, 1, 1, 1, 1, 0, 0, 1, 1, 1, 0, 0, 1, 1, 1, 1, 1, 1, 0],\n",
        "    [0, 0, 0, 1, 1, 1, 1, 0, 0, 0, 1, 1, 1, 0, 0, 0, 0, 1, 1, 1, 1, 0])\n",
        "    [[7, 0], [4, 11]]\n",
        "    \"\"\"\n",
        "    matrix = [[0, 0], [0, 0]]\n",
        "    \n",
        "    \n",
        "    return matrix\n",
        "\n",
        "assert compare_intervalles([0, 0, 1, 1, 1, 1, 1, 1, 0, 0, 1, 1, 1, 0, 0, 1, 1, 1, 1, 1, 1, 0],\n",
        "    [0, 0, 0, 1, 1, 1, 1, 0, 0, 0, 1, 1, 1, 0, 0, 0, 0, 1, 1, 1, 1, 0]) == [[7, 0], [4, 11]]"
      ]
    },
    {
      "cell_type": "markdown",
      "metadata": {
        "id": "isfF0PVHYF93"
      },
      "source": [
        "### B) Evaluation sur _E. coli_\n",
        "Nous allons comparer l’annotation des gènes de E. coli disponible au NCBI avec la prédiction par les ORFs realisé au TME precedent.\n",
        "**Attention, certains gènes définit dans les fichiers .tab sont non-codant (rRNA transfer, rRNA ribossomal). Ces gènes ne commencent pas par un codon START et nous allons les ignorer dans notre comparaison**. Nous allons donc travailler seulement avec les lignes \"protein_coding\" et le strand \"+\". \n",
        "\n",
        "\n",
        "\n",
        "\n"
      ]
    },
    {
      "cell_type": "markdown",
      "source": [
        "Nous allons utiliser pandas, une structuré de données puissante qui va simplifier nos analyses.\n",
        "\n",
        "Pour apprendre les bases on vous conseil les tutoriaux et vidéos suivant\n",
        "\n",
        "*   https://eric.univ-lyon2.fr/~ricco/tanagra/fichiers/fr_Tanagra_Data_Manipulation_Pandas.pdf\n",
        "*   https://pandas.pydata.org/pandas-docs/stable/reference/api/pandas.DataFrame.html (doc en anglais)\n",
        "*   https://www.youtube.com/watch?v=zZkNOdBWgFQ&t=187s (video en français)\n",
        "\n"
      ],
      "metadata": {
        "id": "ooXXMrjTsiFv"
      }
    },
    {
      "cell_type": "code",
      "execution_count": null,
      "metadata": {
        "id": "L96kVi9SYF95"
      },
      "outputs": [],
      "source": [
        "import pandas as pd\n",
        "import gzip\n",
        "import shutil\n",
        "import urllib.request\n"
      ]
    },
    {
      "cell_type": "markdown",
      "source": [
        "<b>Preparation :</b> Telecharger le fichier feature_table de E. coli qui contient l'annotation de son genome"
      ],
      "metadata": {
        "id": "yYGEHYwpxW9H"
      }
    },
    {
      "cell_type": "code",
      "execution_count": null,
      "metadata": {
        "id": "ZLEdjbg2YF95"
      },
      "outputs": [],
      "source": [
        "#Telecharger le fichier feature_table de E. coli qui contient l'annotation de son genome\n",
        "urllib.request.urlretrieve(\n",
        "    'ftp://ftp.ncbi.nlm.nih.gov/genomes/all/GCF/000/026/345/GCF_000026345.1_ASM2634v1/GCF_000026345.1_ASM2634v1_feature_table.txt.gz',\n",
        "    'GCF_000026345.1_ASM2634v1_feature_table.txt.gz')"
      ]
    },
    {
      "cell_type": "code",
      "execution_count": null,
      "metadata": {
        "id": "PnLU7GjHYF96"
      },
      "outputs": [],
      "source": [
        "#Decompresser le fichier\n",
        "with gzip.open('GCF_000026345.1_ASM2634v1_feature_table.txt.gz', 'rb') as f_in:\n",
        "    with open('GCF_000026345.1_ASM2634v1_feature_table.txt', 'wb') as f_out:\n",
        "        shutil.copyfileobj(f_in, f_out)"
      ]
    },
    {
      "cell_type": "markdown",
      "source": [
        "**Question 1)**: Lire le fichier `GCF_000026345.1_ASM2634v1_feature_table.txt` à l'aide de Pandas"
      ],
      "metadata": {
        "id": "_kGwxPGAxuTb"
      }
    },
    {
      "cell_type": "code",
      "execution_count": null,
      "metadata": {
        "id": "yjhRignyYF97"
      },
      "outputs": [],
      "source": [
        "#Lire le fichier à l'aide de Pandas\n",
        "feature_table = pd.read_csv('GCF_000026345.1_ASM2634v1_feature_table.txt', sep='\\t')"
      ]
    },
    {
      "cell_type": "code",
      "execution_count": null,
      "metadata": {
        "scrolled": true,
        "id": "uiGjqqtpYF97"
      },
      "outputs": [],
      "source": [
        "#afficher les premières 5 lignes\n",
        "feature_table.head(5)"
      ]
    },
    {
      "cell_type": "markdown",
      "source": [
        "**Question 2)**: Filtrer feature table et laisser seulement les lignes contenant \"protein_coding\" et le strand \"+\"."
      ],
      "metadata": {
        "id": "OEAvBpCqyI6d"
      }
    },
    {
      "cell_type": "code",
      "execution_count": null,
      "metadata": {
        "id": "7DSlBIZfYF98"
      },
      "outputs": [],
      "source": [
        "\n",
        "\n",
        "\n",
        "\n"
      ]
    },
    {
      "cell_type": "markdown",
      "source": [
        "**Question 3)**: Lire le fichier annotation_des_orfs.csv (produit au TME precedent) à l'aide de Pandas"
      ],
      "metadata": {
        "id": "T36RlIyOyZ47"
      }
    },
    {
      "cell_type": "code",
      "execution_count": null,
      "metadata": {
        "id": "F_JadhPoYF98"
      },
      "outputs": [],
      "source": [
        "#Lire le fichier annotation_des_orfs.csv (produit au TME precedent) à l'aide de Pandas\n",
        "predicted = pd.read_csv( 'annotation_des_orfs.csv', sep='\\t')\n",
        "predicted = pd.read_csv( 'annotation_des_orfs.csv', sep='\\t')\n",
        "\n",
        "predicted.head(5)"
      ]
    },
    {
      "cell_type": "markdown",
      "source": [
        "**Question 4)**: Appliquez la fonction ``compare_intervalle`` à l’annotation des gènes sur le brin sens et à la prédiction par les ORFs sur le brin sens,  puis générer la matrice de confusion."
      ],
      "metadata": {
        "id": "jezFebivwqSX"
      }
    },
    {
      "cell_type": "code",
      "execution_count": null,
      "metadata": {
        "id": "oQlkjpxnYF99"
      },
      "outputs": [],
      "source": [
        "len_genome = 0 # A initialiser avec le nombre de nucleotides du genome\n",
        "\n",
        "true_pos =[]\n",
        "predicted_pos =[]\n",
        "matrix = compare_intervalles(true_pos, predicted_pos)"
      ]
    },
    {
      "cell_type": "code",
      "execution_count": null,
      "metadata": {
        "id": "QfsveV32YF99"
      },
      "outputs": [],
      "source": []
    },
    {
      "cell_type": "markdown",
      "source": [
        "**Question 5)**: Appliquez la fonction ``eval_res`` à la matrice de confusion et affichez Sen, Spe et VP."
      ],
      "metadata": {
        "id": "TL8pldTlzU3S"
      }
    },
    {
      "cell_type": "code",
      "execution_count": null,
      "metadata": {
        "id": "goWShEC9YF9_"
      },
      "outputs": [],
      "source": [
        "eval_res(matrix)"
      ]
    }
  ],
  "metadata": {
    "kernelspec": {
      "display_name": "Python 3",
      "language": "python",
      "name": "python3"
    },
    "language_info": {
      "codemirror_mode": {
        "name": "ipython",
        "version": 3
      },
      "file_extension": ".py",
      "mimetype": "text/x-python",
      "name": "python",
      "nbconvert_exporter": "python",
      "pygments_lexer": "ipython3",
      "version": "3.7.4"
    },
    "colab": {
      "provenance": []
    }
  },
  "nbformat": 4,
  "nbformat_minor": 0
}