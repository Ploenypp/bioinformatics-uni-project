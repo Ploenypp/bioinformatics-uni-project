{
 "cells": [
  {
   "cell_type": "markdown",
   "metadata": {
    "id": "cMBXoJy9Cn-E"
   },
   "source": [
    "# TME 5 : Localisation de pattern (motifs) dans le genome\n",
    "\n",
    "Nous allons implémenter plusieurs algorithmes afin de localiser un motif d'intérêt dans un génome."
   ]
  },
  {
   "cell_type": "markdown",
   "metadata": {
    "id": "AbQu4NSfCn-a"
   },
   "source": [
    "### A -  Index of fixed length words\n",
    "3\\. Nous allons implémenter l'algorithme \"Index of fixed length words\". Faire une fonction pour indexer les positions d'occurrences de tous les mots de taille k dans un texte (génome), la fonction doit renvoyer un dictionnaire ou les clés sont les mots et les valeurs les positions dans le texte où se trouve les mots."
   ]
  },
  {
   "cell_type": "markdown",
   "metadata": {},
   "source": [
    "| nt | proba |\n",
    "| :-: | :-: |\n",
    "| A | ... |\n",
    "| C | ... |\n",
    "| G | ... |\n",
    "| T | ... |"
   ]
  },
  {
   "cell_type": "code",
   "execution_count": 136,
   "metadata": {
    "id": "jzo936laCn-a"
   },
   "outputs": [
    {
     "name": "stdout",
     "output_type": "stream",
     "text": [
      "{'ab': [0, 4], 'bc': [1], 'cd': [2], 'da': [3, 6], 'bd': [5]}\n"
     ]
    }
   ],
   "source": [
    "def indexTable(m, sequence):\n",
    "    \"\"\"\n",
    "    Indexer les positions d'occurrences de tous les mots de taille k dans une sequence\n",
    "    entrée m : taille du mot à chercher dans le motif m <= k\n",
    "    entrée sequence : chaine de caractère représentant une sequence d'ADN\n",
    "    sortie indexes : dictionaire où les clés sont les mots et les valeurs les positions dans la sequence\n",
    "    \"\"\"\n",
    "    indexes  = {}\n",
    "    for i in range(len(sequence)) :\n",
    "        if i + m > len(sequence) : break\n",
    "        \n",
    "        aux = sequence[i:i+m] \n",
    "        if aux in indexes : indexes[aux].append(i)\n",
    "        else : indexes[aux] = [i]\n",
    "\n",
    "    return indexes\n",
    "\n",
    "inds = indexTable(2, \"abcdabda\") #{'ab': [0, 4], 'bc': [1], 'cd': [2], 'da': [3, 6], 'bd': [5]}\n",
    "print (inds)"
   ]
  },
  {
   "cell_type": "markdown",
   "metadata": {
    "id": "LM7VVxtWCn-c"
   },
   "source": [
    "4\\. Faire une fonction pour chercher toutes les occurrences d'un motif dans un génome utilisant la table des indexes de la question précédente. Nous allons permettre un nombre maximum de variations. Pour cela, implémenter ou re-utiliser la fonction distance de hamming"
   ]
  },
  {
   "cell_type": "code",
   "execution_count": 137,
   "metadata": {
    "id": "Vw1sHsR2-TZQ"
   },
   "outputs": [
    {
     "name": "stdout",
     "output_type": "stream",
     "text": [
      "{'ACG': [0], 'CGA': [1], 'GAA': [2, 12], 'AAA': [3], 'AAT': [4], 'ATA': [5], 'TAG': [6, 10], 'AGT': [7], 'GTT': [8], 'TTA': [9], 'AGA': [11]}\n",
      "{'tagtt': [6]}\n"
     ]
    }
   ],
   "source": [
    "def hamming(seq1, seq2):\n",
    "    cpt = 0\n",
    "    limit = len(seq1)\n",
    "    if len(seq1) >= len(seq2) : limit = len(seq2)\n",
    "    for i in range(limit) :\n",
    "        if seq1[i] != seq2[i] : cpt += 1\n",
    "    return cpt\n",
    "\n",
    "def chercherWithIndexTable(m, table, sequence, motif, maxVar):\n",
    "    \"\"\"\n",
    "    chercher les positions d'un motif dans une séquence en admettant au maximum maxVar variations\n",
    "    entrée m : taille du mot à chercher dans le motif m <= k, le meme utilise pour indexer les sequences\n",
    "    entrée table : dictionaire où les clés sont les mots et les valeurs les positions dans la sequence\n",
    "    entrée sequence : chaine de caractère représentant une sequence d'ADN\n",
    "    entrée motif : chaine de caractère représentant le motif à chercher\n",
    "    entrée maxVar : le maximum variations entre le motif et un mot de taille k dans la sequence\n",
    "    sortie motifPos : dictionnaire où les clés sont les motifs trouvé et les valeurs leurs positions dans la sequence.\n",
    "    \"\"\"\n",
    "    k = len(motif)\n",
    "    motif = motif.lower()\n",
    "    motifPos = dict()\n",
    "\n",
    "    for cand,pos in table.items() :\n",
    "        if cand.lower() in motif :\n",
    "            aux_dict = dict()\n",
    "            for p in pos :\n",
    "                tmp = sequence[p:p+k].lower()\n",
    "                if hamming(motif,tmp) < maxVar : \n",
    "                    if tmp in aux_dict : aux_dict[tmp].append(p)\n",
    "                    else : aux_dict[tmp] = [p]\n",
    "            if len(aux_dict) > 0 :\n",
    "                for x,lst in aux_dict.items() :\n",
    "                    motifPos[x] = lst\n",
    "\n",
    "    return motifPos\n",
    "\n",
    "\n",
    "m = 3; motif =  \"TAGTT\"; maxVar = 2\n",
    "inds = indexTable(m, \"ACGAAATAGTTAGAA\")\n",
    "print (inds)\n",
    "#{'acg': [0], 'cga': [1], 'gaa': [2, 12], 'aaa': [3], 'aat': [4], 'ata': [5], 'tag': [6, 10], 'agt': [7], 'gtt': [8], 'tta': [9], 'aga': [11]}\n",
    "motifPos = chercherWithIndexTable(m, inds, 'ACGAAATAGTTAGAA', \"TAGTT\", maxVar)\n",
    "print (motifPos)\n",
    "#{'tagtt': [6]}"
   ]
  },
  {
   "cell_type": "markdown",
   "metadata": {
    "id": "hmedHvbACn-Z"
   },
   "source": [
    "5\\. Tester l'algorithme **\"Index of fixed length words\"** sur vos données de chipSeq. Pour cela développer une fonction pour chercher un motif d'intérêt sur chaque séquence du fichier Peaks.\n",
    "Voici les motifs que vous devez trouver selon le fichier de Peaks:\n",
    "\n",
    " - Peaks 1 Atf1 (TGCACCC / GGGTGCA)\n",
    " - Peaks 2 Atm1 (CAGCAAaaa / tttTTGCTG)\n",
    " - Peaks 3 Hap4 (CCAAT / ATTGG)\n",
    " - Peaks 4 Mac1 (GAGCAAA / TTTGCTC)\n",
    " - Peaks 5 Mac1 (GAGCAAA / TTTGCTC)\n",
    " - Peaks 6 Pdr1 (CCACGGA / TCCGTGG)\n",
    " - Peaks 7 Pdr1 (CCACGGA / TCCGTGG)"
   ]
  },
  {
   "cell_type": "code",
   "execution_count": 138,
   "metadata": {
    "id": "yHw0ytHCCn-M"
   },
   "outputs": [],
   "source": [
    "import time\n",
    "import itertools\n",
    "\n",
    "k = 7\n",
    "genome = \"C_glabrata_1000bp_only.fasta\"\n",
    "peaks = \"Sequence_by_Peaks_1.fasta\" ### modifier avec votre fichier !!!\n",
    "motif = 'gggtgca' # Le motif à localiser pour votre fichier, par example \"tgcaccc\"\n",
    "\n",
    "# Fonction modifié\n",
    "def readFasta(fastaFileName):\n",
    "    \"\"\"\n",
    "    Read a fasta file\n",
    "    entrée fastaFileName: nom du fichier fasta\n",
    "    sortie sequences: liste contenant toutes les sequences du fichier\n",
    "    \"\"\"\n",
    "\n",
    "    sequence = \"\"\n",
    "    sequences_list = []\n",
    "    prev_header = \"\"\n",
    "    header = \"\"\n",
    "\n",
    "    for line in open(fastaFileName):\n",
    "        string = line.strip()\n",
    "        if string[0] != \">\":\n",
    "            if prev_header != header:\n",
    "                # print(header) # dans le cas ou on veut garde cet info\n",
    "                prev_header = header\n",
    "            sequence = sequence + string\n",
    "        else:\n",
    "            header = string\n",
    "            if sequence != \"\":\n",
    "                sequences_list.append(sequence)\n",
    "                sequence = \"\"\n",
    "\n",
    "    sequences_list.append(sequence)\n",
    "    return sequences_list\n",
    "\n",
    "sequencesPeaks = readFasta(peaks)\n",
    "sequences1000 = readFasta(genome)\n",
    "\n",
    "\n",
    "def findMotifData(sequences, motif, m, maxVar):\n",
    "    \"\"\"\n",
    "    chercher les positions d'un motif dans un ensemble de séquence d'ADN en admettant un maximum de variations\n",
    "    entrée m : taille du mot à chercher dans le motif m <= k, le meme utilise pour indexer les sequences\n",
    "    entrée sequences : list contenant les sequence d'ADN\n",
    "    entrée motif : chaine de caractère représentant le motif à chercher\n",
    "    entrée maxVar : le maximum variations entre le motif et un mot de taille k dans la sequence\n",
    "    sortie posList : list contenant les positions dans les sequences ou se trouve le motif.\n",
    "    \"\"\"\n",
    "    #count = 0\n",
    "    posList = []\n",
    "    posDict_seq = dict()\n",
    "    i = 0\n",
    "    while i < len(sequences) :\n",
    "        idx = indexTable(m, sequences[i])\n",
    "        posDict = chercherWithIndexTable(m, idx, sequences[i], motif, maxVar)\n",
    "        if len(posDict) > 0 : posDict_seq[i] = posDict\n",
    "\n",
    "        for _,pos in posDict.items() : \n",
    "            posList += pos\n",
    "\n",
    "        i += 1\n",
    "\n",
    "    print(posDict_seq)\n",
    "    return posList\n",
    "\n"
   ]
  },
  {
   "cell_type": "code",
   "execution_count": 139,
   "metadata": {
    "id": "NSK8JswV-TZU"
   },
   "outputs": [
    {
     "name": "stdout",
     "output_type": "stream",
     "text": [
      "{0: {'gggtgca': [347]}, 1: {'gggtgca': [307]}, 4: {'gggtgca': [162]}, 11: {'gggtgca': [267]}, 13: {'gggtgca': [74]}, 29: {'gggtgca': [117]}, 38: {'gggtgca': [349]}, 40: {'gggtgca': [791]}, 46: {'gggtgca': [288]}, 53: {'gggtgca': [704]}, 55: {'gggtgca': [246]}, 77: {'gggtgca': [164]}, 89: {'gggtgca': [92]}, 93: {'gggtgca': [261]}, 101: {'gggtgca': [73]}, 102: {'gggtgca': [193]}, 112: {'gggtgca': [34]}}\n",
      "[347, 307, 162, 267, 74, 117, 349, 791, 288, 704, 246, 164, 92, 261, 73, 193, 34]\n",
      "17\n"
     ]
    }
   ],
   "source": [
    "posList = findMotifData(sequencesPeaks, motif, 4, 1)\n",
    "print(posList)\n",
    "print(len(posList))\n"
   ]
  },
  {
   "cell_type": "markdown",
   "metadata": {
    "id": "Ab90XjUGCn-c"
   },
   "source": [
    "6\\. Récupérer les motifs et générer un LOGO à l'aide de l'outil WEB-LOGO https://weblogo.berkeley.edu/logo.cgi"
   ]
  },
  {
   "cell_type": "code",
   "execution_count": null,
   "metadata": {
    "id": "O96O4exmCn-c"
   },
   "outputs": [],
   "source": []
  },
  {
   "cell_type": "markdown",
   "metadata": {
    "id": "zkavuApHCn-d"
   },
   "source": [
    "### B -  Matrice de fréquences\n",
    "7\\.Nous allons implémenter la recherche de motif par matrice de fréquence. Nous allons utiliser les matrices déjà fabriquées que vous pouvez télécharger sur le site http://jaspar.genereg.net/.\n",
    "Une fois que vous avez chargé votre matrice de fréquence, vous devez la transformer en matrice de probabilité en la normalisant, diviser chaque cellule par la somme de sa colonne."
   ]
  },
  {
   "cell_type": "code",
   "execution_count": 140,
   "metadata": {
    "colab": {
     "base_uri": "https://localhost:8080/"
    },
    "id": "3OQvYbMZCn-d",
    "outputId": "2072ddf5-8eac-4b58-d0c2-619d4c58f816"
   },
   "outputs": [
    {
     "data": {
      "text/plain": [
       "array([[136, 716, 145,  34, 160,  10, 961,   8,  25,  19],\n",
       "       [ 78,  25,  31,  47,  10, 966,   9, 972, 955, 740],\n",
       "       [142,  31, 288,  39, 812,  11,  15,   9,   2,  13],\n",
       "       [641, 226, 535, 878,  16,  10,  14,  10,  16, 225]])"
      ]
     },
     "metadata": {},
     "output_type": "display_data"
    },
    {
     "data": {
      "text/plain": [
       "array([[0.13686314, 0.71556886, 0.14556331, 0.03493014, 0.16067864,\n",
       "        0.01098901, 0.95912263, 0.00897308, 0.0259481 , 0.01998002],\n",
       "       [0.07892108, 0.0259481 , 0.03190429, 0.04790419, 0.01097804,\n",
       "        0.96603397, 0.00997009, 0.97008973, 0.95409182, 0.74025974],\n",
       "       [0.14285714, 0.03193613, 0.28813559, 0.03992016, 0.81137725,\n",
       "        0.01198801, 0.01595214, 0.00997009, 0.00299401, 0.01398601],\n",
       "       [0.64135864, 0.22654691, 0.53439681, 0.87724551, 0.01696607,\n",
       "        0.01098901, 0.01495513, 0.0109671 , 0.01696607, 0.22577423]])"
      ]
     },
     "metadata": {},
     "output_type": "display_data"
    }
   ],
   "source": [
    "import numpy as np\n",
    "\n",
    "nuc = ['A', 'C', 'G', 'T']\n",
    "q = 4\n",
    "\n",
    "#Matrice du motif Atf1, attention la matrice peut avoir plus de colonnes que le motif décrit précédemment,\n",
    "#ajuster le k ou effacer les colonnes qui ne vous intéressent pas.\n",
    "\n",
    "matFreq = np.array([[136,716,145,34,160,10,961,8,25,19],\n",
    "[78,25,31,47,10,966,9,972,955,740],\n",
    "[142,31,288,39,812,11,15,9,2,13],\n",
    "[641,226,535,878,16,10,14,10,16,225]])\n",
    "\n",
    "display(matFreq)\n",
    "\n",
    "def computing_pwm(M, cols):\n",
    "    \"\"\"\n",
    "    Calcul la matrice de poids position à partir de la matrice de frequence\n",
    "    entrée M : matrice de frequence\n",
    "    sortie PWM : matrice de probabilites ou poids position\n",
    "    \"\"\"\n",
    "    PWM = M+1\n",
    "    sum_col = np.sum(PWM,axis=0)\n",
    "\n",
    "    return PWM/sum_col\n",
    "\n",
    "k = 10\n",
    "PWM = computing_pwm(matFreq, k)\n",
    "display(PWM)\n"
   ]
  },
  {
   "cell_type": "markdown",
   "metadata": {
    "id": "GWbpvjdLCn-d"
   },
   "source": [
    "8\\. Déterminer les paramètres f(0)(b) du modèle nul, où\n",
    "\\begin{equation}\n",
    "f^{(0)}(b) = \\frac 1L \\sum_{i=0}^{L-1} \\omega_i(b)\\ ,\n",
    "\\end{equation}"
   ]
  },
  {
   "cell_type": "code",
   "execution_count": 141,
   "metadata": {
    "colab": {
     "base_uri": "https://localhost:8080/"
    },
    "id": "oP-SHzFICn-d",
    "outputId": "38374119-25b8-419f-d6a0-34424b88869f",
    "scrolled": true
   },
   "outputs": [
    {
     "name": "stdout",
     "output_type": "stream",
     "text": [
      "[0.22186169 0.3836101  0.13691165 0.25761655]\n"
     ]
    }
   ],
   "source": [
    "def f0_calcule(PWM, L):\n",
    "    \"\"\"\n",
    "    Calcul les valeurs de probabilites d'un modele independant de positions (modele Null)\n",
    "    entrée PWM : matrice de probabilites ou poids positions\n",
    "    sortie  f_0 : vecteur contenant un modele independant de positions (modele Null)\n",
    "    \"\"\"\n",
    "    return np.sum(PWM,axis=1)/L\n",
    "\n",
    "\n",
    "f_0 = f0_calcule(PWM, k)\n",
    "print (f_0)"
   ]
  },
  {
   "cell_type": "markdown",
   "metadata": {
    "id": "YE3jpfh5Cn-e"
   },
   "source": [
    "9\\. Faites une fonction pour calculer log-rapport de vraisemblancee d'une sequence de taille k et la matrice poids position.\n",
    "\n",
    "\\begin{equation}\n",
    "\\ell(b_0,...,b_{k-1}) = \\log_2 \\frac {P(b_0,...,b_{k-1} | \\omega )\n",
    "}{P^{(0)}(b_0,...,b_{k-1})}\n",
    "= \\sum_{i=0}^{k-1} \\log_2 \\frac {\\omega_i(b_i)}{f^{(0)}(b_i)}\\ .\n",
    "\\end{equation}"
   ]
  },
  {
   "cell_type": "code",
   "execution_count": 142,
   "metadata": {
    "colab": {
     "base_uri": "https://localhost:8080/"
    },
    "id": "msAGTcn_Cn-e",
    "outputId": "209a8450-323c-4852-fe81-d6a5151d88fb"
   },
   "outputs": [
    {
     "data": {
      "text/plain": [
       "3.210041670360414"
      ]
     },
     "execution_count": 142,
     "metadata": {},
     "output_type": "execute_result"
    }
   ],
   "source": [
    "def loglikehood(seq, PWM, f_0, L):\n",
    "\t\"\"\"\n",
    "\tCalcul le rapport de vraissemblance entre une sequence et une matrice de poids position\n",
    "\tentrée PWM : matrice de probabilites ou poids positions\n",
    "\tentrée f_0 : vecteur contenant le modele independant de positions (modele Null)\n",
    "\tentrée seq : une sequence d'ADN de taille k, ou k est le nombre de colonnes de PWM\n",
    "\tsortie ll : rapport de vraissemblance\n",
    "\t\"\"\"\n",
    "\tL_0 = len(seq)\n",
    "\tl_win = 0\n",
    "\t\n",
    "\tfor i in range(L) :\n",
    "\t\tx = 3\n",
    "\t\taux = seq[i].lower()\n",
    "\t\tif aux == 'a' : x = 0\n",
    "\t\telif aux == 'c' : x = 1\n",
    "\t\telif aux == 'g' : x = 2\n",
    "\t\n",
    "\t\tl_win += np.log2(PWM[x,i]/f_0[x])\n",
    "\n",
    "\treturn l_win\n",
    "\n",
    "float(loglikehood('acctgcaccc'.upper(), PWM, f_0, k))"
   ]
  },
  {
   "cell_type": "markdown",
   "metadata": {
    "id": "wqKrEGUg-TZZ"
   },
   "source": [
    "10\\. Faire une fonction que pour chaque séquence cherche la/les positions avec une log-vraisemblance positive."
   ]
  },
  {
   "cell_type": "code",
   "execution_count": 177,
   "metadata": {
    "id": "wY13WdCS-TZa",
    "outputId": "88a38de3-8c4a-41a5-afe8-be47a8fa4ee2"
   },
   "outputs": [
    {
     "name": "stdout",
     "output_type": "stream",
     "text": [
      "{0: [15, 30, 120, 363, 401, 427, 444, 533, 620, 660, 668], 1: [59, 95, 182, 526, 598, 783, 841, 946, 994, 1063], 2: [61, 197, 344, 432, 448, 478, 487], 3: [141, 171], 4: [162], 5: [], 6: [], 7: [265, 294], 8: [], 9: [], 10: [90, 123], 11: [30, 139, 288, 463], 12: [70], 13: [74, 89], 14: [48, 122, 135], 15: [], 16: [36, 185], 17: [36, 155, 228, 237, 294, 376], 18: [222, 239, 283], 19: [1], 20: [], 21: [7, 94, 124], 22: [238], 23: [], 24: [144], 25: [], 26: [38], 27: [35, 86], 28: [77, 194, 268, 331], 29: [26, 82, 202], 30: [], 31: [134, 148], 32: [65], 33: [], 34: [], 35: [104], 36: [35], 37: [84], 38: [71, 242, 307, 327, 447, 513], 39: [118, 175, 203, 235, 342, 452], 40: [64, 209, 527, 657, 809, 853, 876, 930, 1079, 1139, 1317, 1479, 1508, 1520, 1559, 1585, 1595, 1732], 41: [88, 131, 284], 42: [95, 193], 43: [], 44: [75, 88, 108], 45: [77, 101], 46: [21, 84, 92, 194, 223, 233, 246, 388], 47: [2, 37, 159, 232], 48: [125, 166, 181, 234, 246, 258], 49: [30, 51, 162], 50: [], 51: [45, 47, 167, 282, 500], 52: [276], 53: [212, 355, 507], 54: [18, 135, 156], 55: [36, 170, 252, 358], 56: [90, 129], 57: [62, 73], 58: [109, 181], 59: [74], 60: [139], 61: [], 62: [47, 128], 63: [], 64: [0], 65: [], 66: [42, 66], 67: [179, 234, 346], 68: [149, 166, 269, 332, 341], 69: [52, 127, 137, 193, 210], 70: [16, 241], 71: [116, 126, 263, 272], 72: [75, 105, 145, 207], 73: [], 74: [], 75: [63], 76: [115], 77: [27, 269, 326], 78: [31, 73, 136], 79: [31], 80: [102, 111], 81: [26], 82: [29, 153, 167, 182, 244], 83: [57], 84: [74], 85: [], 86: [29], 87: [26, 187, 351, 363], 88: [124, 263], 89: [269, 299, 329], 90: [80, 129], 91: [122, 187], 92: [], 93: [149, 192, 247], 94: [13, 93], 95: [24, 89], 96: [86, 87], 97: [103], 98: [139], 99: [74, 123], 100: [25, 177, 179], 101: [], 102: [0, 44, 153, 169, 204, 236, 271], 103: [32, 56], 104: [46, 90], 105: [1], 106: [115], 107: [69, 124], 108: [80, 179], 109: [5, 34, 79, 100, 136], 110: [2], 111: [136], 112: [34], 113: [181], 114: [3, 77, 94, 112]}\n",
      "[15, 30, 120, 363, 401, 427, 444, 533, 620, 660, 668, 59, 95, 182, 526, 598, 783, 841, 946, 994, 1063, 61, 197, 344, 432, 448, 478, 487, 141, 171, 162, 265, 294, 90, 123, 30, 139, 288, 463, 70, 74, 89, 48, 122, 135, 36, 185, 36, 155, 228, 237, 294, 376, 222, 239, 283, 1, 7, 94, 124, 238, 144, 38, 35, 86, 77, 194, 268, 331, 26, 82, 202, 134, 148, 65, 104, 35, 84, 71, 242, 307, 327, 447, 513, 118, 175, 203, 235, 342, 452, 64, 209, 527, 657, 809, 853, 876, 930, 1079, 1139, 1317, 1479, 1508, 1520, 1559, 1585, 1595, 1732, 88, 131, 284, 95, 193, 75, 88, 108, 77, 101, 21, 84, 92, 194, 223, 233, 246, 388, 2, 37, 159, 232, 125, 166, 181, 234, 246, 258, 30, 51, 162, 45, 47, 167, 282, 500, 276, 212, 355, 507, 18, 135, 156, 36, 170, 252, 358, 90, 129, 62, 73, 109, 181, 74, 139, 47, 128, 0, 42, 66, 179, 234, 346, 149, 166, 269, 332, 341, 52, 127, 137, 193, 210, 16, 241, 116, 126, 263, 272, 75, 105, 145, 207, 63, 115, 27, 269, 326, 31, 73, 136, 31, 102, 111, 26, 29, 153, 167, 182, 244, 57, 74, 29, 26, 187, 351, 363, 124, 263, 269, 299, 329, 80, 129, 122, 187, 149, 192, 247, 13, 93, 24, 89, 86, 87, 103, 139, 74, 123, 25, 177, 179, 0, 44, 153, 169, 204, 236, 271, 32, 56, 46, 90, 1, 115, 69, 124, 80, 179, 5, 34, 79, 100, 136, 2, 136, 34, 181, 3, 77, 94, 112]\n"
     ]
    }
   ],
   "source": [
    "def searchPWM(sequences, k, PWM, f_0):\n",
    "    \"\"\"\n",
    "    Cherche les positions dans un ensemble de séquence qui maxime le rapport de vraisemblance\n",
    "    entrée sequences : ensemble de séquence d'ADN\n",
    "    entrée k : nombre de colonnes d'PWM\n",
    "    entrée PWM : matrice de probabilités ou poids positions\n",
    "    entrée f_0 : vecteur contenant le modèle indépendant de positions (modèle Null)\n",
    "    sortie posList: liste contenant pour chaque séquence la/les positions ayant un rapport de vraisemblance positive\n",
    "    \"\"\"\n",
    "    #count = 0\n",
    "    posList = []\n",
    "\n",
    "    all_pos = dict()\n",
    "\n",
    "    for i in range(len(sequences)) :\n",
    "        seq = sequences[i]\n",
    "\n",
    "        pos = []\n",
    "        for j in range(len(seq)-k+1) :\n",
    "            if loglikehood(seq[j:j+k],PWM,f_0,k) > 0 : pos.append(j)\n",
    "\n",
    "        all_pos[i] = pos\n",
    "        posList += pos\n",
    "\n",
    "    print(all_pos)\n",
    "\n",
    "    return posList\n",
    "\n",
    "\n",
    "posList = searchPWM(sequencesPeaks, k, PWM, f_0)\n",
    "print(posList)\n"
   ]
  },
  {
   "cell_type": "markdown",
   "metadata": {
    "id": "nW_A2lhF-TZa"
   },
   "source": [
    "11\\.  (Bonus) Certains motifs si chevauche dans ce cas il faut choisir ceux qui ont la meilleur  log-vraisemblance. Par exemple pour une taille de motif k = 7, si vous avez deux motifs, un qui commence dans la position 45 et un autre en position 47, garder celui avec la log-vraisemblance la plus grande."
   ]
  },
  {
   "cell_type": "code",
   "execution_count": 178,
   "metadata": {
    "id": "cyuRQS9UCn-f"
   },
   "outputs": [],
   "source": [
    "def searchPWMOptmiseMotifs(sequences, k, PWM, f_0):\n",
    "    \"\"\"\n",
    "    Cherche les positions dans un ensemble de séquence qui maxime le rapport de vraisemblance et elimine les motifs chevauchante\n",
    "    entrée sequences : ensemble de séquence d'ADN\n",
    "    entrée k : nombre de colonnes d'PWM\n",
    "    entrée PWM : matrice de probabilités ou poids positions\n",
    "    entrée f_0 : vecteur contenant le modèle indépendant de positions (modèle Null)\n",
    "    sortie posList: liste contenant pour chaque séquence la/les positions ayant un rapport de vraisemblance positive\n",
    "\n",
    "    \"\"\"\n",
    "\n",
    "    posList = []\n",
    "\n",
    "    all_pos = dict()\n",
    "\n",
    "\n",
    "    for i in range(len(sequences)) :\n",
    "        seq = sequences[i]\n",
    "        limit = len(seq)\n",
    "\n",
    "        pos = []\n",
    "        prev_pos, prev_log = -1,0\n",
    "\n",
    "        for j in range(len(seq)-k+1) :\n",
    "            curr_log = loglikehood(seq[j:j+k],PWM,f_0,k)\n",
    "\n",
    "            if curr_log > 0 :\n",
    "                if j <= prev_pos+k and curr_log > prev_log : \n",
    "                    if prev_pos in pos : pos.remove(prev_pos)\n",
    "                else : \n",
    "                    pos.append(j)\n",
    "                prev_pos = j\n",
    "                prev_log = curr_log\n",
    "\n",
    "        all_pos[i] = pos\n",
    "        posList += pos\n",
    "    \n",
    "    return all_pos"
   ]
  },
  {
   "cell_type": "code",
   "execution_count": 210,
   "metadata": {
    "id": "v4MZ0n-i-TZc"
   },
   "outputs": [
    {
     "name": "stdout",
     "output_type": "stream",
     "text": [
      "{0: [15, 30, 120, 363, 401, 427, 444, 533, 620], 1: [59, 95, 182, 526, 598, 783, 841, 946, 994, 1063], 2: [61, 197, 344, 432, 448], 3: [141, 171], 4: [162], 5: [], 6: [], 7: [265, 294], 8: [], 9: [], 10: [90, 123], 11: [30, 139, 288, 463], 12: [70], 13: [74, 89], 14: [48, 122, 135], 15: [], 16: [36, 185], 17: [36, 155, 228, 237, 294, 376], 18: [222, 239, 283], 19: [], 20: [], 21: [94, 124], 22: [238], 23: [], 24: [144], 25: [], 26: [38], 27: [35, 86], 28: [77, 194, 268, 331], 29: [26, 82, 202], 30: [], 31: [134, 148], 32: [65], 33: [], 34: [], 35: [104], 36: [35], 37: [84], 38: [71, 242, 307, 327, 447, 513], 39: [118, 175, 203, 235, 342, 452], 40: [64, 209, 527, 657, 809, 853, 876, 930, 1079, 1139, 1317, 1479, 1508, 1520, 1559, 1585, 1595, 1732], 41: [88, 131, 284], 42: [95, 193], 43: [], 44: [75, 88, 108], 45: [77, 101], 46: [21, 84, 92, 194, 246, 388], 47: [37, 159, 232], 48: [125, 166, 181, 234, 246, 258], 49: [30, 51, 162], 50: [], 51: [45, 47, 167, 282, 500], 52: [276], 53: [212, 355, 507], 54: [18, 135, 156], 55: [36, 170, 252, 358], 56: [90, 129], 57: [62, 73], 58: [109, 181], 59: [74], 60: [139], 61: [], 62: [47, 128], 63: [], 64: [], 65: [], 66: [42, 66], 67: [179, 234, 346], 68: [149, 166, 269, 332, 341], 69: [52, 193, 210], 70: [16, 241], 71: [116, 126], 72: [75, 105, 145, 207], 73: [], 74: [], 75: [63], 76: [115], 77: [27, 269, 326], 78: [31, 73, 136], 79: [31], 80: [], 81: [26], 82: [29, 153, 167, 182, 244], 83: [57], 84: [74], 85: [], 86: [29], 87: [26, 187, 351, 363], 88: [124, 263], 89: [269, 299, 329], 90: [80, 129], 91: [122, 187], 92: [], 93: [149, 192, 247], 94: [13, 93], 95: [24, 89], 96: [], 97: [103], 98: [139], 99: [74, 123], 100: [25, 177, 179], 101: [], 102: [44, 153, 169, 204, 236, 271], 103: [32, 56], 104: [46, 90], 105: [], 106: [115], 107: [69, 124], 108: [80, 179], 109: [34, 79, 100, 136], 110: [], 111: [136], 112: [34], 113: [181], 114: [77, 94, 112]}\n"
     ]
    }
   ],
   "source": [
    "optList = searchPWMOptmiseMotifs(sequencesPeaks, k, PWM, f_0)\n",
    "print(optList)"
   ]
  },
  {
   "cell_type": "markdown",
   "metadata": {
    "id": "nZYLXP2HCn-e"
   },
   "source": [
    "12\\.Tester l'algorithme sur vos données de chipSeq et dessiner le LOGO"
   ]
  },
  {
   "cell_type": "code",
   "execution_count": 211,
   "metadata": {},
   "outputs": [
    {
     "name": "stdout",
     "output_type": "stream",
     "text": [
      "{0: [30, 71, 91, 144, 155, 176, 238, 264, 288, 325, 347, 363, 375, 380, 392, 401, 427, 444, 455, 481, 496, 519, 533, 541, 561, 620, 624, 635, 660, 662, 683, 688, 812, 814, 840], 1: [37, 55, 71, 97, 116, 131, 158, 182, 217, 222, 234, 245, 254, 255, 283, 307, 353, 366, 380, 386, 390, 398, 406, 411, 429, 467, 513, 526, 571, 583, 585, 598, 641, 650, 703, 751, 758, 783, 799, 843, 902, 907, 912, 932, 946, 956, 966, 975, 1016, 1034, 1038, 1050, 1063, 1078, 1091, 1103], 2: [9, 18, 48, 61, 126, 159, 180, 190, 197, 244, 284, 307, 331, 344, 369, 388, 393, 404, 424, 432, 448, 450, 465, 470, 487, 489], 3: [9, 42, 78, 98, 119, 121, 141, 181, 238], 4: [8, 15, 30, 45, 82, 107, 127, 162, 176, 181, 195, 209, 239, 245, 249, 264, 276], 5: [15, 38, 58, 86, 96, 127, 180, 198, 207, 219], 6: [57, 62, 124, 137, 164, 185], 7: [32, 50, 142, 157, 191, 196, 207, 236, 250, 265, 279, 294, 308, 320], 8: [9, 28, 45, 47, 84, 94, 95, 104, 142], 9: [25, 56, 76, 96, 126, 144], 10: [7, 22, 57, 63, 82, 90, 123], 11: [30, 78, 99, 139, 152, 166, 182, 183, 267, 275, 285, 320, 339, 360, 368, 381, 418, 434, 463, 484, 504, 508, 539], 12: [39, 41, 56, 62, 70, 85], 13: [19, 25, 36, 44, 60, 74, 101, 109, 134], 14: [10, 48, 73, 83, 122, 135], 15: [57, 75, 84, 127, 132, 140, 146, 155, 166, 182], 16: [46, 64, 85, 100, 150, 185, 188], 17: [18, 84, 98, 103, 117, 126, 155, 194, 220, 228, 270, 282, 303, 329, 353], 18: [22, 34, 45, 65, 87, 91, 103, 127, 130, 136, 164, 212, 239, 251, 283, 313, 324, 327, 331], 19: [88, 107, 125, 138], 20: [9, 32, 52, 97, 103, 105, 123], 21: [7, 22, 40, 70, 76, 94, 112, 116, 124, 154, 183, 192], 22: [42, 52, 79, 91, 97, 103, 124, 132, 159, 163, 191, 208, 229, 238, 247, 249, 280, 292], 23: [16, 21, 40, 42, 52, 71, 76, 123, 124, 136], 24: [36, 44, 99, 111, 183], 25: [13, 43, 52, 58, 87, 96, 111, 124, 135], 26: [79, 104, 137], 27: [35, 47, 53, 61, 116, 124, 147, 165, 188, 224, 238], 28: [64, 77, 111, 127, 139, 194, 208, 251, 268, 270, 288, 333, 343], 29: [26, 61, 73, 82, 103, 117, 138, 166, 181, 202, 210, 215, 241], 30: [18, 32, 37, 47, 63, 71, 99, 115, 129], 31: [79, 95, 114, 134, 148, 164, 172, 191, 193, 201, 229, 244], 32: [19, 35, 43, 50, 149, 178, 191], 33: [46, 94, 99], 34: [22, 94, 122, 134], 35: [9, 59, 64, 72, 102, 114, 125, 160, 167], 36: [25, 56, 74, 107, 122, 139], 37: [35, 84], 38: [33, 55, 71, 88, 125, 144, 191, 259, 266, 299, 307, 327, 349, 354, 397, 447, 513, 542], 39: [24, 50, 58, 73, 90, 103, 118, 123, 140, 148, 173, 175, 185, 203, 216, 235, 249, 258, 260, 320, 332, 340, 390, 490], 40: [21, 64, 77, 101, 106, 120, 172, 179, 198, 211, 223, 227, 253, 332, 343, 385, 399, 408, 422, 462, 470, 512, 527, 576, 640, 657, 669, 676, 749, 775, 791, 821, 842, 853, 876, 896, 907, 917, 961, 976, 1014, 1027, 1037, 1043, 1072, 1079, 1099, 1157, 1180, 1215, 1225, 1235, 1262, 1279, 1298, 1317, 1319, 1366, 1470, 1479, 1508, 1533, 1552, 1585, 1608, 1656, 1664, 1683, 1714, 1722, 1732, 1747, 1776, 1800, 1909, 1935, 1945, 1959, 1967, 1988, 2004, 2011, 2022, 2042], 41: [45, 88, 155, 172, 184, 210, 218, 227, 239, 241, 256, 359, 372, 384], 42: [8, 33, 50, 83, 95, 104, 132, 168, 208, 215], 43: [32, 61, 72, 103, 143, 151], 44: [30, 52, 62, 75, 88], 45: [17, 31, 101, 122, 133], 46: [21, 45, 61, 67, 73, 84, 92, 106, 120, 156, 161, 223, 233, 259, 272, 278, 288, 373, 388, 439], 47: [37, 62, 72, 86, 122, 159, 193, 198, 232], 48: [31, 53, 65, 77, 85, 98, 125, 166, 181, 195, 203, 212, 223, 234, 246, 258, 269, 290, 310, 317, 326], 49: [9, 17, 30, 51, 92, 110, 112, 118, 144, 156, 162, 174], 50: [9, 57, 66, 83, 131, 139], 51: [47, 95, 107, 119, 176, 184, 189, 193, 208, 247, 264, 273, 282, 284, 311, 322, 329, 399, 425, 433, 444, 500, 519, 521, 524, 537, 548, 584], 52: [13, 45, 53, 70, 99, 114, 127, 147, 159, 184, 230, 243, 272, 289, 320, 377, 389], 53: [29, 113, 118, 131, 139, 155, 190, 212, 247, 282, 317, 319, 347, 355, 389, 398, 401, 420, 427, 438, 492, 507, 601, 626, 662, 691, 704, 732, 781, 821, 832, 838, 883, 940, 948, 956, 966, 980, 985], 54: [18, 42, 57, 91, 102, 110, 125, 135, 136, 148, 156, 237], 55: [16, 47, 74, 93, 151, 170, 177, 213, 223, 231, 233, 246, 252, 295, 297, 316, 342, 358, 360, 373, 378], 56: [21, 62, 70, 90, 129], 57: [62, 73, 83, 98, 99, 121, 134, 243], 58: [99, 109, 133, 172, 193], 59: [46, 52], 60: [32, 42, 51, 56, 65, 75, 125, 139, 141], 61: [48, 68, 84, 96, 115, 120, 131, 140, 159, 173], 62: [8, 25, 47, 56, 98, 128, 130, 139], 63: [12, 20, 43, 72, 94, 129, 138, 165, 185, 193], 64: [115, 120, 125, 132], 65: [24, 30, 45, 54, 59, 68, 78, 87, 113, 127], 66: [10, 29, 42, 51, 53, 66, 98, 130], 67: [109, 153, 163, 179, 222, 234, 248, 260, 280, 282, 317, 328, 337, 346, 351, 394], 68: [18, 25, 34, 67, 76, 94, 122, 149, 166, 180, 286, 297, 323, 332, 341], 69: [11, 52, 81, 127, 137, 139, 156, 171, 182, 193, 210], 70: [16, 59, 71, 98, 211, 227], 71: [44, 79, 116, 126, 148, 172, 189, 254, 263, 272, 293], 72: [41, 75, 105, 114, 145, 173, 189, 197, 207, 221, 244, 252], 73: [16, 26, 34, 60, 90, 97, 103, 113, 123, 132, 143, 157, 179], 74: [22, 36, 44, 52, 63, 76, 142, 144], 75: [24, 35, 63, 83, 106, 124, 127], 76: [27, 35, 47, 70, 77, 85, 92, 107, 115, 135, 144, 166, 175, 183, 192, 240], 77: [27, 38, 58, 85, 104, 123, 164, 171, 201, 208, 225, 240, 252, 269, 283, 302, 326, 335, 377, 390], 78: [16, 19, 31, 33, 57, 73, 97, 112, 127], 79: [9, 20, 41, 67, 76, 89, 100, 111, 120, 155, 166], 80: [15, 36, 46, 80, 113, 140], 81: [36, 139, 163, 168], 82: [63, 98, 116, 147, 167, 244, 253, 283], 83: [3, 9, 17, 37, 57, 79, 99, 125, 131], 84: [14, 62, 74, 121], 85: [7, 24, 26, 46, 81, 100, 105, 134], 86: [20, 21, 29, 82, 110, 135], 87: [26, 49, 56, 68, 84, 106, 174, 177, 187, 189, 234, 288, 310, 333, 340, 342, 351, 390, 397, 424, 442, 455], 88: [15, 28, 52, 105, 151, 156, 173, 183, 197, 206, 208, 225, 227, 244, 263, 270, 288], 89: [40, 48, 70, 79, 92, 108, 117, 132, 161, 163, 231, 247, 252, 261, 269, 283, 301, 313, 354, 393], 90: [37, 49, 69, 80, 113], 91: [20, 31, 51, 114, 144, 173, 187, 232, 267, 343], 92: [48, 63, 69, 92], 93: [46, 62, 75, 81, 105, 121, 149, 187, 228, 261, 273, 284, 302, 323, 337], 94: [13, 24, 26, 93, 127, 140, 142, 161, 168], 95: [19, 48, 89, 124, 126, 137, 142, 167], 96: [27, 37, 73, 99, 113, 122, 129, 162, 182, 190], 97: [38, 60, 65, 76, 103, 146, 168, 189], 98: [35, 46, 82, 94, 129, 139, 164, 189, 208, 217, 238, 281, 307], 99: [30, 43, 74, 76, 114, 123, 135, 139], 100: [9, 43, 68, 73, 153, 164, 177, 179, 210, 219, 236], 101: [35, 44, 49, 73, 82, 90, 95, 109, 111, 119], 102: [30, 44, 53, 84, 129, 153, 193, 199, 221, 236, 255, 271, 287], 103: [32, 70, 172, 189, 232], 104: [14, 36, 46, 59, 60, 68, 114, 124, 134, 143], 105: [3, 27, 53, 59, 89, 111, 149, 152, 181], 106: [10, 60, 82, 97, 136, 145, 157, 160], 107: [26, 35, 50, 69, 115, 124], 108: [20, 44, 80, 93, 104, 108, 144, 179, 194], 109: [34, 46, 89, 136, 138], 110: [8, 30, 35, 52, 63, 91, 100, 111, 124, 140], 111: [56, 67, 88, 120, 122], 112: [10, 34, 49, 79, 90, 166], 113: [21, 39, 52, 53, 72, 95, 103, 124, 134, 149, 170, 181, 200, 210, 229, 269, 282], 114: [12, 54, 77, 79, 94, 112, 114, 143, 152, 167, 175, 180, 189, 222, 237, 271, 285]}\n"
     ]
    }
   ],
   "source": [
    "peaks1 = searchPWMOptmiseMotifs(sequencesPeaks,7,PWM,f_0) \n",
    "print(peaks1)"
   ]
  },
  {
   "cell_type": "code",
   "execution_count": 212,
   "metadata": {},
   "outputs": [],
   "source": [
    "found = dict()\n",
    "for idx,pos in peaks1.items() :\n",
    "    seq = sequencesPeaks[idx]\n",
    "    for p in pos :\n",
    "        aux = seq[p:p+7]\n",
    "        if aux in found : found[aux] += 1\n",
    "        else : found[aux] = 1"
   ]
  },
  {
   "cell_type": "code",
   "execution_count": 216,
   "metadata": {},
   "outputs": [
    {
     "data": {
      "text/plain": [
       "{'gggtgca': 17,\n",
       " 'tatttca': 13,\n",
       " 'tattgaa': 11,\n",
       " 'ttattca': 10,\n",
       " 'aaaaaca': 10,\n",
       " 'gaaagca': 9,\n",
       " 'atttgta': 9,\n",
       " 'taataaa': 9,\n",
       " 'taaaaca': 8,\n",
       " 'atttaca': 8}"
      ]
     },
     "execution_count": 216,
     "metadata": {},
     "output_type": "execute_result"
    }
   ],
   "source": [
    "from functions import getTopMotifs\n",
    "getTopMotifs(found,10,True)"
   ]
  },
  {
   "cell_type": "code",
   "execution_count": 214,
   "metadata": {},
   "outputs": [],
   "source": [
    "m1 = 'tgcaccc'\n",
    "m2 = 'gggtgca'"
   ]
  },
  {
   "cell_type": "code",
   "execution_count": 215,
   "metadata": {},
   "outputs": [
    {
     "data": {
      "text/plain": [
       "(False, True)"
      ]
     },
     "execution_count": 215,
     "metadata": {},
     "output_type": "execute_result"
    }
   ],
   "source": [
    "m1 in found, m2 in found"
   ]
  },
  {
   "cell_type": "code",
   "execution_count": null,
   "metadata": {},
   "outputs": [],
   "source": []
  }
 ],
 "metadata": {
  "celltoolbar": "Raw Cell Format",
  "colab": {
   "provenance": []
  },
  "kernelspec": {
   "display_name": "Python 3 (ipykernel)",
   "language": "python",
   "name": "python3"
  },
  "language_info": {
   "codemirror_mode": {
    "name": "ipython",
    "version": 3
   },
   "file_extension": ".py",
   "mimetype": "text/x-python",
   "name": "python",
   "nbconvert_exporter": "python",
   "pygments_lexer": "ipython3",
   "version": "3.12.4"
  }
 },
 "nbformat": 4,
 "nbformat_minor": 1
}
