{
 "cells": [
  {
   "cell_type": "code",
   "execution_count": 1,
   "metadata": {},
   "outputs": [],
   "source": [
    "# import functions and libraries\n",
    "import statistics as stats\n",
    "from functions import *"
   ]
  },
  {
   "cell_type": "markdown",
   "metadata": {},
   "source": [
    "# Data"
   ]
  },
  {
   "cell_type": "markdown",
   "metadata": {},
   "source": [
    "## Peaks1 : Fasta File"
   ]
  },
  {
   "cell_type": "code",
   "execution_count": 2,
   "metadata": {},
   "outputs": [],
   "source": [
    "peaks = readFasta(\"Sequence_by_Peaks_1.fasta\")\n",
    "peaks = [seq.upper() for seq in peaks]"
   ]
  },
  {
   "cell_type": "markdown",
   "metadata": {},
   "source": [
    "Information about Peaks 1"
   ]
  },
  {
   "cell_type": "code",
   "execution_count": 3,
   "metadata": {},
   "outputs": [
    {
     "name": "stdout",
     "output_type": "stream",
     "text": [
      "number of sequences : 115\n",
      "average length of sequences : 277.087 nt\n",
      "min length : 151 nt\n",
      "max length : 2051 nt\n",
      "\n",
      "data structure of peaks : <class 'list'>\n"
     ]
    }
   ],
   "source": [
    "print(f'number of sequences : {len(peaks)}')\n",
    "seq_len = [len(seq) for seq in peaks]\n",
    "print(f'average length of sequences : {round(stats.mean(seq_len),3)} nt')\n",
    "print(f'min length : {min(seq_len)} nt')\n",
    "print(f'max length : {max(seq_len)} nt')\n",
    "print(f'\\ndata structure of peaks : {type(peaks)}')"
   ]
  },
  {
   "cell_type": "markdown",
   "metadata": {},
   "source": [
    "## Fixation Site of the Transcription Factor `AFT1`"
   ]
  },
  {
   "cell_type": "code",
   "execution_count": 4,
   "metadata": {},
   "outputs": [],
   "source": [
    "aft1 = \"GGGTGCA\""
   ]
  },
  {
   "cell_type": "markdown",
   "metadata": {},
   "source": [
    "### Checking the thresholds"
   ]
  },
  {
   "cell_type": "markdown",
   "metadata": {},
   "source": [
    "To make sure that we don't accidentally eliminate aft1, we should find the threshold parameters."
   ]
  },
  {
   "cell_type": "code",
   "execution_count": 5,
   "metadata": {},
   "outputs": [
    {
     "data": {
      "text/plain": [
       "['GGGTGCA']"
      ]
     },
     "execution_count": 5,
     "metadata": {},
     "output_type": "execute_result"
    }
   ],
   "source": [
    "removeLowComplexeHomo({aft1:1},5)"
   ]
  },
  {
   "cell_type": "code",
   "execution_count": 6,
   "metadata": {},
   "outputs": [
    {
     "data": {
      "text/plain": [
       "['GGGTGCA']"
      ]
     },
     "execution_count": 6,
     "metadata": {},
     "output_type": "execute_result"
    }
   ],
   "source": [
    "removeLowComplexeHetero({aft1:1},2)"
   ]
  },
  {
   "cell_type": "code",
   "execution_count": 7,
   "metadata": {},
   "outputs": [
    {
     "data": {
      "text/plain": [
       "['GGGTGCA']"
      ]
     },
     "execution_count": 7,
     "metadata": {},
     "output_type": "execute_result"
    }
   ],
   "source": [
    "removeTARich({aft1:1},0.3)"
   ]
  },
  {
   "cell_type": "markdown",
   "metadata": {},
   "source": [
    "# Preparing the candidate kmers"
   ]
  },
  {
   "cell_type": "code",
   "execution_count": 8,
   "metadata": {},
   "outputs": [],
   "source": [
    "k = 7\n",
    "m = 5\n",
    "n = 2\n",
    "p = 0.3"
   ]
  },
  {
   "cell_type": "markdown",
   "metadata": {},
   "source": [
    "Search all possible motifs of size k of all the sequences and their frequences."
   ]
  },
  {
   "cell_type": "code",
   "execution_count": 9,
   "metadata": {},
   "outputs": [
    {
     "name": "stdout",
     "output_type": "stream",
     "text": [
      "data structure of peaks_kmers : <class 'dict'>\n",
      "number of kmers : 11724\n"
     ]
    }
   ],
   "source": [
    "peaks_kmers = searchMotifs(k,peaks)\n",
    "\n",
    "print(f'data structure of peaks_kmers : {type(peaks_kmers)}')\n",
    "print(f'number of kmers : {len(peaks_kmers)}')"
   ]
  },
  {
   "cell_type": "markdown",
   "metadata": {},
   "source": [
    "Not all of these kmers are informative so we'll eliminate these candidate kmers with different conditions."
   ]
  },
  {
   "cell_type": "code",
   "execution_count": 10,
   "metadata": {},
   "outputs": [
    {
     "name": "stdout",
     "output_type": "stream",
     "text": [
      "data structure of peaks_kmers : <class 'list'>\n",
      "number of kmers : 11028\n",
      "number of kmers reduced : 696\n"
     ]
    }
   ],
   "source": [
    "rem_homo = removeLowComplexeHomo(peaks_kmers,m)\n",
    "\n",
    "print(f'data structure of peaks_kmers : {type(rem_homo)}')\n",
    "print(f'number of kmers : {len(rem_homo)}')\n",
    "print(f'number of kmers reduced : {len(peaks_kmers)-len(rem_homo)}')"
   ]
  },
  {
   "cell_type": "code",
   "execution_count": 11,
   "metadata": {},
   "outputs": [
    {
     "name": "stdout",
     "output_type": "stream",
     "text": [
      "data structure of peaks_kmers : <class 'list'>\n",
      "number of kmers : 6860\n",
      "number of kmers reduced : 4168\n"
     ]
    }
   ],
   "source": [
    "rem_het = removeLowComplexeHetero(rem_homo,n)\n",
    "\n",
    "print(f'data structure of peaks_kmers : {type(rem_het)}')\n",
    "print(f'number of kmers : {len(rem_het)}')\n",
    "print(f'number of kmers reduced : {len(rem_homo)-len(rem_het)}')"
   ]
  },
  {
   "cell_type": "code",
   "execution_count": 12,
   "metadata": {},
   "outputs": [
    {
     "name": "stdout",
     "output_type": "stream",
     "text": [
      "data structure of peaks_kmers : <class 'list'>\n",
      "number of kmers : 506\n",
      "number of kmers reduced : 6354\n"
     ]
    }
   ],
   "source": [
    "rem_ta = removeTARich(rem_het,p)\n",
    "\n",
    "print(f'data structure of peaks_kmers : {type(rem_ta)}')\n",
    "print(f'number of kmers : {len(rem_ta)}')\n",
    "print(f'number of kmers reduced : {len(rem_het)-len(rem_ta)}')"
   ]
  },
  {
   "cell_type": "code",
   "execution_count": 13,
   "metadata": {},
   "outputs": [],
   "source": [
    "kmers = rem_ta"
   ]
  },
  {
   "cell_type": "markdown",
   "metadata": {},
   "source": [
    "# Evaluating the resulting candidate kmers"
   ]
  },
  {
   "cell_type": "code",
   "execution_count": 14,
   "metadata": {},
   "outputs": [],
   "source": [
    "def compare(cand,ref) :\n",
    "    dist = dict()\n",
    "    aux = ref\n",
    "\n",
    "    i = 0\n",
    "    while i < len(ref)-2 :\n",
    "        d = 0\n",
    "        j = 0\n",
    "        while j < len(aux) :\n",
    "            if aux[j] != cand[j] : d += 1\n",
    "            j += 1\n",
    "        dist[aux] = (d,i)\n",
    "        i += 1\n",
    "        aux = aux[1:]\n",
    "    return min(dist.items(), key=lambda x: x[1])"
   ]
  },
  {
   "cell_type": "code",
   "execution_count": 15,
   "metadata": {},
   "outputs": [],
   "source": [
    "def eval(kmers,ref) :\n",
    "    return {cand:compare(cand,ref) for cand in kmers}"
   ]
  },
  {
   "cell_type": "markdown",
   "metadata": {},
   "source": [
    "# Calculations"
   ]
  },
  {
   "cell_type": "markdown",
   "metadata": {},
   "source": [
    "## HashTable"
   ]
  },
  {
   "cell_type": "code",
   "execution_count": 30,
   "metadata": {},
   "outputs": [
    {
     "name": "stdout",
     "output_type": "stream",
     "text": [
      "Top 5 candidates found by HashTable\n",
      "{'TGCACCC': 21, 'GGGTGCA': 17, 'CTGCACC': 10, 'GTGCACC': 7, 'GCACCCT': 6}\n"
     ]
    }
   ],
   "source": [
    "ht = hashTable(peaks,kmers)\n",
    "ht_top = getTopMotifs(ht,5,True)\n",
    "print(\"Top 5 candidates found by HashTable\")\n",
    "print(ht_top)"
   ]
  },
  {
   "cell_type": "code",
   "execution_count": 17,
   "metadata": {},
   "outputs": [
    {
     "data": {
      "text/plain": [
       "{'TGCACCC': ('TGCA', (0, 3)),\n",
       " 'GGGTGCA': ('GGGTGCA', (0, 0)),\n",
       " 'CTGCACC': ('GTGCA', (1, 2)),\n",
       " 'GTGCACC': ('GTGCA', (0, 2)),\n",
       " 'GCACCCT': ('GCA', (0, 4))}"
      ]
     },
     "execution_count": 17,
     "metadata": {},
     "output_type": "execute_result"
    }
   ],
   "source": [
    "eval(ht_top,aft1)"
   ]
  },
  {
   "cell_type": "markdown",
   "metadata": {},
   "source": [
    "## Median String"
   ]
  },
  {
   "cell_type": "code",
   "execution_count": 18,
   "metadata": {},
   "outputs": [],
   "source": [
    "ms = medianStringSearch(peaks,kmers)"
   ]
  },
  {
   "cell_type": "code",
   "execution_count": 31,
   "metadata": {},
   "outputs": [
    {
     "name": "stdout",
     "output_type": "stream",
     "text": [
      "Top 5 candidates found by Median String\n",
      "{'TGCACCC': 191, 'GGGTGCA': 195, 'GGTGCAC': 199, 'GGTGCAG': 200, 'CTGCACC': 203}\n"
     ]
    }
   ],
   "source": [
    "ms_top = getTopMotifs(ms,5,False)\n",
    "print(\"Top 5 candidates found by Median String\")\n",
    "print(ms_top)"
   ]
  },
  {
   "cell_type": "code",
   "execution_count": 20,
   "metadata": {},
   "outputs": [
    {
     "data": {
      "text/plain": [
       "{'TGCACCC': ('TGCA', (0, 3)),\n",
       " 'GGGTGCA': ('GGGTGCA', (0, 0)),\n",
       " 'GGTGCAC': ('GGTGCA', (0, 1)),\n",
       " 'GGTGCAG': ('GGTGCA', (0, 1)),\n",
       " 'CTGCACC': ('GTGCA', (1, 2))}"
      ]
     },
     "execution_count": 20,
     "metadata": {},
     "output_type": "execute_result"
    }
   ],
   "source": [
    "eval(ms_top,aft1)"
   ]
  },
  {
   "cell_type": "markdown",
   "metadata": {},
   "source": [
    "## Suffix Trees"
   ]
  },
  {
   "cell_type": "code",
   "execution_count": 32,
   "metadata": {},
   "outputs": [
    {
     "name": "stdout",
     "output_type": "stream",
     "text": [
      "Top 5 candidates found by Suffix Trees\n",
      "{'GGGTGCA': 17, 'GGGTGTA': 9, 'GGGTGAA': 5, 'GGGTGCC': 4, 'GGGTGCT': 3}\n"
     ]
    }
   ],
   "source": [
    "peaks_concat = \" \".join(peaks)\n",
    "stree = constructTree(peaks_concat)\n",
    "motif_occur_var, motif_occur_var_seqs = inexactMatch([aft1],peaks_concat,stree,1)\n",
    "st_top = getTopMotifs(motif_occur_var,5,True)\n",
    "print(\"Top 5 candidates found by Suffix Trees\")\n",
    "print(st_top)"
   ]
  },
  {
   "cell_type": "code",
   "execution_count": 26,
   "metadata": {},
   "outputs": [
    {
     "data": {
      "text/plain": [
       "{'GGGTGCA': ('GGGTGCA', (0, 0)),\n",
       " 'GGGTGTA': ('GGGTGCA', (1, 0)),\n",
       " 'GGGTGAA': ('GGGTGCA', (1, 0)),\n",
       " 'GGGTGCC': ('GGGTGCA', (1, 0)),\n",
       " 'GGGTGCT': ('GGGTGCA', (1, 0))}"
      ]
     },
     "execution_count": 26,
     "metadata": {},
     "output_type": "execute_result"
    }
   ],
   "source": [
    "eval(st_top,aft1)"
   ]
  },
  {
   "cell_type": "code",
   "execution_count": 28,
   "metadata": {},
   "outputs": [
    {
     "name": "stdout",
     "output_type": "stream",
     "text": [
      "Is it a variation of GGGTGCA?\n",
      "GGGTGTA : True\n",
      "GGGTGAA : True\n",
      "GGGTGCC : True\n",
      "GGGTGCT : True\n"
     ]
    }
   ],
   "source": [
    "print(\"Is it a variation of GGGTGCA?\")\n",
    "for x in st_top :\n",
    "    if x != \"GGGTGCA\" : print(f'{x} : {x in motif_occur_var_seqs[\"GGGTGCA\"]}')"
   ]
  },
  {
   "cell_type": "markdown",
   "metadata": {},
   "source": [
    "# Conclusion"
   ]
  },
  {
   "cell_type": "markdown",
   "metadata": {},
   "source": [
    "## HashTable\n",
    "| motif | match | distance | displacement |\n",
    "| :-: | :-: | :-: | :-: |\n",
    "| TGCACCC | TGCA | 0 | 3 |\n",
    "| GGGTGCA | GGGTGCA | 0 | 0 |\n",
    "| CTGCACC | GTGCA | 1 | 2 |\n",
    "| GTGCACC | GTGCA | 0 | 2 |\n",
    "| GCACCCT | GCA | 0 | 4 |"
   ]
  },
  {
   "cell_type": "markdown",
   "metadata": {},
   "source": [
    "## Median String\n",
    "| motif | match | distance | displacement |\n",
    "| :-: | :-: | :-: | :-: |\n",
    "| TGCACCC | TGCA | 0 | 3 |\n",
    "| GGGTGCA | GGGTGCA | 0 | 0 |\n",
    "| GGTGCAC | GGTGCA | 0 | 1 |\n",
    "| GGTGCAG | GGTGCA | 0 | 1 |\n",
    "| CTGCACC | GTGCA | 1 | 2 |"
   ]
  },
  {
   "cell_type": "markdown",
   "metadata": {},
   "source": [
    "## Suffix Trees\n",
    "| motif | match | distance | displacement | variation |\n",
    "| :-: | :-: | :-: | :-: | :-: |\n",
    "| GGGTGCA | GGGTGCA | 0 | 0 | original |\n",
    "| GGGTGTA | GGGTGCA | 1 | 0 | 1 |\n",
    "| GGGTGAA | GGGTGCA | 1 | 0 | 1 |\n",
    "| GGGTGCC | GGGTGCA | 1 | 0 | 1 |\n",
    "| GGGTGCT | GGGTGCA | 1 | 0 | 1 |"
   ]
  }
 ],
 "metadata": {
  "kernelspec": {
   "display_name": ".venv",
   "language": "python",
   "name": "python3"
  },
  "language_info": {
   "codemirror_mode": {
    "name": "ipython",
    "version": 3
   },
   "file_extension": ".py",
   "mimetype": "text/x-python",
   "name": "python",
   "nbconvert_exporter": "python",
   "pygments_lexer": "ipython3",
   "version": "3.12.4"
  },
  "orig_nbformat": 4
 },
 "nbformat": 4,
 "nbformat_minor": 2
}
