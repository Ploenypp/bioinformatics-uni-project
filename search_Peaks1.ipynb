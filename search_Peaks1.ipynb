{
 "cells": [
  {
   "cell_type": "code",
   "execution_count": 181,
   "metadata": {},
   "outputs": [],
   "source": [
    "# import functions and libraries\n",
    "import statistics as stats\n",
    "import numpy as np\n",
    "import pandas as pd\n",
    "\n",
    "from functions import *"
   ]
  },
  {
   "cell_type": "markdown",
   "metadata": {},
   "source": [
    "# Data"
   ]
  },
  {
   "cell_type": "markdown",
   "metadata": {},
   "source": [
    "## Peaks1 : Fasta File"
   ]
  },
  {
   "cell_type": "code",
   "execution_count": 182,
   "metadata": {},
   "outputs": [],
   "source": [
    "peaks = readFasta(\"Sequence_by_Peaks_1.fasta\")\n",
    "peaks = [seq.upper() for seq in peaks]"
   ]
  },
  {
   "cell_type": "markdown",
   "metadata": {},
   "source": [
    "Information about Peaks 1"
   ]
  },
  {
   "cell_type": "code",
   "execution_count": 183,
   "metadata": {},
   "outputs": [
    {
     "name": "stdout",
     "output_type": "stream",
     "text": [
      "number of sequences : 115\n",
      "average length of sequences : 277.087 nt\n",
      "min length : 151 nt\n",
      "max length : 2051 nt\n",
      "\n",
      "data structure of peaks : <class 'list'>\n"
     ]
    }
   ],
   "source": [
    "print(f'number of sequences : {len(peaks)}')\n",
    "seq_len = [len(seq) for seq in peaks]\n",
    "print(f'average length of sequences : {round(stats.mean(seq_len),3)} nt')\n",
    "print(f'min length : {min(seq_len)} nt')\n",
    "print(f'max length : {max(seq_len)} nt')\n",
    "print(f'\\ndata structure of peaks : {type(peaks)}')"
   ]
  },
  {
   "cell_type": "markdown",
   "metadata": {},
   "source": [
    "## Fixation Site of the Transcription Factor `AFT1`"
   ]
  },
  {
   "cell_type": "code",
   "execution_count": 184,
   "metadata": {},
   "outputs": [],
   "source": [
    "aft1 = \"GGGTGCA\""
   ]
  },
  {
   "cell_type": "markdown",
   "metadata": {},
   "source": [
    "### Checking the thresholds"
   ]
  },
  {
   "cell_type": "markdown",
   "metadata": {},
   "source": [
    "To make sure that we don't accidentally eliminate aft1, we should find the threshold parameters."
   ]
  },
  {
   "cell_type": "code",
   "execution_count": 185,
   "metadata": {},
   "outputs": [
    {
     "data": {
      "text/plain": [
       "['GGGTGCA']"
      ]
     },
     "execution_count": 185,
     "metadata": {},
     "output_type": "execute_result"
    }
   ],
   "source": [
    "removeLowComplexeHomo({aft1:1},5)"
   ]
  },
  {
   "cell_type": "code",
   "execution_count": 186,
   "metadata": {},
   "outputs": [
    {
     "data": {
      "text/plain": [
       "['GGGTGCA']"
      ]
     },
     "execution_count": 186,
     "metadata": {},
     "output_type": "execute_result"
    }
   ],
   "source": [
    "removeLowComplexeHetero({aft1:1},2)"
   ]
  },
  {
   "cell_type": "code",
   "execution_count": 187,
   "metadata": {},
   "outputs": [
    {
     "data": {
      "text/plain": [
       "['GGGTGCA']"
      ]
     },
     "execution_count": 187,
     "metadata": {},
     "output_type": "execute_result"
    }
   ],
   "source": [
    "removeTARich({aft1:1},0.3)"
   ]
  },
  {
   "cell_type": "markdown",
   "metadata": {},
   "source": [
    "# Preparing the candidate kmers"
   ]
  },
  {
   "cell_type": "code",
   "execution_count": 188,
   "metadata": {},
   "outputs": [],
   "source": [
    "k = 7\n",
    "m = 5\n",
    "n = 2\n",
    "p = 0.3"
   ]
  },
  {
   "cell_type": "markdown",
   "metadata": {},
   "source": [
    "Search all possible motifs of size k of all the sequences and their frequences."
   ]
  },
  {
   "cell_type": "code",
   "execution_count": 189,
   "metadata": {},
   "outputs": [
    {
     "name": "stdout",
     "output_type": "stream",
     "text": [
      "data structure of peaks_kmers : <class 'dict'>\n",
      "number of kmers : 11724\n"
     ]
    }
   ],
   "source": [
    "peaks_kmers = searchMotifs(k,peaks)\n",
    "\n",
    "print(f'data structure of peaks_kmers : {type(peaks_kmers)}')\n",
    "print(f'number of kmers : {len(peaks_kmers)}')"
   ]
  },
  {
   "cell_type": "markdown",
   "metadata": {},
   "source": [
    "Not all of these kmers are informative so we'll eliminate these candidate kmers with different conditions."
   ]
  },
  {
   "cell_type": "code",
   "execution_count": 190,
   "metadata": {},
   "outputs": [
    {
     "name": "stdout",
     "output_type": "stream",
     "text": [
      "data structure of peaks_kmers : <class 'list'>\n",
      "number of kmers : 11028\n",
      "number of kmers reduced : 696\n"
     ]
    }
   ],
   "source": [
    "rem_homo = removeLowComplexeHomo(peaks_kmers,m)\n",
    "\n",
    "print(f'data structure of peaks_kmers : {type(rem_homo)}')\n",
    "print(f'number of kmers : {len(rem_homo)}')\n",
    "print(f'number of kmers reduced : {len(peaks_kmers)-len(rem_homo)}')"
   ]
  },
  {
   "cell_type": "code",
   "execution_count": 191,
   "metadata": {},
   "outputs": [
    {
     "name": "stdout",
     "output_type": "stream",
     "text": [
      "data structure of peaks_kmers : <class 'list'>\n",
      "number of kmers : 6860\n",
      "number of kmers reduced : 4168\n"
     ]
    }
   ],
   "source": [
    "rem_het = removeLowComplexeHetero(rem_homo,n)\n",
    "\n",
    "print(f'data structure of peaks_kmers : {type(rem_het)}')\n",
    "print(f'number of kmers : {len(rem_het)}')\n",
    "print(f'number of kmers reduced : {len(rem_homo)-len(rem_het)}')"
   ]
  },
  {
   "cell_type": "code",
   "execution_count": 192,
   "metadata": {},
   "outputs": [
    {
     "name": "stdout",
     "output_type": "stream",
     "text": [
      "data structure of peaks_kmers : <class 'list'>\n",
      "number of kmers : 506\n",
      "number of kmers reduced : 6354\n"
     ]
    }
   ],
   "source": [
    "rem_ta = removeTARich(rem_het,p)\n",
    "\n",
    "print(f'data structure of peaks_kmers : {type(rem_ta)}')\n",
    "print(f'number of kmers : {len(rem_ta)}')\n",
    "print(f'number of kmers reduced : {len(rem_het)-len(rem_ta)}')"
   ]
  },
  {
   "cell_type": "code",
   "execution_count": 193,
   "metadata": {},
   "outputs": [],
   "source": [
    "kmers = rem_ta"
   ]
  },
  {
   "cell_type": "markdown",
   "metadata": {},
   "source": [
    "# Evaluating the resulting candidate kmers"
   ]
  },
  {
   "cell_type": "code",
   "execution_count": 194,
   "metadata": {},
   "outputs": [],
   "source": [
    "def compare(cand,ref) :\n",
    "    dist = dict()\n",
    "    aux = ref\n",
    "\n",
    "    i = 0\n",
    "    while i < len(ref)-2 :\n",
    "        d = 0\n",
    "        j = 0\n",
    "        while j < len(aux) :\n",
    "            if aux[j] != cand[j] : d += 1\n",
    "            j += 1\n",
    "        dist[aux] = (d,i) # distance, displacement\n",
    "        i += 1\n",
    "        aux = aux[1:]\n",
    "    return min(dist.items(), key=lambda x: x[1])"
   ]
  },
  {
   "cell_type": "code",
   "execution_count": 195,
   "metadata": {},
   "outputs": [],
   "source": [
    "def eval(kmers,ref) :\n",
    "    return {cand:compare(cand,ref) for cand in kmers}"
   ]
  },
  {
   "cell_type": "code",
   "execution_count": 210,
   "metadata": {},
   "outputs": [],
   "source": [
    "def convert_df_eval(res) :\n",
    "    cand = res.keys()\n",
    "    stats = res.values()\n",
    "    substring = []\n",
    "    dist = []\n",
    "    displace = []\n",
    "    for (ss,(d1,d2)) in stats :\n",
    "        substring.append(ss)\n",
    "        dist.append(d1)\n",
    "        displace.append(d2)\n",
    "    df = {'motif':cand, 'match':substring,'distance':dist, 'displacement':displace}\n",
    "    return pd.DataFrame(df)\n"
   ]
  },
  {
   "cell_type": "markdown",
   "metadata": {},
   "source": [
    "# Calculations"
   ]
  },
  {
   "cell_type": "markdown",
   "metadata": {},
   "source": [
    "## HashTable"
   ]
  },
  {
   "cell_type": "code",
   "execution_count": 197,
   "metadata": {},
   "outputs": [
    {
     "name": "stdout",
     "output_type": "stream",
     "text": [
      "Top 5 candidates found by HashTable\n",
      "{'TGCACCC': 21, 'GGGTGCA': 17, 'CTGCACC': 10, 'GTGCACC': 7, 'GCACCCT': 6}\n"
     ]
    }
   ],
   "source": [
    "ht = hashTable(peaks,kmers)\n",
    "ht_top = getTopMotifs(ht,5,True)\n",
    "print(\"Top 5 candidates found by HashTable\")\n",
    "print(ht_top)"
   ]
  },
  {
   "cell_type": "code",
   "execution_count": 211,
   "metadata": {},
   "outputs": [
    {
     "data": {
      "text/html": [
       "<div>\n",
       "<style scoped>\n",
       "    .dataframe tbody tr th:only-of-type {\n",
       "        vertical-align: middle;\n",
       "    }\n",
       "\n",
       "    .dataframe tbody tr th {\n",
       "        vertical-align: top;\n",
       "    }\n",
       "\n",
       "    .dataframe thead th {\n",
       "        text-align: right;\n",
       "    }\n",
       "</style>\n",
       "<table border=\"1\" class=\"dataframe\">\n",
       "  <thead>\n",
       "    <tr style=\"text-align: right;\">\n",
       "      <th></th>\n",
       "      <th>motif</th>\n",
       "      <th>match</th>\n",
       "      <th>distance</th>\n",
       "      <th>displacement</th>\n",
       "    </tr>\n",
       "  </thead>\n",
       "  <tbody>\n",
       "    <tr>\n",
       "      <th>0</th>\n",
       "      <td>TGCACCC</td>\n",
       "      <td>TGCA</td>\n",
       "      <td>0</td>\n",
       "      <td>3</td>\n",
       "    </tr>\n",
       "    <tr>\n",
       "      <th>1</th>\n",
       "      <td>GGGTGCA</td>\n",
       "      <td>GGGTGCA</td>\n",
       "      <td>0</td>\n",
       "      <td>0</td>\n",
       "    </tr>\n",
       "    <tr>\n",
       "      <th>2</th>\n",
       "      <td>CTGCACC</td>\n",
       "      <td>GTGCA</td>\n",
       "      <td>1</td>\n",
       "      <td>2</td>\n",
       "    </tr>\n",
       "    <tr>\n",
       "      <th>3</th>\n",
       "      <td>GTGCACC</td>\n",
       "      <td>GTGCA</td>\n",
       "      <td>0</td>\n",
       "      <td>2</td>\n",
       "    </tr>\n",
       "    <tr>\n",
       "      <th>4</th>\n",
       "      <td>GCACCCT</td>\n",
       "      <td>GCA</td>\n",
       "      <td>0</td>\n",
       "      <td>4</td>\n",
       "    </tr>\n",
       "  </tbody>\n",
       "</table>\n",
       "</div>"
      ],
      "text/plain": [
       "     motif    match  distance  displacement\n",
       "0  TGCACCC     TGCA         0             3\n",
       "1  GGGTGCA  GGGTGCA         0             0\n",
       "2  CTGCACC    GTGCA         1             2\n",
       "3  GTGCACC    GTGCA         0             2\n",
       "4  GCACCCT      GCA         0             4"
      ]
     },
     "metadata": {},
     "output_type": "display_data"
    }
   ],
   "source": [
    "res_ht = convert_df_eval(eval(ht_top,aft1))\n",
    "display(res_ht)"
   ]
  },
  {
   "cell_type": "markdown",
   "metadata": {},
   "source": [
    "## Median String"
   ]
  },
  {
   "cell_type": "code",
   "execution_count": 202,
   "metadata": {},
   "outputs": [
    {
     "name": "stdout",
     "output_type": "stream",
     "text": [
      "Top 5 candidates found by Median String\n",
      "{'TGCACCC': 191, 'GGGTGCA': 195, 'GGTGCAC': 199, 'GGTGCAG': 200, 'CTGCACC': 203}\n"
     ]
    }
   ],
   "source": [
    "ms = medianStringSearch(peaks,kmers)\n",
    "ms_top = getTopMotifs(ms,5,False)\n",
    "print(\"Top 5 candidates found by Median String\")\n",
    "print(ms_top)"
   ]
  },
  {
   "cell_type": "code",
   "execution_count": 212,
   "metadata": {},
   "outputs": [
    {
     "data": {
      "text/html": [
       "<div>\n",
       "<style scoped>\n",
       "    .dataframe tbody tr th:only-of-type {\n",
       "        vertical-align: middle;\n",
       "    }\n",
       "\n",
       "    .dataframe tbody tr th {\n",
       "        vertical-align: top;\n",
       "    }\n",
       "\n",
       "    .dataframe thead th {\n",
       "        text-align: right;\n",
       "    }\n",
       "</style>\n",
       "<table border=\"1\" class=\"dataframe\">\n",
       "  <thead>\n",
       "    <tr style=\"text-align: right;\">\n",
       "      <th></th>\n",
       "      <th>motif</th>\n",
       "      <th>match</th>\n",
       "      <th>distance</th>\n",
       "      <th>displacement</th>\n",
       "    </tr>\n",
       "  </thead>\n",
       "  <tbody>\n",
       "    <tr>\n",
       "      <th>0</th>\n",
       "      <td>TGCACCC</td>\n",
       "      <td>TGCA</td>\n",
       "      <td>0</td>\n",
       "      <td>3</td>\n",
       "    </tr>\n",
       "    <tr>\n",
       "      <th>1</th>\n",
       "      <td>GGGTGCA</td>\n",
       "      <td>GGGTGCA</td>\n",
       "      <td>0</td>\n",
       "      <td>0</td>\n",
       "    </tr>\n",
       "    <tr>\n",
       "      <th>2</th>\n",
       "      <td>GGTGCAC</td>\n",
       "      <td>GGTGCA</td>\n",
       "      <td>0</td>\n",
       "      <td>1</td>\n",
       "    </tr>\n",
       "    <tr>\n",
       "      <th>3</th>\n",
       "      <td>GGTGCAG</td>\n",
       "      <td>GGTGCA</td>\n",
       "      <td>0</td>\n",
       "      <td>1</td>\n",
       "    </tr>\n",
       "    <tr>\n",
       "      <th>4</th>\n",
       "      <td>CTGCACC</td>\n",
       "      <td>GTGCA</td>\n",
       "      <td>1</td>\n",
       "      <td>2</td>\n",
       "    </tr>\n",
       "  </tbody>\n",
       "</table>\n",
       "</div>"
      ],
      "text/plain": [
       "     motif    match  distance  displacement\n",
       "0  TGCACCC     TGCA         0             3\n",
       "1  GGGTGCA  GGGTGCA         0             0\n",
       "2  GGTGCAC   GGTGCA         0             1\n",
       "3  GGTGCAG   GGTGCA         0             1\n",
       "4  CTGCACC    GTGCA         1             2"
      ]
     },
     "metadata": {},
     "output_type": "display_data"
    }
   ],
   "source": [
    "res_ms = convert_df_eval(eval(ms_top,aft1))\n",
    "display(res_ms)"
   ]
  },
  {
   "cell_type": "markdown",
   "metadata": {},
   "source": [
    "## Suffix Trees"
   ]
  },
  {
   "cell_type": "code",
   "execution_count": 204,
   "metadata": {},
   "outputs": [
    {
     "name": "stdout",
     "output_type": "stream",
     "text": [
      "Top 5 candidates found by Suffix Trees\n",
      "{'GGGTGCA': 17, 'GGGTGTA': 9, 'GGGTGAA': 5, 'GGGTGCC': 4, 'GGGTGCT': 3}\n"
     ]
    }
   ],
   "source": [
    "peaks_concat = \" \".join(peaks)\n",
    "stree = constructTree(peaks_concat)\n",
    "motif_occur_var, motif_occur_var_seqs = inexactMatch([aft1],peaks_concat,stree,1)\n",
    "st_top = getTopMotifs(motif_occur_var,5,True)\n",
    "print(\"Top 5 candidates found by Suffix Trees\")\n",
    "print(st_top)"
   ]
  },
  {
   "cell_type": "code",
   "execution_count": 213,
   "metadata": {},
   "outputs": [
    {
     "data": {
      "text/html": [
       "<div>\n",
       "<style scoped>\n",
       "    .dataframe tbody tr th:only-of-type {\n",
       "        vertical-align: middle;\n",
       "    }\n",
       "\n",
       "    .dataframe tbody tr th {\n",
       "        vertical-align: top;\n",
       "    }\n",
       "\n",
       "    .dataframe thead th {\n",
       "        text-align: right;\n",
       "    }\n",
       "</style>\n",
       "<table border=\"1\" class=\"dataframe\">\n",
       "  <thead>\n",
       "    <tr style=\"text-align: right;\">\n",
       "      <th></th>\n",
       "      <th>motif</th>\n",
       "      <th>match</th>\n",
       "      <th>distance</th>\n",
       "      <th>displacement</th>\n",
       "    </tr>\n",
       "  </thead>\n",
       "  <tbody>\n",
       "    <tr>\n",
       "      <th>0</th>\n",
       "      <td>GGGTGCA</td>\n",
       "      <td>GGGTGCA</td>\n",
       "      <td>0</td>\n",
       "      <td>0</td>\n",
       "    </tr>\n",
       "    <tr>\n",
       "      <th>1</th>\n",
       "      <td>GGGTGTA</td>\n",
       "      <td>GGGTGCA</td>\n",
       "      <td>1</td>\n",
       "      <td>0</td>\n",
       "    </tr>\n",
       "    <tr>\n",
       "      <th>2</th>\n",
       "      <td>GGGTGAA</td>\n",
       "      <td>GGGTGCA</td>\n",
       "      <td>1</td>\n",
       "      <td>0</td>\n",
       "    </tr>\n",
       "    <tr>\n",
       "      <th>3</th>\n",
       "      <td>GGGTGCC</td>\n",
       "      <td>GGGTGCA</td>\n",
       "      <td>1</td>\n",
       "      <td>0</td>\n",
       "    </tr>\n",
       "    <tr>\n",
       "      <th>4</th>\n",
       "      <td>GGGTGCT</td>\n",
       "      <td>GGGTGCA</td>\n",
       "      <td>1</td>\n",
       "      <td>0</td>\n",
       "    </tr>\n",
       "  </tbody>\n",
       "</table>\n",
       "</div>"
      ],
      "text/plain": [
       "     motif    match  distance  displacement\n",
       "0  GGGTGCA  GGGTGCA         0             0\n",
       "1  GGGTGTA  GGGTGCA         1             0\n",
       "2  GGGTGAA  GGGTGCA         1             0\n",
       "3  GGGTGCC  GGGTGCA         1             0\n",
       "4  GGGTGCT  GGGTGCA         1             0"
      ]
     },
     "metadata": {},
     "output_type": "display_data"
    }
   ],
   "source": [
    "res_st = convert_df_eval(eval(st_top,aft1))\n",
    "display(res_st)"
   ]
  },
  {
   "cell_type": "code",
   "execution_count": 23,
   "metadata": {},
   "outputs": [
    {
     "name": "stdout",
     "output_type": "stream",
     "text": [
      "Is it a variation of GGGTGCA?\n",
      "GGGTGTA : True\n",
      "GGGTGAA : True\n",
      "GGGTGCC : True\n",
      "GGGTGCT : True\n"
     ]
    }
   ],
   "source": [
    "print(\"Is it a variation of GGGTGCA?\")\n",
    "for x in st_top :\n",
    "    if x != \"GGGTGCA\" : print(f'{x} : {x in motif_occur_var_seqs[\"GGGTGCA\"]}')"
   ]
  },
  {
   "cell_type": "markdown",
   "metadata": {},
   "source": [
    "# Summary of Results"
   ]
  },
  {
   "cell_type": "code",
   "execution_count": 216,
   "metadata": {},
   "outputs": [
    {
     "name": "stdout",
     "output_type": "stream",
     "text": [
      "HashTable\n"
     ]
    },
    {
     "data": {
      "text/html": [
       "<div>\n",
       "<style scoped>\n",
       "    .dataframe tbody tr th:only-of-type {\n",
       "        vertical-align: middle;\n",
       "    }\n",
       "\n",
       "    .dataframe tbody tr th {\n",
       "        vertical-align: top;\n",
       "    }\n",
       "\n",
       "    .dataframe thead th {\n",
       "        text-align: right;\n",
       "    }\n",
       "</style>\n",
       "<table border=\"1\" class=\"dataframe\">\n",
       "  <thead>\n",
       "    <tr style=\"text-align: right;\">\n",
       "      <th></th>\n",
       "      <th>motif</th>\n",
       "      <th>match</th>\n",
       "      <th>distance</th>\n",
       "      <th>displacement</th>\n",
       "    </tr>\n",
       "  </thead>\n",
       "  <tbody>\n",
       "    <tr>\n",
       "      <th>0</th>\n",
       "      <td>TGCACCC</td>\n",
       "      <td>TGCA</td>\n",
       "      <td>0</td>\n",
       "      <td>3</td>\n",
       "    </tr>\n",
       "    <tr>\n",
       "      <th>1</th>\n",
       "      <td>GGGTGCA</td>\n",
       "      <td>GGGTGCA</td>\n",
       "      <td>0</td>\n",
       "      <td>0</td>\n",
       "    </tr>\n",
       "    <tr>\n",
       "      <th>2</th>\n",
       "      <td>CTGCACC</td>\n",
       "      <td>GTGCA</td>\n",
       "      <td>1</td>\n",
       "      <td>2</td>\n",
       "    </tr>\n",
       "    <tr>\n",
       "      <th>3</th>\n",
       "      <td>GTGCACC</td>\n",
       "      <td>GTGCA</td>\n",
       "      <td>0</td>\n",
       "      <td>2</td>\n",
       "    </tr>\n",
       "    <tr>\n",
       "      <th>4</th>\n",
       "      <td>GCACCCT</td>\n",
       "      <td>GCA</td>\n",
       "      <td>0</td>\n",
       "      <td>4</td>\n",
       "    </tr>\n",
       "  </tbody>\n",
       "</table>\n",
       "</div>"
      ],
      "text/plain": [
       "     motif    match  distance  displacement\n",
       "0  TGCACCC     TGCA         0             3\n",
       "1  GGGTGCA  GGGTGCA         0             0\n",
       "2  CTGCACC    GTGCA         1             2\n",
       "3  GTGCACC    GTGCA         0             2\n",
       "4  GCACCCT      GCA         0             4"
      ]
     },
     "metadata": {},
     "output_type": "display_data"
    },
    {
     "name": "stdout",
     "output_type": "stream",
     "text": [
      "\n",
      "Median String\n"
     ]
    },
    {
     "data": {
      "text/html": [
       "<div>\n",
       "<style scoped>\n",
       "    .dataframe tbody tr th:only-of-type {\n",
       "        vertical-align: middle;\n",
       "    }\n",
       "\n",
       "    .dataframe tbody tr th {\n",
       "        vertical-align: top;\n",
       "    }\n",
       "\n",
       "    .dataframe thead th {\n",
       "        text-align: right;\n",
       "    }\n",
       "</style>\n",
       "<table border=\"1\" class=\"dataframe\">\n",
       "  <thead>\n",
       "    <tr style=\"text-align: right;\">\n",
       "      <th></th>\n",
       "      <th>motif</th>\n",
       "      <th>match</th>\n",
       "      <th>distance</th>\n",
       "      <th>displacement</th>\n",
       "    </tr>\n",
       "  </thead>\n",
       "  <tbody>\n",
       "    <tr>\n",
       "      <th>0</th>\n",
       "      <td>TGCACCC</td>\n",
       "      <td>TGCA</td>\n",
       "      <td>0</td>\n",
       "      <td>3</td>\n",
       "    </tr>\n",
       "    <tr>\n",
       "      <th>1</th>\n",
       "      <td>GGGTGCA</td>\n",
       "      <td>GGGTGCA</td>\n",
       "      <td>0</td>\n",
       "      <td>0</td>\n",
       "    </tr>\n",
       "    <tr>\n",
       "      <th>2</th>\n",
       "      <td>GGTGCAC</td>\n",
       "      <td>GGTGCA</td>\n",
       "      <td>0</td>\n",
       "      <td>1</td>\n",
       "    </tr>\n",
       "    <tr>\n",
       "      <th>3</th>\n",
       "      <td>GGTGCAG</td>\n",
       "      <td>GGTGCA</td>\n",
       "      <td>0</td>\n",
       "      <td>1</td>\n",
       "    </tr>\n",
       "    <tr>\n",
       "      <th>4</th>\n",
       "      <td>CTGCACC</td>\n",
       "      <td>GTGCA</td>\n",
       "      <td>1</td>\n",
       "      <td>2</td>\n",
       "    </tr>\n",
       "  </tbody>\n",
       "</table>\n",
       "</div>"
      ],
      "text/plain": [
       "     motif    match  distance  displacement\n",
       "0  TGCACCC     TGCA         0             3\n",
       "1  GGGTGCA  GGGTGCA         0             0\n",
       "2  GGTGCAC   GGTGCA         0             1\n",
       "3  GGTGCAG   GGTGCA         0             1\n",
       "4  CTGCACC    GTGCA         1             2"
      ]
     },
     "metadata": {},
     "output_type": "display_data"
    },
    {
     "name": "stdout",
     "output_type": "stream",
     "text": [
      "\n",
      "Suffix Trees\n"
     ]
    },
    {
     "data": {
      "text/html": [
       "<div>\n",
       "<style scoped>\n",
       "    .dataframe tbody tr th:only-of-type {\n",
       "        vertical-align: middle;\n",
       "    }\n",
       "\n",
       "    .dataframe tbody tr th {\n",
       "        vertical-align: top;\n",
       "    }\n",
       "\n",
       "    .dataframe thead th {\n",
       "        text-align: right;\n",
       "    }\n",
       "</style>\n",
       "<table border=\"1\" class=\"dataframe\">\n",
       "  <thead>\n",
       "    <tr style=\"text-align: right;\">\n",
       "      <th></th>\n",
       "      <th>motif</th>\n",
       "      <th>match</th>\n",
       "      <th>distance</th>\n",
       "      <th>displacement</th>\n",
       "    </tr>\n",
       "  </thead>\n",
       "  <tbody>\n",
       "    <tr>\n",
       "      <th>0</th>\n",
       "      <td>GGGTGCA</td>\n",
       "      <td>GGGTGCA</td>\n",
       "      <td>0</td>\n",
       "      <td>0</td>\n",
       "    </tr>\n",
       "    <tr>\n",
       "      <th>1</th>\n",
       "      <td>GGGTGTA</td>\n",
       "      <td>GGGTGCA</td>\n",
       "      <td>1</td>\n",
       "      <td>0</td>\n",
       "    </tr>\n",
       "    <tr>\n",
       "      <th>2</th>\n",
       "      <td>GGGTGAA</td>\n",
       "      <td>GGGTGCA</td>\n",
       "      <td>1</td>\n",
       "      <td>0</td>\n",
       "    </tr>\n",
       "    <tr>\n",
       "      <th>3</th>\n",
       "      <td>GGGTGCC</td>\n",
       "      <td>GGGTGCA</td>\n",
       "      <td>1</td>\n",
       "      <td>0</td>\n",
       "    </tr>\n",
       "    <tr>\n",
       "      <th>4</th>\n",
       "      <td>GGGTGCT</td>\n",
       "      <td>GGGTGCA</td>\n",
       "      <td>1</td>\n",
       "      <td>0</td>\n",
       "    </tr>\n",
       "  </tbody>\n",
       "</table>\n",
       "</div>"
      ],
      "text/plain": [
       "     motif    match  distance  displacement\n",
       "0  GGGTGCA  GGGTGCA         0             0\n",
       "1  GGGTGTA  GGGTGCA         1             0\n",
       "2  GGGTGAA  GGGTGCA         1             0\n",
       "3  GGGTGCC  GGGTGCA         1             0\n",
       "4  GGGTGCT  GGGTGCA         1             0"
      ]
     },
     "metadata": {},
     "output_type": "display_data"
    }
   ],
   "source": [
    "print(\"HashTable\")\n",
    "display(res_ht)\n",
    "print(\"\\nMedian String\")\n",
    "display(res_ms)\n",
    "print(\"\\nSuffix Trees\")\n",
    "display(res_st)"
   ]
  },
  {
   "cell_type": "markdown",
   "metadata": {},
   "source": [
    "# Locating the sites"
   ]
  },
  {
   "cell_type": "markdown",
   "metadata": {},
   "source": [
    "There are 2 algorithms we can use to locate the fixation site."
   ]
  },
  {
   "cell_type": "markdown",
   "metadata": {},
   "source": [
    "## Indexing motifs of a fixed length"
   ]
  },
  {
   "cell_type": "code",
   "execution_count": 24,
   "metadata": {},
   "outputs": [],
   "source": [
    "peaks = [p.lower() for p in peaks]\n",
    "aft1 = aft1.lower()\n",
    "maxVar = 2"
   ]
  },
  {
   "cell_type": "code",
   "execution_count": 25,
   "metadata": {},
   "outputs": [
    {
     "name": "stdout",
     "output_type": "stream",
     "text": [
      "positions of gggtgca\n",
      " {0: {'gggtgca': [347]}, 1: {'gggtgca': [307]}, 4: {'gggtgca': [162]}, 11: {'gggtgca': [267]}, 13: {'gggtgca': [74]}, 29: {'gggtgca': [117]}, 38: {'gggtgca': [349]}, 40: {'gggtgca': [791]}, 46: {'gggtgca': [288]}, 53: {'gggtgca': [704]}, 55: {'gggtgca': [246]}, 77: {'gggtgca': [164]}, 89: {'gggtgca': [92]}, 93: {'gggtgca': [261]}, 101: {'gggtgca': [73]}, 102: {'gggtgca': [193]}, 112: {'gggtgca': [34]}}\n",
      "found in 17 sequences out of 115\n",
      "\n",
      "positions of gggtgca\n",
      " {0: {'tgcaccc': [404, 447]}, 1: {'tgcaccc': [949, 997]}, 10: {'tgcaccc': [93]}, 12: {'tgcaccc': [73]}, 28: {'tgcaccc': [197]}, 31: {'tgcaccc': [151]}, 39: {'tgcaccc': [206, 238]}, 46: {'tgcaccc': [236]}, 47: {'tgcaccc': [40]}, 48: {'tgcaccc': [184]}, 49: {'tgcaccc': [54]}, 53: {'tgcaccc': [358]}, 54: {'tgcaccc': [159]}, 57: {'tgcaccc': [65]}, 58: {'tgcaccc': [184]}, 67: {'tgcaccc': [182]}, 68: {'tgcaccc': [169]}, 72: {'tgcaccc': [148]}}\n",
      "found in 18 sequences out of 115\n"
     ]
    }
   ],
   "source": [
    "pos_seqs1 = findMotifData(peaks,aft1,k,maxVar)\n",
    "print(f'positions of gggtgca\\n {pos_seqs1}')\n",
    "print(f'found in {len(pos_seqs1)} sequences out of {len(peaks)}')\n",
    "\n",
    "pos_seqs2 = findMotifData(peaks,aft1_2,k,maxVar)\n",
    "print(f'\\npositions of gggtgca\\n {pos_seqs2}')\n",
    "print(f'found in {len(pos_seqs2)} sequences out of {len(peaks)}')"
   ]
  },
  {
   "cell_type": "markdown",
   "metadata": {},
   "source": [
    "## Frequency Matrixes"
   ]
  },
  {
   "cell_type": "markdown",
   "metadata": {},
   "source": [
    "`matrix ID : MA0269.2`\n",
    "\n",
    "Collection : Core\n",
    "\n",
    "Taxon : Fungi\n",
    "\n",
    "Species : Saccharomyces cerevisiae\n",
    "\n",
    "Data Type : PBM\n",
    "\n",
    "Validation : 18842628\n",
    "\n",
    "Uniprot ID : P22149\n",
    "\n",
    "link : https://jaspar.elixir.no/matrix/MA0269.2/"
   ]
  },
  {
   "cell_type": "code",
   "execution_count": 50,
   "metadata": {},
   "outputs": [
    {
     "name": "stdout",
     "output_type": "stream",
     "text": [
      "Frequence table provided by jaspar.elixir.no\n",
      "\n",
      "[136, 716, 145, 34, 160, 10, 961, 8, 25, 19]\n",
      "[78, 25, 31, 47, 10, 966, 9, 972, 955, 740]\n",
      "[142, 31, 288, 39, 812, 11, 15, 9, 2, 13]\n",
      "[641, 226, 535, 878, 16, 10, 14, 10, 16, 225]\n"
     ]
    }
   ],
   "source": [
    "mat = readJaspar(\"MA0269.2.jaspar\")\n",
    "print(\"Frequence table provided by jaspar.elixir.no\\n\")\n",
    "for line in mat : print(line)\n",
    "mat = np.array(mat)"
   ]
  },
  {
   "cell_type": "markdown",
   "metadata": {},
   "source": [
    "### My Functions to Calculate and Evaluate"
   ]
  },
  {
   "cell_type": "code",
   "execution_count": 119,
   "metadata": {},
   "outputs": [],
   "source": [
    "def getMotifs(sequence,pos_lst,k) :\n",
    "    return [sequence[p:p+k] for p in pos_lst]"
   ]
  },
  {
   "cell_type": "code",
   "execution_count": 120,
   "metadata": {},
   "outputs": [],
   "source": [
    "def reduct_compare(cand,ref) :\n",
    "    dist = []\n",
    "    aux = ref\n",
    "\n",
    "    i = 0\n",
    "    while i < len(ref)-2 :\n",
    "        d = 0\n",
    "        j = 0\n",
    "        while j < len(aux) :\n",
    "            if aux[j] != cand[j] : d += 1\n",
    "            j += 1\n",
    "        dist.append((d,i)) # distance, displacement\n",
    "        i += 1\n",
    "        aux = aux[1:]\n",
    "    return min(dist)"
   ]
  },
  {
   "cell_type": "code",
   "execution_count": 121,
   "metadata": {},
   "outputs": [],
   "source": [
    "def reduct_eval(kmers,ref) :\n",
    "    return {cand:reduct_compare(cand,ref) for cand in kmers}"
   ]
  },
  {
   "cell_type": "code",
   "execution_count": 122,
   "metadata": {},
   "outputs": [],
   "source": [
    "def getTopEval(stats,n) :\n",
    "    lst = [(motif,(dist,displace)) for motif,(dist,displace) in stats.items()]\n",
    "    lst.sort(key=lambda x : x[1])\n",
    "    return lst[:n]"
   ]
  },
  {
   "cell_type": "markdown",
   "metadata": {},
   "source": [
    "### Calculation"
   ]
  },
  {
   "cell_type": "code",
   "execution_count": 52,
   "metadata": {},
   "outputs": [],
   "source": [
    "PWM = computing_pwm(mat,k)\n",
    "f = f0_calcule(PWM,k)\n",
    "pos = searchPWMOptmiseMotifs(peaks,7,PWM,f)"
   ]
  },
  {
   "cell_type": "code",
   "execution_count": 158,
   "metadata": {},
   "outputs": [
    {
     "data": {
      "text/plain": [
       "{0: [('gggtgca', (0, 0), 1),\n",
       "  ('gtgtgca', (1, 0), 1),\n",
       "  ('gagtgaa', (2, 0), 1),\n",
       "  ('gactgca', (2, 0), 1),\n",
       "  ('tggggca', (2, 0), 1),\n",
       "  ('taaagca', (2, 3), 1),\n",
       "  ('aagtaca', (3, 0), 1),\n",
       "  ('aattgca', (3, 0), 2),\n",
       "  ('aactgca', (3, 0), 1),\n",
       "  ('tagtgaa', (3, 0), 1),\n",
       "  ('tagtaga', (3, 2), 1),\n",
       "  ('tatttca', (3, 3), 1),\n",
       "  ('ttttgct', (3, 3), 2),\n",
       "  ('aattgaa', (3, 4), 1),\n",
       "  ('aattgta', (3, 4), 1)],\n",
       " 1: [('gggtgca', (0, 0), 1),\n",
       "  ('aggtgca', (1, 0), 1),\n",
       "  ('gaaagca', (1, 4), 1),\n",
       "  ('cgttgca', (2, 0), 2),\n",
       "  ('gtttgca', (2, 0), 1),\n",
       "  ('gagttca', (2, 0), 1),\n",
       "  ('ttgcgca', (2, 2), 1),\n",
       "  ('taatgta', (2, 4), 1),\n",
       "  ('tcttgca', (2, 4), 1),\n",
       "  ('taaggca', (2, 4), 1),\n",
       "  ('aaatgca', (2, 4), 1),\n",
       "  ('aagggca', (3, 0), 1),\n",
       "  ('ttttgca', (3, 0), 1),\n",
       "  ('tagtgga', (3, 0), 1),\n",
       "  ('tagtgta', (3, 0), 1),\n",
       "  ('ctttgca', (3, 0), 2),\n",
       "  ('tagtaga', (3, 2), 1),\n",
       "  ('atttaca', (3, 2), 1),\n",
       "  ('aattgaa', (3, 4), 1)],\n",
       " 2: [('aggtgca', (1, 0), 1),\n",
       "  ('gtttaca', (2, 2), 1),\n",
       "  ('tactgca', (2, 3), 1),\n",
       "  ('ttaagca', (2, 3), 1),\n",
       "  ('ttatgca', (2, 4), 1),\n",
       "  ('taaggca', (2, 4), 1),\n",
       "  ('tagtaga', (3, 2), 1),\n",
       "  ('tattgaa', (3, 3), 1),\n",
       "  ('aattgct', (3, 4), 1)],\n",
       " 3: [('gtttaca', (2, 2), 1),\n",
       "  ('ttgagca', (2, 3), 1),\n",
       "  ('aagtaca', (3, 0), 1),\n",
       "  ('ttttgaa', (3, 3), 1)],\n",
       " 4: [('gggtgca', (0, 0), 1),\n",
       "  ('ctgtgca', (2, 0), 1),\n",
       "  ('ttctgca', (2, 3), 1),\n",
       "  ('aaataca', (2, 4), 1),\n",
       "  ('aactgca', (3, 0), 1),\n",
       "  ('cagagca', (3, 0), 1),\n",
       "  ('aagggca', (3, 0), 1),\n",
       "  ('attggca', (3, 4), 1)],\n",
       " 5: [('gagttca', (2, 0), 1), ('ggttaca', (2, 0), 1)],\n",
       " 6: [('aggtgca', (1, 0), 1),\n",
       "  ('tgtagca', (1, 3), 1),\n",
       "  ('ttgtgaa', (3, 0), 1),\n",
       "  ('cattaca', (3, 4), 1)],\n",
       " 7: [('agatgca', (2, 0), 1),\n",
       "  ('tcttgca', (2, 4), 1),\n",
       "  ('tattgca', (3, 0), 1),\n",
       "  ('ttttgca', (3, 0), 1),\n",
       "  ('aagtgaa', (3, 0), 1),\n",
       "  ('tatgaca', (3, 3), 1)],\n",
       " 8: [('aattgga', (3, 4), 1)],\n",
       " 9: [('aattgaa', (3, 4), 1)],\n",
       " 10: [('gatagca', (2, 4), 1),\n",
       "  ('gattgta', (2, 4), 1),\n",
       "  ('atttgca', (3, 0), 1),\n",
       "  ('aattgct', (3, 4), 1),\n",
       "  ('aattgta', (3, 4), 1)],\n",
       " 11: [('gggtgca', (0, 0), 1),\n",
       "  ('ggttgca', (1, 0), 1),\n",
       "  ('tgtagca', (1, 3), 1),\n",
       "  ('gaaagca', (1, 4), 1),\n",
       "  ('gagtgcg', (2, 0), 1),\n",
       "  ('ttgtgca', (2, 0), 1),\n",
       "  ('tattcca', (3, 3), 1)],\n",
       " 12: [('atgtgca', (2, 0), 1), ('atttaca', (3, 2), 1)],\n",
       " 13: [('gggtgca', (0, 0), 1), ('gtatgca', (1, 4), 1), ('gatttca', (2, 4), 1)],\n",
       " 14: [('aaatgca', (2, 4), 2), ('tatttca', (3, 3), 1)],\n",
       " 15: [('taataca', (2, 4), 1)],\n",
       " 16: [('gaaagca', (1, 4), 1),\n",
       "  ('tgttgca', (2, 0), 1),\n",
       "  ('atatgca', (2, 4), 1),\n",
       "  ('tatgaca', (3, 3), 1)],\n",
       " 17: [('tgttaca', (2, 3), 1),\n",
       "  ('tattaga', (3, 3), 1),\n",
       "  ('tatttca', (3, 3), 2),\n",
       "  ('tattgta', (3, 3), 2),\n",
       "  ('tatggca', (3, 3), 1),\n",
       "  ('cattaca', (3, 4), 1)],\n",
       " 18: [('ttgtaca', (2, 2), 1),\n",
       "  ('taatgta', (2, 4), 1),\n",
       "  ('ctttgca', (3, 0), 1),\n",
       "  ('tagtaga', (3, 2), 1),\n",
       "  ('tattaga', (3, 3), 1)],\n",
       " 19: [('gaataca', (1, 4), 1), ('taataca', (2, 4), 1), ('tattgaa', (3, 3), 1)],\n",
       " 20: [('tagagca', (2, 3), 1),\n",
       "  ('tataaca', (2, 3), 1),\n",
       "  ('ttttgta', (3, 3), 1),\n",
       "  ('tatttca', (3, 3), 1)],\n",
       " 21: [('tcatgca', (1, 4), 1),\n",
       "  ('gtttaca', (2, 2), 1),\n",
       "  ('taatgct', (2, 4), 1),\n",
       "  ('tattaca', (3, 3), 1),\n",
       "  ('ttttgta', (3, 3), 1),\n",
       "  ('tattgaa', (3, 3), 1)],\n",
       " 22: [('tggagca', (1, 3), 1),\n",
       "  ('atgtaca', (2, 2), 1),\n",
       "  ('tagaaca', (2, 3), 1),\n",
       "  ('taattca', (2, 4), 1),\n",
       "  ('ctatgca', (2, 4), 1),\n",
       "  ('atatgca', (2, 4), 2),\n",
       "  ('tattgaa', (3, 3), 1),\n",
       "  ('tattgct', (3, 3), 1),\n",
       "  ('ttttgta', (3, 3), 1),\n",
       "  ('aattgta', (3, 4), 1)],\n",
       " 23: [('tttagca', (2, 3), 1),\n",
       "  ('taggaca', (3, 2), 1),\n",
       "  ('tattaga', (3, 3), 1),\n",
       "  ('aattgga', (3, 4), 1)],\n",
       " 24: [('tttagca', (2, 3), 1),\n",
       "  ('caatgca', (2, 4), 1),\n",
       "  ('aagtgta', (3, 0), 1),\n",
       "  ('aattgca', (3, 0), 2)],\n",
       " 25: [('tattaga', (3, 3), 2), ('aattgaa', (3, 4), 1)],\n",
       " 26: [('aattgaa', (3, 4), 1)],\n",
       " 27: [('tggtgca', (1, 0), 1),\n",
       "  ('tgatgca', (2, 0), 1),\n",
       "  ('atatgca', (2, 4), 1),\n",
       "  ('tagtaga', (3, 2), 1),\n",
       "  ('tatggca', (3, 3), 1)],\n",
       " 28: [('aagtgca', (2, 0), 1), ('tttggca', (3, 3), 1), ('attggca', (3, 4), 1)],\n",
       " 29: [('gggtgca', (0, 0), 1),\n",
       "  ('gtatgca', (1, 4), 1),\n",
       "  ('gagtaca', (2, 0), 1),\n",
       "  ('gtgtgga', (2, 0), 1),\n",
       "  ('cagagca', (3, 0), 1),\n",
       "  ('ttgggca', (3, 0), 1),\n",
       "  ('aatcgca', (3, 4), 1)],\n",
       " 30: [('gtataca', (1, 4), 1), ('aattgaa', (3, 4), 1)],\n",
       " 31: [('tggtgca', (1, 0), 1),\n",
       "  ('gactgca', (2, 0), 1),\n",
       "  ('ttgtgca', (2, 0), 1),\n",
       "  ('tattgcc', (3, 3), 1)],\n",
       " 32: [('gatttca', (2, 4), 1), ('gattgct', (2, 4), 1), ('aatggca', (3, 4), 1)],\n",
       " 33: [('gatggca', (2, 4), 1)],\n",
       " 34: [('ttgtaca', (2, 2), 1)],\n",
       " 35: [('tcttgca', (2, 4), 1), ('aattgct', (3, 4), 1)],\n",
       " 37: [('taaagca', (2, 3), 1), ('aaataca', (2, 4), 1), ('atttgca', (3, 0), 1)],\n",
       " 38: [('gggtgca', (0, 0), 1),\n",
       "  ('gaaggca', (1, 4), 1),\n",
       "  ('tgttgca', (2, 0), 1),\n",
       "  ('taatgaa', (2, 4), 1),\n",
       "  ('cagagca', (3, 0), 1),\n",
       "  ('tattaca', (3, 3), 1)],\n",
       " 39: [('tagtgca', (2, 0), 2),\n",
       "  ('ttgtgca', (2, 0), 1),\n",
       "  ('gagttca', (2, 0), 1),\n",
       "  ('tagcaca', (2, 2), 1),\n",
       "  ('ttgtgta', (3, 0), 1),\n",
       "  ('ttgtgct', (3, 0), 1),\n",
       "  ('aagtgta', (3, 0), 1)],\n",
       " 40: [('gggtgca', (0, 0), 1),\n",
       "  ('aggtgca', (1, 0), 1),\n",
       "  ('cggtgca', (1, 0), 1),\n",
       "  ('gtgcgca', (1, 2), 1),\n",
       "  ('gaatgca', (1, 4), 1),\n",
       "  ('gaataca', (1, 4), 1),\n",
       "  ('gtataca', (1, 4), 1),\n",
       "  ('gaaagca', (1, 4), 1),\n",
       "  ('ttgtgca', (2, 0), 1),\n",
       "  ('acgtgca', (2, 0), 1),\n",
       "  ('tcgtgca', (2, 0), 1),\n",
       "  ('atgtaca', (2, 2), 1),\n",
       "  ('ttgagca', (2, 3), 1),\n",
       "  ('tacggca', (2, 3), 1),\n",
       "  ('aaaagca', (2, 4), 1),\n",
       "  ('ttgtgaa', (3, 0), 1),\n",
       "  ('aagagca', (3, 0), 1),\n",
       "  ('tagttca', (3, 0), 1),\n",
       "  ('cagagca', (3, 0), 1),\n",
       "  ('cagtaca', (3, 0), 1),\n",
       "  ('aattgca', (3, 0), 1),\n",
       "  ('aagtaca', (3, 0), 1),\n",
       "  ('ttttgca', (3, 0), 1),\n",
       "  ('tagtgga', (3, 0), 1),\n",
       "  ('aactgca', (3, 0), 2),\n",
       "  ('ttgtgct', (3, 0), 1),\n",
       "  ('tagtaga', (3, 2), 1),\n",
       "  ('tatttca', (3, 3), 1),\n",
       "  ('tattgaa', (3, 3), 1),\n",
       "  ('aatggca', (3, 4), 1),\n",
       "  ('aattgct', (3, 4), 2),\n",
       "  ('aattgaa', (3, 4), 2),\n",
       "  ('attggca', (3, 4), 1)],\n",
       " 41: [('agatgca', (2, 0), 1),\n",
       "  ('tataaca', (2, 3), 1),\n",
       "  ('tatcgca', (3, 3), 1),\n",
       "  ('tattcca', (3, 3), 1),\n",
       "  ('attggca', (3, 4), 1)],\n",
       " 42: [('tcttgca', (2, 4), 1), ('ttgtgct', (3, 0), 1)],\n",
       " 43: [('tgtagca', (1, 3), 1), ('aaataca', (2, 4), 1)],\n",
       " 44: [('taataca', (2, 4), 1), ('ttttgca', (3, 0), 1), ('tatttca', (3, 3), 1)],\n",
       " 45: [('taataca', (2, 4), 1), ('atttgca', (3, 0), 1), ('tatcaca', (3, 2), 1)],\n",
       " 46: [('gggtgca', (0, 0), 1),\n",
       "  ('gggtaca', (1, 0), 1),\n",
       "  ('tcgtgca', (2, 0), 1),\n",
       "  ('tactaca', (2, 3), 1),\n",
       "  ('atatgca', (2, 4), 1),\n",
       "  ('caatgca', (2, 4), 1),\n",
       "  ('tagggca', (3, 0), 1),\n",
       "  ('tattgca', (3, 0), 2),\n",
       "  ('ttttgta', (3, 3), 1)],\n",
       " 47: [('tactgca', (2, 3), 2),\n",
       "  ('ttataca', (2, 4), 1),\n",
       "  ('gatttca', (2, 4), 1),\n",
       "  ('aaaagca', (2, 4), 1)],\n",
       " 48: [('gaaagca', (1, 4), 1),\n",
       "  ('gagggca', (2, 0), 1),\n",
       "  ('ctgtgca', (2, 0), 1),\n",
       "  ('gattgca', (2, 0), 5),\n",
       "  ('gtgggca', (2, 0), 1),\n",
       "  ('aaataca', (2, 4), 1),\n",
       "  ('aaaagca', (2, 4), 1),\n",
       "  ('gattgta', (2, 4), 1),\n",
       "  ('atttaca', (3, 2), 1),\n",
       "  ('catagca', (3, 3), 1),\n",
       "  ('aatagca', (3, 3), 1),\n",
       "  ('tatggca', (3, 3), 1)],\n",
       " 49: [('gaaagca', (1, 4), 1), ('taatgaa', (2, 4), 2), ('aaatgca', (2, 4), 1)],\n",
       " 50: [('tcatgca', (1, 4), 1)],\n",
       " 51: [('aggtgca', (1, 0), 1),\n",
       "  ('ttgtgca', (2, 0), 1),\n",
       "  ('tttagca', (2, 3), 1),\n",
       "  ('gatttca', (2, 4), 1),\n",
       "  ('aaaggca', (2, 4), 1),\n",
       "  ('ttgtgaa', (3, 0), 1),\n",
       "  ('ttttgaa', (3, 3), 1),\n",
       "  ('tatgaca', (3, 3), 1),\n",
       "  ('tattgaa', (3, 3), 1),\n",
       "  ('aattgga', (3, 4), 1),\n",
       "  ('aattgaa', (3, 4), 1)],\n",
       " 52: [('gatggca', (2, 4), 1),\n",
       "  ('aaaggca', (2, 4), 1),\n",
       "  ('gattaca', (2, 4), 1),\n",
       "  ('ttttgta', (3, 3), 1)],\n",
       " 53: [('gggtgca', (0, 0), 1),\n",
       "  ('agatgca', (2, 0), 1),\n",
       "  ('gtgtgga', (2, 0), 1),\n",
       "  ('gttagca', (2, 4), 1),\n",
       "  ('taatgct', (2, 4), 1),\n",
       "  ('aaataca', (2, 4), 1),\n",
       "  ('taataca', (2, 4), 1),\n",
       "  ('aagtgct', (3, 0), 1),\n",
       "  ('tagtgaa', (3, 0), 1),\n",
       "  ('tattgca', (3, 0), 1),\n",
       "  ('ttgtgct', (3, 0), 1),\n",
       "  ('ctttgca', (3, 0), 1),\n",
       "  ('catagca', (3, 3), 1),\n",
       "  ('aattgta', (3, 4), 1),\n",
       "  ('aattgga', (3, 4), 1)],\n",
       " 54: [('aagtgca', (2, 0), 1), ('tactgca', (2, 3), 1), ('ttaggca', (2, 4), 1)],\n",
       " 55: [('gggtgca', (0, 0), 1),\n",
       "  ('gaaagca', (1, 4), 1),\n",
       "  ('ttataca', (2, 4), 1),\n",
       "  ('tattgct', (3, 3), 1),\n",
       "  ('tattgcc', (3, 3), 1),\n",
       "  ('aattaca', (3, 4), 1),\n",
       "  ('aattgta', (3, 4), 1)],\n",
       " 56: [('tactgca', (2, 3), 1), ('aaaagca', (2, 4), 1), ('tttggca', (3, 3), 1)],\n",
       " 57: [('tgttgca', (2, 0), 1), ('gagtgga', (2, 0), 1)],\n",
       " 58: [('tataaca', (2, 3), 1), ('aaatgca', (2, 4), 1), ('aaaggca', (2, 4), 1)],\n",
       " 59: [('aactgca', (3, 0), 1), ('cattaca', (3, 4), 1)],\n",
       " 60: [('ttgtgta', (3, 0), 1), ('ttttgct', (3, 3), 1), ('aattaca', (3, 4), 1)],\n",
       " 61: [('gagtgta', (2, 0), 1),\n",
       "  ('tagcaca', (2, 2), 1),\n",
       "  ('tagaaca', (2, 3), 1),\n",
       "  ('taatgct', (2, 4), 1)],\n",
       " 62: [('tatagca', (2, 3), 1),\n",
       "  ('taatgga', (2, 4), 1),\n",
       "  ('tttcgca', (3, 2), 1),\n",
       "  ('tatggca', (3, 3), 1)],\n",
       " 63: [('ttgtgga', (3, 0), 1), ('tattaga', (3, 3), 1), ('cattaca', (3, 4), 1)],\n",
       " 64: [('gtctgca', (2, 0), 1), ('ttgtgaa', (3, 0), 1)],\n",
       " 65: [('ttgtgcg', (3, 0), 1)],\n",
       " 66: [('tgtagca', (1, 3), 1), ('gtgagca', (2, 0), 1), ('taataca', (2, 4), 1)],\n",
       " 67: [('aattgca', (3, 0), 1), ('tatttca', (3, 3), 1), ('tattgaa', (3, 3), 3)],\n",
       " 68: [('cagtgca', (2, 0), 2), ('acttgca', (2, 4), 1), ('tattgaa', (3, 3), 1)],\n",
       " 69: [('tgttaca', (2, 3), 1),\n",
       "  ('tcttgca', (2, 4), 1),\n",
       "  ('atttaca', (3, 2), 1),\n",
       "  ('tattgta', (3, 3), 1)],\n",
       " 70: [('gtttgga', (2, 4), 1), ('taggaca', (3, 2), 1)],\n",
       " 71: [('ggttgca', (1, 0), 1),\n",
       "  ('gtgtgca', (1, 0), 1),\n",
       "  ('gaaagca', (1, 4), 1),\n",
       "  ('taaagca', (2, 3), 1),\n",
       "  ('tagtgaa', (3, 0), 1)],\n",
       " 72: [('agttgca', (2, 0), 1),\n",
       "  ('tcttgca', (2, 4), 1),\n",
       "  ('gttggca', (2, 4), 1),\n",
       "  ('atgggca', (3, 0), 1),\n",
       "  ('tatttca', (3, 3), 1),\n",
       "  ('tattgaa', (3, 3), 1)],\n",
       " 73: [('aggtgca', (1, 0), 1), ('gattgct', (2, 4), 1)],\n",
       " 74: [('aagtgca', (2, 0), 1), ('aaataca', (2, 4), 1)],\n",
       " 75: [('gagtgct', (2, 0), 1), ('ttctgca', (2, 3), 1), ('tattaga', (3, 3), 1)],\n",
       " 76: [('tgttgca', (2, 0), 1),\n",
       "  ('gatgaca', (2, 4), 1),\n",
       "  ('cattgca', (3, 0), 1),\n",
       "  ('tatttca', (3, 3), 1)],\n",
       " 77: [('gggtgca', (0, 0), 1),\n",
       "  ('ggatgca', (1, 0), 1),\n",
       "  ('gtgtgca', (1, 0), 1),\n",
       "  ('gtttaca', (2, 2), 1),\n",
       "  ('ttctgca', (2, 3), 1),\n",
       "  ('gatttca', (2, 4), 1),\n",
       "  ('aaaagca', (2, 4), 1),\n",
       "  ('ttaggca', (2, 4), 1),\n",
       "  ('aagtgct', (3, 0), 1),\n",
       "  ('aagggca', (3, 0), 1),\n",
       "  ('aagtgaa', (3, 0), 1),\n",
       "  ('tattgaa', (3, 3), 1)],\n",
       " 78: [('aggtgca', (1, 0), 1),\n",
       "  ('tatagca', (2, 3), 1),\n",
       "  ('atatgca', (2, 4), 1),\n",
       "  ('ttgtgct', (3, 0), 1)],\n",
       " 79: [('aaataca', (2, 4), 1),\n",
       "  ('atttaca', (3, 2), 1),\n",
       "  ('ttttgaa', (3, 3), 1),\n",
       "  ('ttttgct', (3, 3), 1),\n",
       "  ('cattaca', (3, 4), 1)],\n",
       " 80: [('ttctgca', (2, 3), 1)],\n",
       " 81: [('ttttaca', (3, 2), 1)],\n",
       " 82: [('tagtaca', (3, 0), 1),\n",
       "  ('aagtaca', (3, 0), 1),\n",
       "  ('aactgca', (3, 0), 1),\n",
       "  ('atttaca', (3, 2), 1),\n",
       "  ('tattgcc', (3, 3), 1),\n",
       "  ('tttggca', (3, 3), 1)],\n",
       " 83: [('atttaca', (3, 2), 1)],\n",
       " 85: [('tatgaca', (3, 3), 1)],\n",
       " 86: [('aagagca', (3, 0), 1), ('tatttca', (3, 3), 1)],\n",
       " 87: [('gtgtgca', (1, 0), 1),\n",
       "  ('gatgaca', (2, 4), 1),\n",
       "  ('gattgct', (2, 4), 1),\n",
       "  ('ttttaca', (3, 2), 1),\n",
       "  ('tattgaa', (3, 3), 1),\n",
       "  ('ttttgaa', (3, 3), 1),\n",
       "  ('cattaca', (3, 4), 1)],\n",
       " 88: [('gaaagca', (1, 4), 1),\n",
       "  ('gagagca', (2, 0), 1),\n",
       "  ('aaaagca', (2, 4), 1),\n",
       "  ('cagagca', (3, 0), 1),\n",
       "  ('tatcaca', (3, 2), 1)],\n",
       " 89: [('gggtgca', (0, 0), 1),\n",
       "  ('tagcaca', (2, 2), 1),\n",
       "  ('gattgct', (2, 4), 1),\n",
       "  ('ttttgca', (3, 0), 1),\n",
       "  ('tagtgga', (3, 0), 1),\n",
       "  ('ttttgct', (3, 3), 1)],\n",
       " 90: [('ttgtgca', (2, 0), 1),\n",
       "  ('tgttgca', (2, 0), 1),\n",
       "  ('ttgtaca', (2, 2), 1),\n",
       "  ('aaaagca', (2, 4), 1),\n",
       "  ('aagagca', (3, 0), 1)],\n",
       " 91: [('tagaaca', (2, 3), 1),\n",
       "  ('ttgggca', (3, 0), 1),\n",
       "  ('tagtgct', (3, 0), 1),\n",
       "  ('tagtgcg', (3, 0), 1),\n",
       "  ('aagagca', (3, 0), 1),\n",
       "  ('atttaca', (3, 2), 1)],\n",
       " 92: [('gagtgga', (2, 0), 1), ('tatgaca', (3, 3), 1), ('ttttgct', (3, 3), 1)],\n",
       " 93: [('gggtgca', (0, 0), 1),\n",
       "  ('gtgcgca', (1, 2), 1),\n",
       "  ('atgtgca', (2, 0), 1),\n",
       "  ('gttggca', (2, 4), 1),\n",
       "  ('ttgtgta', (3, 0), 2)],\n",
       " 94: [('gtataca', (1, 4), 1),\n",
       "  ('agttgca', (2, 0), 1),\n",
       "  ('ttttgca', (3, 0), 1),\n",
       "  ('ttttgga', (3, 3), 1)],\n",
       " 95: [('aaataca', (2, 4), 1), ('tagtgcc', (3, 0), 1), ('aattgta', (3, 4), 1)],\n",
       " 96: [('ttttaca', (3, 2), 1), ('ttttgcg', (3, 3), 1)],\n",
       " 97: [('aaaagca', (2, 4), 1), ('aagtgga', (3, 0), 1), ('aagtaca', (3, 0), 1)],\n",
       " 98: [('ggttgca', (1, 0), 1),\n",
       "  ('taattca', (2, 4), 1),\n",
       "  ('tattgca', (3, 0), 1),\n",
       "  ('tatttca', (3, 3), 1),\n",
       "  ('aattaca', (3, 4), 1)],\n",
       " 99: [('cattgca', (3, 0), 1), ('ttttaca', (3, 2), 1), ('ttttgta', (3, 3), 1)],\n",
       " 100: [('tgtggca', (2, 3), 1), ('aagtgaa', (3, 0), 1)],\n",
       " 101: [('gggtgca', (0, 0), 1), ('aagggca', (3, 0), 1), ('tagtgct', (3, 0), 1)],\n",
       " 102: [('gggtgca', (0, 0), 1),\n",
       "  ('ggttaca', (2, 0), 1),\n",
       "  ('tactaca', (2, 3), 1),\n",
       "  ('tactgca', (2, 3), 1),\n",
       "  ('taatgga', (2, 4), 1),\n",
       "  ('aaatgca', (2, 4), 1),\n",
       "  ('aaataca', (2, 4), 1),\n",
       "  ('tagggca', (3, 0), 2),\n",
       "  ('ttttgct', (3, 3), 1)],\n",
       " 103: [('gaaggca', (1, 4), 1), ('tcgtgca', (2, 0), 1), ('tagtgaa', (3, 0), 1)],\n",
       " 104: [('tagggca', (3, 0), 1), ('ttttaca', (3, 2), 1)],\n",
       " 105: [('cggtgca', (1, 0), 1)],\n",
       " 106: [('tataaca', (2, 3), 1),\n",
       "  ('acttgca', (2, 4), 1),\n",
       "  ('atttgca', (3, 0), 1),\n",
       "  ('aagtgct', (3, 0), 1),\n",
       "  ('tattgct', (3, 3), 1),\n",
       "  ('tatttca', (3, 3), 1)],\n",
       " 107: [('ctttgca', (3, 0), 1), ('tatgaca', (3, 3), 1)],\n",
       " 108: [('ttctgca', (2, 3), 1),\n",
       "  ('aaaggca', (2, 4), 1),\n",
       "  ('aactgca', (3, 0), 1),\n",
       "  ('tagtgcc', (3, 0), 1),\n",
       "  ('aattgta', (3, 4), 1)],\n",
       " 109: [('acgtgca', (2, 0), 1), ('ctatgca', (2, 4), 1), ('atttaca', (3, 2), 1)],\n",
       " 110: [('tcatgca', (1, 4), 1), ('ttttgaa', (3, 3), 1)],\n",
       " 111: [('gtgcgca', (1, 2), 1), ('tattgta', (3, 3), 1)],\n",
       " 112: [('gggtgca', (0, 0), 1),\n",
       "  ('caatgca', (2, 4), 1),\n",
       "  ('gattgcg', (2, 4), 1),\n",
       "  ('tatttca', (3, 3), 1)],\n",
       " 113: [('tgtagca', (1, 3), 1), ('cgttgca', (2, 0), 1), ('aaaagca', (2, 4), 1)],\n",
       " 114: [('aggtgca', (1, 0), 1),\n",
       "  ('cggtgca', (1, 0), 1),\n",
       "  ('gagagca', (2, 0), 1),\n",
       "  ('gagtgta', (2, 0), 1),\n",
       "  ('tacggca', (2, 3), 1)]}"
      ]
     },
     "execution_count": 158,
     "metadata": {},
     "output_type": "execute_result"
    }
   ],
   "source": [
    "res = dict()\n",
    "\n",
    "for i,lst in pos.items() :\n",
    "    seq = peaks[i]\n",
    "\n",
    "    motifs = getMotifs(seq,lst,k)\n",
    "    motifs_freq = Counter(motifs)\n",
    "    stats = reduct_eval(motifs,aft1)\n",
    "    top = getTopEval(stats,len(stats))\n",
    "\n",
    "    res[i] = [(m,s,motifs_freq[m]) for m,s in top]\n",
    "\n",
    "res"
   ]
  },
  {
   "cell_type": "code",
   "execution_count": 159,
   "metadata": {},
   "outputs": [],
   "source": [
    "all_freq = dict()\n",
    "\n",
    "for i,lst in res.items() :\n",
    "    for (x,_,f) in lst :\n",
    "        if x in all_freq : all_freq[x] += f\n",
    "        else : all_freq[x] = f"
   ]
  },
  {
   "cell_type": "code",
   "execution_count": 160,
   "metadata": {},
   "outputs": [
    {
     "data": {
      "text/plain": [
       "{'gggtgca': 17,\n",
       " 'tatttca': 14,\n",
       " 'tattgaa': 13,\n",
       " 'aattgaa': 9,\n",
       " 'gaaagca': 9,\n",
       " 'atttaca': 9,\n",
       " 'aaataca': 9,\n",
       " 'aaaagca': 9,\n",
       " 'aggtgca': 8,\n",
       " 'aactgca': 7}"
      ]
     },
     "execution_count": 160,
     "metadata": {},
     "output_type": "execute_result"
    }
   ],
   "source": [
    "final_top = getTopMotifs(all_freq,10,True)\n",
    "final_top"
   ]
  },
  {
   "cell_type": "code",
   "execution_count": 219,
   "metadata": {},
   "outputs": [
    {
     "data": {
      "text/html": [
       "<div>\n",
       "<style scoped>\n",
       "    .dataframe tbody tr th:only-of-type {\n",
       "        vertical-align: middle;\n",
       "    }\n",
       "\n",
       "    .dataframe tbody tr th {\n",
       "        vertical-align: top;\n",
       "    }\n",
       "\n",
       "    .dataframe thead th {\n",
       "        text-align: right;\n",
       "    }\n",
       "</style>\n",
       "<table border=\"1\" class=\"dataframe\">\n",
       "  <thead>\n",
       "    <tr style=\"text-align: right;\">\n",
       "      <th></th>\n",
       "      <th>motif</th>\n",
       "      <th>match</th>\n",
       "      <th>distance</th>\n",
       "      <th>displacement</th>\n",
       "    </tr>\n",
       "  </thead>\n",
       "  <tbody>\n",
       "    <tr>\n",
       "      <th>0</th>\n",
       "      <td>gggtgca</td>\n",
       "      <td>gggtgca</td>\n",
       "      <td>0</td>\n",
       "      <td>0</td>\n",
       "    </tr>\n",
       "    <tr>\n",
       "      <th>1</th>\n",
       "      <td>tatttca</td>\n",
       "      <td>tgca</td>\n",
       "      <td>3</td>\n",
       "      <td>3</td>\n",
       "    </tr>\n",
       "    <tr>\n",
       "      <th>2</th>\n",
       "      <td>tattgaa</td>\n",
       "      <td>tgca</td>\n",
       "      <td>3</td>\n",
       "      <td>3</td>\n",
       "    </tr>\n",
       "    <tr>\n",
       "      <th>3</th>\n",
       "      <td>aattgaa</td>\n",
       "      <td>gca</td>\n",
       "      <td>3</td>\n",
       "      <td>4</td>\n",
       "    </tr>\n",
       "    <tr>\n",
       "      <th>4</th>\n",
       "      <td>gaaagca</td>\n",
       "      <td>gca</td>\n",
       "      <td>1</td>\n",
       "      <td>4</td>\n",
       "    </tr>\n",
       "    <tr>\n",
       "      <th>5</th>\n",
       "      <td>atttaca</td>\n",
       "      <td>gtgca</td>\n",
       "      <td>3</td>\n",
       "      <td>2</td>\n",
       "    </tr>\n",
       "    <tr>\n",
       "      <th>6</th>\n",
       "      <td>aaataca</td>\n",
       "      <td>gca</td>\n",
       "      <td>2</td>\n",
       "      <td>4</td>\n",
       "    </tr>\n",
       "    <tr>\n",
       "      <th>7</th>\n",
       "      <td>aaaagca</td>\n",
       "      <td>gca</td>\n",
       "      <td>2</td>\n",
       "      <td>4</td>\n",
       "    </tr>\n",
       "    <tr>\n",
       "      <th>8</th>\n",
       "      <td>aggtgca</td>\n",
       "      <td>gggtgca</td>\n",
       "      <td>1</td>\n",
       "      <td>0</td>\n",
       "    </tr>\n",
       "    <tr>\n",
       "      <th>9</th>\n",
       "      <td>aactgca</td>\n",
       "      <td>gggtgca</td>\n",
       "      <td>3</td>\n",
       "      <td>0</td>\n",
       "    </tr>\n",
       "  </tbody>\n",
       "</table>\n",
       "</div>"
      ],
      "text/plain": [
       "     motif    match  distance  displacement\n",
       "0  gggtgca  gggtgca         0             0\n",
       "1  tatttca     tgca         3             3\n",
       "2  tattgaa     tgca         3             3\n",
       "3  aattgaa      gca         3             4\n",
       "4  gaaagca      gca         1             4\n",
       "5  atttaca    gtgca         3             2\n",
       "6  aaataca      gca         2             4\n",
       "7  aaaagca      gca         2             4\n",
       "8  aggtgca  gggtgca         1             0\n",
       "9  aactgca  gggtgca         3             0"
      ]
     },
     "metadata": {},
     "output_type": "display_data"
    }
   ],
   "source": [
    "res_freq_mat = convert_df_eval(eval(final_top,aft1.lower()))\n",
    "display(res_freq_mat)"
   ]
  },
  {
   "cell_type": "markdown",
   "metadata": {},
   "source": [
    "HashTable\n",
    "| motif | match | distance | displacement |\n",
    "| :-: | :-: | :-: | :-: |\n",
    "| TGCACCC | TGCA | 0 | 3 |\n",
    "| GGGTGCA | GGGTGCA | 0 | 0 |\n",
    "| CTGCACC | GTGCA | 1 | 2 |\n",
    "| GTGCACC | GTGCA | 0 | 2 |\n",
    "| GCACCCT | GCA | 0 | 4 |\n",
    "\n",
    "Median String\n",
    "| motif | match | distance | displacement |\n",
    "| :-: | :-: | :-: | :-: |\n",
    "| TGCACCC | TGCA | 0 | 3 |\n",
    "| GGGTGCA | GGGTGCA | 0 | 0 |\n",
    "| GGTGCAC | GGTGCA | 0 | 1 |\n",
    "| GGTGCAG | GGTGCA | 0 | 1 |\n",
    "| CTGCACC | GTGCA | 1 | 2 |\n",
    "\n",
    "Suffix Trees\n",
    "| motif | match | distance | displacement | variation |\n",
    "| :-: | :-: | :-: | :-: | :-: |\n",
    "| GGGTGCA | GGGTGCA | 0 | 0 | original |\n",
    "| GGGTGTA | GGGTGCA | 1 | 0 | 1 |\n",
    "| GGGTGAA | GGGTGCA | 1 | 0 | 1 |\n",
    "| GGGTGCC | GGGTGCA | 1 | 0 | 1 |\n",
    "| GGGTGCT | GGGTGCA | 1 | 0 | 1"
   ]
  },
  {
   "cell_type": "code",
   "execution_count": null,
   "metadata": {},
   "outputs": [],
   "source": []
  }
 ],
 "metadata": {
  "kernelspec": {
   "display_name": ".venv",
   "language": "python",
   "name": "python3"
  },
  "language_info": {
   "codemirror_mode": {
    "name": "ipython",
    "version": 3
   },
   "file_extension": ".py",
   "mimetype": "text/x-python",
   "name": "python",
   "nbconvert_exporter": "python",
   "pygments_lexer": "ipython3",
   "version": "3.12.4"
  },
  "orig_nbformat": 4
 },
 "nbformat": 4,
 "nbformat_minor": 2
}
